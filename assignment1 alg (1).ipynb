{
 "cells": [
  {
   "cell_type": "code",
   "execution_count": 2,
   "id": "62cbb49b",
   "metadata": {},
   "outputs": [
    {
     "name": "stdout",
     "output_type": "stream",
     "text": [
      "Requirement already satisfied: yfinance in /Users/xingyulin/opt/anaconda3/lib/python3.9/site-packages (0.2.3)\n",
      "Requirement already satisfied: requests>=2.26 in /Users/xingyulin/opt/anaconda3/lib/python3.9/site-packages (from yfinance) (2.27.1)\n",
      "Requirement already satisfied: lxml>=4.9.1 in /Users/xingyulin/opt/anaconda3/lib/python3.9/site-packages (from yfinance) (4.9.2)\n",
      "Requirement already satisfied: cryptography>=3.3.2 in /Users/xingyulin/opt/anaconda3/lib/python3.9/site-packages (from yfinance) (3.4.8)\n",
      "Requirement already satisfied: beautifulsoup4>=4.11.1 in /Users/xingyulin/opt/anaconda3/lib/python3.9/site-packages (from yfinance) (4.11.1)\n",
      "Requirement already satisfied: appdirs>=1.4.4 in /Users/xingyulin/opt/anaconda3/lib/python3.9/site-packages (from yfinance) (1.4.4)\n",
      "Requirement already satisfied: pytz>=2022.5 in /Users/xingyulin/opt/anaconda3/lib/python3.9/site-packages (from yfinance) (2022.7)\n",
      "Requirement already satisfied: frozendict>=2.3.4 in /Users/xingyulin/opt/anaconda3/lib/python3.9/site-packages (from yfinance) (2.3.4)\n",
      "Requirement already satisfied: numpy>=1.16.5 in /Users/xingyulin/opt/anaconda3/lib/python3.9/site-packages (from yfinance) (1.21.5)\n",
      "Requirement already satisfied: multitasking>=0.0.7 in /Users/xingyulin/opt/anaconda3/lib/python3.9/site-packages (from yfinance) (0.0.11)\n",
      "Requirement already satisfied: html5lib>=1.1 in /Users/xingyulin/opt/anaconda3/lib/python3.9/site-packages (from yfinance) (1.1)\n",
      "Requirement already satisfied: pandas>=1.3.0 in /Users/xingyulin/opt/anaconda3/lib/python3.9/site-packages (from yfinance) (1.4.2)\n",
      "Requirement already satisfied: soupsieve>1.2 in /Users/xingyulin/opt/anaconda3/lib/python3.9/site-packages (from beautifulsoup4>=4.11.1->yfinance) (2.3.1)\n",
      "Requirement already satisfied: cffi>=1.12 in /Users/xingyulin/opt/anaconda3/lib/python3.9/site-packages (from cryptography>=3.3.2->yfinance) (1.15.0)\n",
      "Requirement already satisfied: pycparser in /Users/xingyulin/opt/anaconda3/lib/python3.9/site-packages (from cffi>=1.12->cryptography>=3.3.2->yfinance) (2.21)\n",
      "Requirement already satisfied: six>=1.9 in /Users/xingyulin/opt/anaconda3/lib/python3.9/site-packages (from html5lib>=1.1->yfinance) (1.16.0)\n",
      "Requirement already satisfied: webencodings in /Users/xingyulin/opt/anaconda3/lib/python3.9/site-packages (from html5lib>=1.1->yfinance) (0.5.1)\n",
      "Requirement already satisfied: python-dateutil>=2.8.1 in /Users/xingyulin/opt/anaconda3/lib/python3.9/site-packages (from pandas>=1.3.0->yfinance) (2.8.2)\n",
      "Requirement already satisfied: urllib3<1.27,>=1.21.1 in /Users/xingyulin/opt/anaconda3/lib/python3.9/site-packages (from requests>=2.26->yfinance) (1.26.9)\n",
      "Requirement already satisfied: certifi>=2017.4.17 in /Users/xingyulin/opt/anaconda3/lib/python3.9/site-packages (from requests>=2.26->yfinance) (2021.10.8)\n",
      "Requirement already satisfied: idna<4,>=2.5 in /Users/xingyulin/opt/anaconda3/lib/python3.9/site-packages (from requests>=2.26->yfinance) (3.3)\n",
      "Requirement already satisfied: charset-normalizer~=2.0.0 in /Users/xingyulin/opt/anaconda3/lib/python3.9/site-packages (from requests>=2.26->yfinance) (2.0.4)\n"
     ]
    }
   ],
   "source": [
    "!pip install yfinance"
   ]
  },
  {
   "cell_type": "code",
   "execution_count": 322,
   "id": "740aeb63",
   "metadata": {},
   "outputs": [],
   "source": [
    "import warnings\n",
    "warnings.filterwarnings('ignore')"
   ]
  },
  {
   "cell_type": "code",
   "execution_count": 166,
   "id": "c56b4e6a",
   "metadata": {},
   "outputs": [
    {
     "name": "stdout",
     "output_type": "stream",
     "text": [
      "[*********************100%***********************]  1 of 1 completed\n"
     ]
    }
   ],
   "source": [
    "%matplotlib inline\n",
    "import yfinance as yf\n",
    "import datetime\n",
    "import matplotlib.pyplot as plt\n",
    "\n",
    "\n",
    "start_sp = datetime.datetime(2021, 10, 22)\n",
    "end_sp = datetime.datetime(2022, 12, 31)\n",
    "\n",
    "\n",
    "aapl = yf.download('AAPL',start_sp,end_sp)"
   ]
  },
  {
   "cell_type": "code",
   "execution_count": 170,
   "id": "ca21ab7d",
   "metadata": {},
   "outputs": [
    {
     "data": {
      "text/html": [
       "<div>\n",
       "<style scoped>\n",
       "    .dataframe tbody tr th:only-of-type {\n",
       "        vertical-align: middle;\n",
       "    }\n",
       "\n",
       "    .dataframe tbody tr th {\n",
       "        vertical-align: top;\n",
       "    }\n",
       "\n",
       "    .dataframe thead th {\n",
       "        text-align: right;\n",
       "    }\n",
       "</style>\n",
       "<table border=\"1\" class=\"dataframe\">\n",
       "  <thead>\n",
       "    <tr style=\"text-align: right;\">\n",
       "      <th></th>\n",
       "      <th>Open</th>\n",
       "      <th>High</th>\n",
       "      <th>Low</th>\n",
       "      <th>Close</th>\n",
       "      <th>Adj Close</th>\n",
       "      <th>Volume</th>\n",
       "    </tr>\n",
       "    <tr>\n",
       "      <th>Date</th>\n",
       "      <th></th>\n",
       "      <th></th>\n",
       "      <th></th>\n",
       "      <th></th>\n",
       "      <th></th>\n",
       "      <th></th>\n",
       "    </tr>\n",
       "  </thead>\n",
       "  <tbody>\n",
       "    <tr>\n",
       "      <th>2021-10-22</th>\n",
       "      <td>149.690002</td>\n",
       "      <td>150.179993</td>\n",
       "      <td>148.639999</td>\n",
       "      <td>148.690002</td>\n",
       "      <td>147.616577</td>\n",
       "      <td>58883400</td>\n",
       "    </tr>\n",
       "    <tr>\n",
       "      <th>2021-10-25</th>\n",
       "      <td>148.679993</td>\n",
       "      <td>149.369995</td>\n",
       "      <td>147.619995</td>\n",
       "      <td>148.639999</td>\n",
       "      <td>147.566925</td>\n",
       "      <td>50720600</td>\n",
       "    </tr>\n",
       "    <tr>\n",
       "      <th>2021-10-26</th>\n",
       "      <td>149.330002</td>\n",
       "      <td>150.839996</td>\n",
       "      <td>149.009995</td>\n",
       "      <td>149.320007</td>\n",
       "      <td>148.242050</td>\n",
       "      <td>60893400</td>\n",
       "    </tr>\n",
       "    <tr>\n",
       "      <th>2021-10-27</th>\n",
       "      <td>149.360001</td>\n",
       "      <td>149.729996</td>\n",
       "      <td>148.490005</td>\n",
       "      <td>148.850006</td>\n",
       "      <td>147.775436</td>\n",
       "      <td>56094900</td>\n",
       "    </tr>\n",
       "    <tr>\n",
       "      <th>2021-10-28</th>\n",
       "      <td>149.820007</td>\n",
       "      <td>153.169998</td>\n",
       "      <td>149.720001</td>\n",
       "      <td>152.570007</td>\n",
       "      <td>151.468567</td>\n",
       "      <td>100077900</td>\n",
       "    </tr>\n",
       "    <tr>\n",
       "      <th>...</th>\n",
       "      <td>...</td>\n",
       "      <td>...</td>\n",
       "      <td>...</td>\n",
       "      <td>...</td>\n",
       "      <td>...</td>\n",
       "      <td>...</td>\n",
       "    </tr>\n",
       "    <tr>\n",
       "      <th>2022-12-23</th>\n",
       "      <td>130.919998</td>\n",
       "      <td>132.419998</td>\n",
       "      <td>129.639999</td>\n",
       "      <td>131.860001</td>\n",
       "      <td>131.860001</td>\n",
       "      <td>63814900</td>\n",
       "    </tr>\n",
       "    <tr>\n",
       "      <th>2022-12-27</th>\n",
       "      <td>131.380005</td>\n",
       "      <td>131.410004</td>\n",
       "      <td>128.720001</td>\n",
       "      <td>130.029999</td>\n",
       "      <td>130.029999</td>\n",
       "      <td>69007800</td>\n",
       "    </tr>\n",
       "    <tr>\n",
       "      <th>2022-12-28</th>\n",
       "      <td>129.669998</td>\n",
       "      <td>131.029999</td>\n",
       "      <td>125.870003</td>\n",
       "      <td>126.040001</td>\n",
       "      <td>126.040001</td>\n",
       "      <td>85438400</td>\n",
       "    </tr>\n",
       "    <tr>\n",
       "      <th>2022-12-29</th>\n",
       "      <td>127.989998</td>\n",
       "      <td>130.479996</td>\n",
       "      <td>127.730003</td>\n",
       "      <td>129.610001</td>\n",
       "      <td>129.610001</td>\n",
       "      <td>75703700</td>\n",
       "    </tr>\n",
       "    <tr>\n",
       "      <th>2022-12-30</th>\n",
       "      <td>128.410004</td>\n",
       "      <td>129.949997</td>\n",
       "      <td>127.430000</td>\n",
       "      <td>129.929993</td>\n",
       "      <td>129.929993</td>\n",
       "      <td>76960600</td>\n",
       "    </tr>\n",
       "  </tbody>\n",
       "</table>\n",
       "<p>300 rows × 6 columns</p>\n",
       "</div>"
      ],
      "text/plain": [
       "                  Open        High         Low       Close   Adj Close  \\\n",
       "Date                                                                     \n",
       "2021-10-22  149.690002  150.179993  148.639999  148.690002  147.616577   \n",
       "2021-10-25  148.679993  149.369995  147.619995  148.639999  147.566925   \n",
       "2021-10-26  149.330002  150.839996  149.009995  149.320007  148.242050   \n",
       "2021-10-27  149.360001  149.729996  148.490005  148.850006  147.775436   \n",
       "2021-10-28  149.820007  153.169998  149.720001  152.570007  151.468567   \n",
       "...                ...         ...         ...         ...         ...   \n",
       "2022-12-23  130.919998  132.419998  129.639999  131.860001  131.860001   \n",
       "2022-12-27  131.380005  131.410004  128.720001  130.029999  130.029999   \n",
       "2022-12-28  129.669998  131.029999  125.870003  126.040001  126.040001   \n",
       "2022-12-29  127.989998  130.479996  127.730003  129.610001  129.610001   \n",
       "2022-12-30  128.410004  129.949997  127.430000  129.929993  129.929993   \n",
       "\n",
       "               Volume  \n",
       "Date                   \n",
       "2021-10-22   58883400  \n",
       "2021-10-25   50720600  \n",
       "2021-10-26   60893400  \n",
       "2021-10-27   56094900  \n",
       "2021-10-28  100077900  \n",
       "...               ...  \n",
       "2022-12-23   63814900  \n",
       "2022-12-27   69007800  \n",
       "2022-12-28   85438400  \n",
       "2022-12-29   75703700  \n",
       "2022-12-30   76960600  \n",
       "\n",
       "[300 rows x 6 columns]"
      ]
     },
     "execution_count": 170,
     "metadata": {},
     "output_type": "execute_result"
    }
   ],
   "source": [
    "aapl"
   ]
  },
  {
   "cell_type": "markdown",
   "id": "f221c2f1",
   "metadata": {},
   "source": [
    "# Time series "
   ]
  },
  {
   "cell_type": "code",
   "execution_count": null,
   "id": "4810b0ce",
   "metadata": {},
   "outputs": [],
   "source": [
    "#1. plot price time series"
   ]
  },
  {
   "cell_type": "code",
   "execution_count": 171,
   "id": "128bfac6",
   "metadata": {},
   "outputs": [
    {
     "data": {
      "image/png": "[encoded data removed]",
      "text/plain": [
       "<Figure size 432x288 with 1 Axes>"
      ]
     },
     "metadata": {
      "needs_background": "light"
     },
     "output_type": "display_data"
    }
   ],
   "source": [
    "aapl['Close'].plot()\n",
    "plt.tight_layout()\n",
    "plt.title('Close Price')\n",
    "plt.grid()\n",
    "plt.show()"
   ]
  },
  {
   "cell_type": "markdown",
   "id": "34372345",
   "metadata": {},
   "source": [
    "# Moving averages"
   ]
  },
  {
   "cell_type": "code",
   "execution_count": 227,
   "id": "a3906cac",
   "metadata": {},
   "outputs": [],
   "source": [
    "#3. Define mathematically the moving average of the price time series with an arbitrary timewindow τ"
   ]
  },
  {
   "cell_type": "markdown",
   "id": "9db9950f",
   "metadata": {},
   "source": [
    "Moving average keeps updating the average data and find the average change through time. It is a dynamically updated weights. There are several kinds of moving average, such as simple moving average and exponential moving average.\n",
    "\n",
    "For SMA:  $s_{t-1} = 1/T \\sum_{1}^{T} r_{t-k}$\n",
    "\n",
    "For EWMA: $s_{t-1} = c(\\lambda)\\sum_{k=1}^{∞} \\lambda^k r_{t-k}$\n",
    "\n",
    "The longer the time, larger the lags. If the plot of the moving average shows an upward trend, then it indicates the data will very likely to move up later. In contrast, a downward trend will show that the data will move down with high possibility."
   ]
  },
  {
   "cell_type": "code",
   "execution_count": 46,
   "id": "a82a8d24",
   "metadata": {},
   "outputs": [],
   "source": [
    "#4. Compute three moving averages of the price time series, with time-windows τ = 10,20,30"
   ]
  },
  {
   "cell_type": "code",
   "execution_count": 52,
   "id": "4c097423",
   "metadata": {},
   "outputs": [],
   "source": [
    "def ma_f(data,window_size):\n",
    "    i = 0\n",
    "    ma_list = []\n",
    "    while i < len(data)-window_size+1:    \n",
    "        window = data[i:i+window_size]\n",
    "        window_average = sum(window)/window_size\n",
    "        ma_list.append(window_average)\n",
    "        i =i+1\n",
    "    return ma_list\n",
    "#print(moving_averages)"
   ]
  },
  {
   "cell_type": "code",
   "execution_count": 60,
   "id": "dd42bd24",
   "metadata": {},
   "outputs": [],
   "source": [
    "w10=ma_f(aapl['Close'],10)\n",
    "#print(len(ma_f(aapl['Close'],10)))\n",
    "w20=ma_f(aapl['Close'],20)\n",
    "w30=ma_f(aapl['Close'],30)\n",
    "\n",
    "#print(w10)"
   ]
  },
  {
   "cell_type": "code",
   "execution_count": 190,
   "id": "4777da94",
   "metadata": {},
   "outputs": [
    {
     "data": {
      "text/html": [
       "<div>\n",
       "<style scoped>\n",
       "    .dataframe tbody tr th:only-of-type {\n",
       "        vertical-align: middle;\n",
       "    }\n",
       "\n",
       "    .dataframe tbody tr th {\n",
       "        vertical-align: top;\n",
       "    }\n",
       "\n",
       "    .dataframe thead th {\n",
       "        text-align: right;\n",
       "    }\n",
       "</style>\n",
       "<table border=\"1\" class=\"dataframe\">\n",
       "  <thead>\n",
       "    <tr style=\"text-align: right;\">\n",
       "      <th></th>\n",
       "      <th>Open</th>\n",
       "      <th>High</th>\n",
       "      <th>Low</th>\n",
       "      <th>Close</th>\n",
       "      <th>Adj Close</th>\n",
       "      <th>Volume</th>\n",
       "      <th>ma_20</th>\n",
       "      <th>ma_30</th>\n",
       "      <th>ma_10</th>\n",
       "    </tr>\n",
       "    <tr>\n",
       "      <th>Date</th>\n",
       "      <th></th>\n",
       "      <th></th>\n",
       "      <th></th>\n",
       "      <th></th>\n",
       "      <th></th>\n",
       "      <th></th>\n",
       "      <th></th>\n",
       "      <th></th>\n",
       "      <th></th>\n",
       "    </tr>\n",
       "  </thead>\n",
       "  <tbody>\n",
       "    <tr>\n",
       "      <th>2021-10-22</th>\n",
       "      <td>149.690002</td>\n",
       "      <td>150.179993</td>\n",
       "      <td>148.639999</td>\n",
       "      <td>148.690002</td>\n",
       "      <td>147.616577</td>\n",
       "      <td>58883400</td>\n",
       "      <td>NaN</td>\n",
       "      <td>NaN</td>\n",
       "      <td>NaN</td>\n",
       "    </tr>\n",
       "    <tr>\n",
       "      <th>2021-10-25</th>\n",
       "      <td>148.679993</td>\n",
       "      <td>149.369995</td>\n",
       "      <td>147.619995</td>\n",
       "      <td>148.639999</td>\n",
       "      <td>147.566925</td>\n",
       "      <td>50720600</td>\n",
       "      <td>NaN</td>\n",
       "      <td>NaN</td>\n",
       "      <td>NaN</td>\n",
       "    </tr>\n",
       "    <tr>\n",
       "      <th>2021-10-26</th>\n",
       "      <td>149.330002</td>\n",
       "      <td>150.839996</td>\n",
       "      <td>149.009995</td>\n",
       "      <td>149.320007</td>\n",
       "      <td>148.242050</td>\n",
       "      <td>60893400</td>\n",
       "      <td>NaN</td>\n",
       "      <td>NaN</td>\n",
       "      <td>NaN</td>\n",
       "    </tr>\n",
       "    <tr>\n",
       "      <th>2021-10-27</th>\n",
       "      <td>149.360001</td>\n",
       "      <td>149.729996</td>\n",
       "      <td>148.490005</td>\n",
       "      <td>148.850006</td>\n",
       "      <td>147.775436</td>\n",
       "      <td>56094900</td>\n",
       "      <td>NaN</td>\n",
       "      <td>NaN</td>\n",
       "      <td>NaN</td>\n",
       "    </tr>\n",
       "    <tr>\n",
       "      <th>2021-10-28</th>\n",
       "      <td>149.820007</td>\n",
       "      <td>153.169998</td>\n",
       "      <td>149.720001</td>\n",
       "      <td>152.570007</td>\n",
       "      <td>151.468567</td>\n",
       "      <td>100077900</td>\n",
       "      <td>NaN</td>\n",
       "      <td>NaN</td>\n",
       "      <td>NaN</td>\n",
       "    </tr>\n",
       "    <tr>\n",
       "      <th>...</th>\n",
       "      <td>...</td>\n",
       "      <td>...</td>\n",
       "      <td>...</td>\n",
       "      <td>...</td>\n",
       "      <td>...</td>\n",
       "      <td>...</td>\n",
       "      <td>...</td>\n",
       "      <td>...</td>\n",
       "      <td>...</td>\n",
       "    </tr>\n",
       "    <tr>\n",
       "      <th>2022-12-23</th>\n",
       "      <td>130.919998</td>\n",
       "      <td>132.419998</td>\n",
       "      <td>129.639999</td>\n",
       "      <td>131.860001</td>\n",
       "      <td>131.860001</td>\n",
       "      <td>63814900</td>\n",
       "      <td>140.6610</td>\n",
       "      <td>143.646999</td>\n",
       "      <td>136.839000</td>\n",
       "    </tr>\n",
       "    <tr>\n",
       "      <th>2022-12-27</th>\n",
       "      <td>131.380005</td>\n",
       "      <td>131.410004</td>\n",
       "      <td>128.720001</td>\n",
       "      <td>130.029999</td>\n",
       "      <td>130.029999</td>\n",
       "      <td>69007800</td>\n",
       "      <td>139.9515</td>\n",
       "      <td>142.991332</td>\n",
       "      <td>135.392999</td>\n",
       "    </tr>\n",
       "    <tr>\n",
       "      <th>2022-12-28</th>\n",
       "      <td>129.669998</td>\n",
       "      <td>131.029999</td>\n",
       "      <td>125.870003</td>\n",
       "      <td>126.040001</td>\n",
       "      <td>126.040001</td>\n",
       "      <td>85438400</td>\n",
       "      <td>139.1950</td>\n",
       "      <td>142.249999</td>\n",
       "      <td>133.449999</td>\n",
       "    </tr>\n",
       "    <tr>\n",
       "      <th>2022-12-29</th>\n",
       "      <td>127.989998</td>\n",
       "      <td>130.479996</td>\n",
       "      <td>127.730003</td>\n",
       "      <td>129.610001</td>\n",
       "      <td>129.610001</td>\n",
       "      <td>75703700</td>\n",
       "      <td>138.2740</td>\n",
       "      <td>141.568999</td>\n",
       "      <td>132.089999</td>\n",
       "    </tr>\n",
       "    <tr>\n",
       "      <th>2022-12-30</th>\n",
       "      <td>128.410004</td>\n",
       "      <td>129.949997</td>\n",
       "      <td>127.430000</td>\n",
       "      <td>129.929993</td>\n",
       "      <td>129.929993</td>\n",
       "      <td>76960600</td>\n",
       "      <td>137.3550</td>\n",
       "      <td>140.940333</td>\n",
       "      <td>131.432998</td>\n",
       "    </tr>\n",
       "  </tbody>\n",
       "</table>\n",
       "<p>300 rows × 9 columns</p>\n",
       "</div>"
      ],
      "text/plain": [
       "                  Open        High         Low       Close   Adj Close  \\\n",
       "Date                                                                     \n",
       "2021-10-22  149.690002  150.179993  148.639999  148.690002  147.616577   \n",
       "2021-10-25  148.679993  149.369995  147.619995  148.639999  147.566925   \n",
       "2021-10-26  149.330002  150.839996  149.009995  149.320007  148.242050   \n",
       "2021-10-27  149.360001  149.729996  148.490005  148.850006  147.775436   \n",
       "2021-10-28  149.820007  153.169998  149.720001  152.570007  151.468567   \n",
       "...                ...         ...         ...         ...         ...   \n",
       "2022-12-23  130.919998  132.419998  129.639999  131.860001  131.860001   \n",
       "2022-12-27  131.380005  131.410004  128.720001  130.029999  130.029999   \n",
       "2022-12-28  129.669998  131.029999  125.870003  126.040001  126.040001   \n",
       "2022-12-29  127.989998  130.479996  127.730003  129.610001  129.610001   \n",
       "2022-12-30  128.410004  129.949997  127.430000  129.929993  129.929993   \n",
       "\n",
       "               Volume     ma_20       ma_30       ma_10  \n",
       "Date                                                     \n",
       "2021-10-22   58883400       NaN         NaN         NaN  \n",
       "2021-10-25   50720600       NaN         NaN         NaN  \n",
       "2021-10-26   60893400       NaN         NaN         NaN  \n",
       "2021-10-27   56094900       NaN         NaN         NaN  \n",
       "2021-10-28  100077900       NaN         NaN         NaN  \n",
       "...               ...       ...         ...         ...  \n",
       "2022-12-23   63814900  140.6610  143.646999  136.839000  \n",
       "2022-12-27   69007800  139.9515  142.991332  135.392999  \n",
       "2022-12-28   85438400  139.1950  142.249999  133.449999  \n",
       "2022-12-29   75703700  138.2740  141.568999  132.089999  \n",
       "2022-12-30   76960600  137.3550  140.940333  131.432998  \n",
       "\n",
       "[300 rows x 9 columns]"
      ]
     },
     "execution_count": 190,
     "metadata": {},
     "output_type": "execute_result"
    }
   ],
   "source": [
    "aapl['ma_10']=aapl['Close'].rolling(window=10).mean()\n",
    "aapl"
   ]
  },
  {
   "cell_type": "code",
   "execution_count": 347,
   "id": "8a90d6fb",
   "metadata": {},
   "outputs": [
    {
     "data": {
      "text/html": [
       "<div>\n",
       "<style scoped>\n",
       "    .dataframe tbody tr th:only-of-type {\n",
       "        vertical-align: middle;\n",
       "    }\n",
       "\n",
       "    .dataframe tbody tr th {\n",
       "        vertical-align: top;\n",
       "    }\n",
       "\n",
       "    .dataframe thead th {\n",
       "        text-align: right;\n",
       "    }\n",
       "</style>\n",
       "<table border=\"1\" class=\"dataframe\">\n",
       "  <thead>\n",
       "    <tr style=\"text-align: right;\">\n",
       "      <th></th>\n",
       "      <th>Open</th>\n",
       "      <th>High</th>\n",
       "      <th>Low</th>\n",
       "      <th>Close</th>\n",
       "      <th>Adj Close</th>\n",
       "      <th>Volume</th>\n",
       "      <th>ma_20</th>\n",
       "      <th>ma_30</th>\n",
       "      <th>ma_10</th>\n",
       "    </tr>\n",
       "    <tr>\n",
       "      <th>Date</th>\n",
       "      <th></th>\n",
       "      <th></th>\n",
       "      <th></th>\n",
       "      <th></th>\n",
       "      <th></th>\n",
       "      <th></th>\n",
       "      <th></th>\n",
       "      <th></th>\n",
       "      <th></th>\n",
       "    </tr>\n",
       "  </thead>\n",
       "  <tbody>\n",
       "    <tr>\n",
       "      <th>2021-10-22</th>\n",
       "      <td>149.690002</td>\n",
       "      <td>150.179993</td>\n",
       "      <td>148.639999</td>\n",
       "      <td>148.690002</td>\n",
       "      <td>147.616577</td>\n",
       "      <td>58883400</td>\n",
       "      <td>NaN</td>\n",
       "      <td>NaN</td>\n",
       "      <td>NaN</td>\n",
       "    </tr>\n",
       "    <tr>\n",
       "      <th>2021-10-25</th>\n",
       "      <td>148.679993</td>\n",
       "      <td>149.369995</td>\n",
       "      <td>147.619995</td>\n",
       "      <td>148.639999</td>\n",
       "      <td>147.566925</td>\n",
       "      <td>50720600</td>\n",
       "      <td>NaN</td>\n",
       "      <td>NaN</td>\n",
       "      <td>NaN</td>\n",
       "    </tr>\n",
       "    <tr>\n",
       "      <th>2021-10-26</th>\n",
       "      <td>149.330002</td>\n",
       "      <td>150.839996</td>\n",
       "      <td>149.009995</td>\n",
       "      <td>149.320007</td>\n",
       "      <td>148.242050</td>\n",
       "      <td>60893400</td>\n",
       "      <td>NaN</td>\n",
       "      <td>NaN</td>\n",
       "      <td>NaN</td>\n",
       "    </tr>\n",
       "    <tr>\n",
       "      <th>2021-10-27</th>\n",
       "      <td>149.360001</td>\n",
       "      <td>149.729996</td>\n",
       "      <td>148.490005</td>\n",
       "      <td>148.850006</td>\n",
       "      <td>147.775436</td>\n",
       "      <td>56094900</td>\n",
       "      <td>NaN</td>\n",
       "      <td>NaN</td>\n",
       "      <td>NaN</td>\n",
       "    </tr>\n",
       "    <tr>\n",
       "      <th>2021-10-28</th>\n",
       "      <td>149.820007</td>\n",
       "      <td>153.169998</td>\n",
       "      <td>149.720001</td>\n",
       "      <td>152.570007</td>\n",
       "      <td>151.468567</td>\n",
       "      <td>100077900</td>\n",
       "      <td>NaN</td>\n",
       "      <td>NaN</td>\n",
       "      <td>NaN</td>\n",
       "    </tr>\n",
       "    <tr>\n",
       "      <th>...</th>\n",
       "      <td>...</td>\n",
       "      <td>...</td>\n",
       "      <td>...</td>\n",
       "      <td>...</td>\n",
       "      <td>...</td>\n",
       "      <td>...</td>\n",
       "      <td>...</td>\n",
       "      <td>...</td>\n",
       "      <td>...</td>\n",
       "    </tr>\n",
       "    <tr>\n",
       "      <th>2022-12-23</th>\n",
       "      <td>130.919998</td>\n",
       "      <td>132.419998</td>\n",
       "      <td>129.639999</td>\n",
       "      <td>131.860001</td>\n",
       "      <td>131.860001</td>\n",
       "      <td>63814900</td>\n",
       "      <td>140.6610</td>\n",
       "      <td>143.646999</td>\n",
       "      <td>136.839000</td>\n",
       "    </tr>\n",
       "    <tr>\n",
       "      <th>2022-12-27</th>\n",
       "      <td>131.380005</td>\n",
       "      <td>131.410004</td>\n",
       "      <td>128.720001</td>\n",
       "      <td>130.029999</td>\n",
       "      <td>130.029999</td>\n",
       "      <td>69007800</td>\n",
       "      <td>139.9515</td>\n",
       "      <td>142.991332</td>\n",
       "      <td>135.392999</td>\n",
       "    </tr>\n",
       "    <tr>\n",
       "      <th>2022-12-28</th>\n",
       "      <td>129.669998</td>\n",
       "      <td>131.029999</td>\n",
       "      <td>125.870003</td>\n",
       "      <td>126.040001</td>\n",
       "      <td>126.040001</td>\n",
       "      <td>85438400</td>\n",
       "      <td>139.1950</td>\n",
       "      <td>142.249999</td>\n",
       "      <td>133.449999</td>\n",
       "    </tr>\n",
       "    <tr>\n",
       "      <th>2022-12-29</th>\n",
       "      <td>127.989998</td>\n",
       "      <td>130.479996</td>\n",
       "      <td>127.730003</td>\n",
       "      <td>129.610001</td>\n",
       "      <td>129.610001</td>\n",
       "      <td>75703700</td>\n",
       "      <td>138.2740</td>\n",
       "      <td>141.568999</td>\n",
       "      <td>132.089999</td>\n",
       "    </tr>\n",
       "    <tr>\n",
       "      <th>2022-12-30</th>\n",
       "      <td>128.410004</td>\n",
       "      <td>129.949997</td>\n",
       "      <td>127.430000</td>\n",
       "      <td>129.929993</td>\n",
       "      <td>129.929993</td>\n",
       "      <td>76960600</td>\n",
       "      <td>137.3550</td>\n",
       "      <td>140.940333</td>\n",
       "      <td>131.432998</td>\n",
       "    </tr>\n",
       "  </tbody>\n",
       "</table>\n",
       "<p>300 rows × 9 columns</p>\n",
       "</div>"
      ],
      "text/plain": [
       "                  Open        High         Low       Close   Adj Close  \\\n",
       "Date                                                                     \n",
       "2021-10-22  149.690002  150.179993  148.639999  148.690002  147.616577   \n",
       "2021-10-25  148.679993  149.369995  147.619995  148.639999  147.566925   \n",
       "2021-10-26  149.330002  150.839996  149.009995  149.320007  148.242050   \n",
       "2021-10-27  149.360001  149.729996  148.490005  148.850006  147.775436   \n",
       "2021-10-28  149.820007  153.169998  149.720001  152.570007  151.468567   \n",
       "...                ...         ...         ...         ...         ...   \n",
       "2022-12-23  130.919998  132.419998  129.639999  131.860001  131.860001   \n",
       "2022-12-27  131.380005  131.410004  128.720001  130.029999  130.029999   \n",
       "2022-12-28  129.669998  131.029999  125.870003  126.040001  126.040001   \n",
       "2022-12-29  127.989998  130.479996  127.730003  129.610001  129.610001   \n",
       "2022-12-30  128.410004  129.949997  127.430000  129.929993  129.929993   \n",
       "\n",
       "               Volume     ma_20       ma_30       ma_10  \n",
       "Date                                                     \n",
       "2021-10-22   58883400       NaN         NaN         NaN  \n",
       "2021-10-25   50720600       NaN         NaN         NaN  \n",
       "2021-10-26   60893400       NaN         NaN         NaN  \n",
       "2021-10-27   56094900       NaN         NaN         NaN  \n",
       "2021-10-28  100077900       NaN         NaN         NaN  \n",
       "...               ...       ...         ...         ...  \n",
       "2022-12-23   63814900  140.6610  143.646999  136.839000  \n",
       "2022-12-27   69007800  139.9515  142.991332  135.392999  \n",
       "2022-12-28   85438400  139.1950  142.249999  133.449999  \n",
       "2022-12-29   75703700  138.2740  141.568999  132.089999  \n",
       "2022-12-30   76960600  137.3550  140.940333  131.432998  \n",
       "\n",
       "[300 rows x 9 columns]"
      ]
     },
     "execution_count": 347,
     "metadata": {},
     "output_type": "execute_result"
    }
   ],
   "source": [
    "aapl['ma_10']=aapl['Close'].rolling(window=10).mean()\n",
    "aapl['ma_20']=aapl['Close'].rolling(window=20).mean()\n",
    "aapl['ma_30']=aapl['Close'].rolling(window=30).mean()\n",
    "aapl"
   ]
  },
  {
   "cell_type": "code",
   "execution_count": null,
   "id": "fe97aa81",
   "metadata": {},
   "outputs": [],
   "source": []
  },
  {
   "cell_type": "code",
   "execution_count": 192,
   "id": "0f9827ca",
   "metadata": {},
   "outputs": [],
   "source": [
    "#5. Plot the moving averages against the price time series"
   ]
  },
  {
   "cell_type": "code",
   "execution_count": 195,
   "id": "d31ea332",
   "metadata": {},
   "outputs": [
    {
     "data": {
      "text/plain": [
       "<matplotlib.legend.Legend at 0x7fa3f2692fd0>"
      ]
     },
     "execution_count": 195,
     "metadata": {},
     "output_type": "execute_result"
    },
    {
     "data": {
      "image/png": "[encoded data removed]",
      "text/plain": [
       "<Figure size 432x288 with 1 Axes>"
      ]
     },
     "metadata": {
      "needs_background": "light"
     },
     "output_type": "display_data"
    }
   ],
   "source": [
    "plt.plot(aapl.ma_10,color='grey',label = \"Moving Average 10\")\n",
    "plt.plot(aapl.ma_20,color='red',label = \"Moving Average 20\")\n",
    "plt.plot(aapl.ma_30,color='blue',label = \"Moving Average 30\")\n",
    "plt.plot(aapl['Close'],color='green',label = \"Appl price time series\")\n",
    "plt.legend()"
   ]
  },
  {
   "cell_type": "code",
   "execution_count": 196,
   "id": "3b1bde34",
   "metadata": {},
   "outputs": [],
   "source": [
    "#plt.plot(aapl['Close'],aapl.ma_10)"
   ]
  },
  {
   "cell_type": "code",
   "execution_count": 197,
   "id": "4b2ce857",
   "metadata": {},
   "outputs": [],
   "source": [
    "#plt.scatter(aapl['Close'],aapl.ma_10)\n",
    "#plt.scatter(aapl['Close'],aapl.ma_20)\n",
    "#plt.scatter(aapl['Close'],aapl.ma_30)"
   ]
  },
  {
   "cell_type": "code",
   "execution_count": null,
   "id": "6ff95acd",
   "metadata": {},
   "outputs": [],
   "source": [
    "#6. Compute the linear and log-return of the price time series"
   ]
  },
  {
   "cell_type": "markdown",
   "id": "423d6e2e",
   "metadata": {},
   "source": [
    "$log(R_t)=log(P_t)-log(P_{t-1})$\n",
    "\n",
    "$R_t=\\frac{(P_t-P_{t-1})}{p_{t-1}}$"
   ]
  },
  {
   "cell_type": "code",
   "execution_count": 348,
   "id": "870b13f5",
   "metadata": {},
   "outputs": [
    {
     "name": "stdout",
     "output_type": "stream",
     "text": [
      "Date\n",
      "2021-10-25   -0.000336\n",
      "2021-10-26    0.004564\n",
      "2021-10-27   -0.003153\n",
      "2021-10-28    0.024684\n",
      "2021-10-29   -0.018322\n",
      "                ...   \n",
      "2022-12-23   -0.002802\n",
      "2022-12-27   -0.013976\n",
      "2022-12-28   -0.031166\n",
      "2022-12-29    0.027931\n",
      "2022-12-30    0.002466\n",
      "Name: Close, Length: 299, dtype: float64\n",
      "Date\n",
      "2021-10-25   -0.000336\n",
      "2021-10-26    0.004575\n",
      "2021-10-27   -0.003148\n",
      "2021-10-28    0.024992\n",
      "2021-10-29   -0.018156\n",
      "                ...   \n",
      "2022-12-23   -0.002798\n",
      "2022-12-27   -0.013878\n",
      "2022-12-28   -0.030685\n",
      "2022-12-29    0.028324\n",
      "2022-12-30    0.002469\n",
      "Name: Close, Length: 299, dtype: float64\n"
     ]
    }
   ],
   "source": [
    "log_rets= (np.log(aapl.Close) - np.log(aapl.Close.shift(1))).dropna()\n",
    "print(log_rets)\n",
    "linear_rets = ((aapl.Close) /aapl.Close.shift(1) -1).dropna()\n",
    "print(linear_rets)"
   ]
  },
  {
   "cell_type": "code",
   "execution_count": null,
   "id": "ffb2478e",
   "metadata": {},
   "outputs": [],
   "source": [
    "#7. Plot the linear return against the log-return time series"
   ]
  },
  {
   "cell_type": "code",
   "execution_count": 200,
   "id": "6708b77a",
   "metadata": {},
   "outputs": [
    {
     "data": {
      "text/plain": [
       "<matplotlib.legend.Legend at 0x7fa3f27cdb50>"
      ]
     },
     "execution_count": 200,
     "metadata": {},
     "output_type": "execute_result"
    },
    {
     "data": {
      "image/png": "[encoded data removed]",
      "text/plain": [
       "<Figure size 432x288 with 1 Axes>"
      ]
     },
     "metadata": {
      "needs_background": "light"
     },
     "output_type": "display_data"
    }
   ],
   "source": [
    "plt.plot(log_rets,color='red',label = \"Log-return time series\")\n",
    "plt.plot(linear_rets,color='blue',label = \"Linear return\")\n",
    "plt.legend()"
   ]
  },
  {
   "cell_type": "code",
   "execution_count": 201,
   "id": "0dd3dc88",
   "metadata": {},
   "outputs": [],
   "source": [
    "#plt.plot(log_rets,linear_rets)"
   ]
  },
  {
   "cell_type": "code",
   "execution_count": 202,
   "id": "a501716f",
   "metadata": {},
   "outputs": [],
   "source": [
    "#plt.scatter(log_rets,linear_rets)"
   ]
  },
  {
   "cell_type": "code",
   "execution_count": 77,
   "id": "a1642e43",
   "metadata": {},
   "outputs": [],
   "source": [
    "#print(linear_rets)\n",
    "#print(log_rets)"
   ]
  },
  {
   "cell_type": "code",
   "execution_count": 86,
   "id": "de8c4e5a",
   "metadata": {},
   "outputs": [
    {
     "name": "stdout",
     "output_type": "stream",
     "text": [
      "Collecting pandas_datareader\n",
      "  Downloading pandas_datareader-0.10.0-py3-none-any.whl (109 kB)\n",
      "\u001b[K     |████████████████████████████████| 109 kB 6.3 MB/s eta 0:00:01\n",
      "\u001b[?25hRequirement already satisfied: requests>=2.19.0 in /Users/xingyulin/opt/anaconda3/lib/python3.9/site-packages (from pandas_datareader) (2.27.1)\n",
      "Requirement already satisfied: lxml in /Users/xingyulin/opt/anaconda3/lib/python3.9/site-packages (from pandas_datareader) (4.9.2)\n",
      "Requirement already satisfied: pandas>=0.23 in /Users/xingyulin/opt/anaconda3/lib/python3.9/site-packages (from pandas_datareader) (1.4.2)\n",
      "Requirement already satisfied: python-dateutil>=2.8.1 in /Users/xingyulin/opt/anaconda3/lib/python3.9/site-packages (from pandas>=0.23->pandas_datareader) (2.8.2)\n",
      "Requirement already satisfied: pytz>=2020.1 in /Users/xingyulin/opt/anaconda3/lib/python3.9/site-packages (from pandas>=0.23->pandas_datareader) (2022.7)\n",
      "Requirement already satisfied: numpy>=1.18.5 in /Users/xingyulin/opt/anaconda3/lib/python3.9/site-packages (from pandas>=0.23->pandas_datareader) (1.21.5)\n",
      "Requirement already satisfied: six>=1.5 in /Users/xingyulin/opt/anaconda3/lib/python3.9/site-packages (from python-dateutil>=2.8.1->pandas>=0.23->pandas_datareader) (1.16.0)\n",
      "Requirement already satisfied: urllib3<1.27,>=1.21.1 in /Users/xingyulin/opt/anaconda3/lib/python3.9/site-packages (from requests>=2.19.0->pandas_datareader) (1.26.9)\n",
      "Requirement already satisfied: charset-normalizer~=2.0.0 in /Users/xingyulin/opt/anaconda3/lib/python3.9/site-packages (from requests>=2.19.0->pandas_datareader) (2.0.4)\n",
      "Requirement already satisfied: certifi>=2017.4.17 in /Users/xingyulin/opt/anaconda3/lib/python3.9/site-packages (from requests>=2.19.0->pandas_datareader) (2021.10.8)\n",
      "Requirement already satisfied: idna<4,>=2.5 in /Users/xingyulin/opt/anaconda3/lib/python3.9/site-packages (from requests>=2.19.0->pandas_datareader) (3.3)\n",
      "Installing collected packages: pandas-datareader\n",
      "Successfully installed pandas-datareader-0.10.0\n"
     ]
    }
   ],
   "source": [
    "!pip install pandas_datareader"
   ]
  },
  {
   "cell_type": "markdown",
   "id": "7a7b09f2",
   "metadata": {},
   "source": [
    "# Time Series Analysis"
   ]
  },
  {
   "cell_type": "code",
   "execution_count": 91,
   "id": "973dc0eb",
   "metadata": {},
   "outputs": [],
   "source": [
    "import pandas\n",
    "%matplotlib inline\n",
    "import matplotlib.pyplot as plt\n",
    "import numpy as np\n",
    "\n",
    "from pandas_datareader import data as pdr\n",
    "\n",
    "import statsmodels\n",
    "import statsmodels.api as sm"
   ]
  },
  {
   "cell_type": "code",
   "execution_count": 228,
   "id": "d1dfaeb0",
   "metadata": {},
   "outputs": [],
   "source": [
    "#8. Define the auto-correlation function (for a stationary time-series)"
   ]
  },
  {
   "cell_type": "markdown",
   "id": "e79c8c5b",
   "metadata": {},
   "source": [
    "The mathematical formuala for autocorrelation function $\\rho_k =\\frac{Cov(e_t+e_{t+k })}{\\sigma^2}$, where the time series is stationary. This means that it doesn't depend on time. In time series, we calculate different time steps (lags) to find the correlations between the data points themselves. It is a way to find the correlation with itself.\n"
   ]
  },
  {
   "cell_type": "code",
   "execution_count": null,
   "id": "2e7bcb7f",
   "metadata": {},
   "outputs": [],
   "source": [
    "#9. Compute the auto-correlation function (ACF) of the price time series"
   ]
  },
  {
   "cell_type": "code",
   "execution_count": 212,
   "id": "120bb682",
   "metadata": {},
   "outputs": [],
   "source": [
    "close_aapl = aapl['Close']\n",
    "acf_aapl = statsmodels.tsa.stattools.acf(close_aapl)"
   ]
  },
  {
   "cell_type": "code",
   "execution_count": 213,
   "id": "ffe45240",
   "metadata": {},
   "outputs": [
    {
     "data": {
      "text/plain": [
       "array([1.        , 0.96078203, 0.92231115, 0.88743308, 0.85563346,\n",
       "       0.82588951, 0.7901401 , 0.75713222, 0.72314405, 0.69478986,\n",
       "       0.66498907, 0.64208303, 0.61657133, 0.59364492, 0.56789896,\n",
       "       0.53966434, 0.51482728, 0.49031151, 0.46810689, 0.44314312,\n",
       "       0.41798741, 0.39456291, 0.3707772 , 0.3462498 , 0.32195697])"
      ]
     },
     "execution_count": 213,
     "metadata": {},
     "output_type": "execute_result"
    }
   ],
   "source": [
    "acf_aapl"
   ]
  },
  {
   "cell_type": "code",
   "execution_count": null,
   "id": "90b42c7f",
   "metadata": {},
   "outputs": [],
   "source": [
    "#The first lag shows strong autocorrelation(1), because it indicates the autocorrelation with $Y_t$.\n",
    "#As lag becomes larger, the autocorrelation becomes smaller, because $Y_t$ mostly has nothing to do with itself a long time later.\n"
   ]
  },
  {
   "cell_type": "code",
   "execution_count": null,
   "id": "ae6ce302",
   "metadata": {},
   "outputs": [],
   "source": []
  },
  {
   "cell_type": "code",
   "execution_count": 214,
   "id": "8947814c",
   "metadata": {},
   "outputs": [],
   "source": [
    "#10. Plot the price ACF"
   ]
  },
  {
   "cell_type": "code",
   "execution_count": 215,
   "id": "334135b9",
   "metadata": {},
   "outputs": [
    {
     "data": {
      "text/plain": [
       "[<matplotlib.lines.Line2D at 0x7fa3e02cf070>]"
      ]
     },
     "execution_count": 215,
     "metadata": {},
     "output_type": "execute_result"
    },
    {
     "data": {
      "image/png": "[encoded data removed]",
      "text/plain": [
       "<Figure size 432x288 with 1 Axes>"
      ]
     },
     "metadata": {
      "needs_background": "light"
     },
     "output_type": "display_data"
    }
   ],
   "source": [
    "plt.plot(acf_aapl)"
   ]
  },
  {
   "cell_type": "code",
   "execution_count": null,
   "id": "7ebbc949",
   "metadata": {},
   "outputs": [],
   "source": [
    "#Two different codes are used to show the ACF and PACF plots. The first one can see the general trend, and the second one shows changes of the lags more clear.\n",
    "#The ACF plot of closed price time series shows a gradual decay trend."
   ]
  },
  {
   "cell_type": "code",
   "execution_count": 216,
   "id": "34b0b5b4",
   "metadata": {},
   "outputs": [],
   "source": [
    "#11. Compute the partial auto-correlation function (PACF) of the price time series"
   ]
  },
  {
   "cell_type": "code",
   "execution_count": 217,
   "id": "377443a8",
   "metadata": {},
   "outputs": [],
   "source": [
    "pacf_aapl = statsmodels.tsa.stattools.pacf(close_aapl)"
   ]
  },
  {
   "cell_type": "code",
   "execution_count": 218,
   "id": "c3e83527",
   "metadata": {},
   "outputs": [
    {
     "data": {
      "text/plain": [
       "array([ 1.00000000e+00,  9.63995347e-01, -1.11135531e-02,  2.95916168e-02,\n",
       "        2.47577040e-02,  1.38258854e-02, -1.00221087e-01,  2.13166087e-02,\n",
       "       -4.02401459e-02,  5.89634750e-02, -4.36439158e-02,  9.91470506e-02,\n",
       "       -6.10178198e-02,  4.26563239e-02, -7.67253277e-02, -3.26090668e-02,\n",
       "       -5.69832273e-04,  8.43204206e-03, -6.18226250e-03, -2.57154310e-02,\n",
       "       -3.03552951e-02,  2.10796638e-02, -4.54695742e-02, -2.45173451e-02,\n",
       "       -2.04634680e-02])"
      ]
     },
     "execution_count": 218,
     "metadata": {},
     "output_type": "execute_result"
    }
   ],
   "source": [
    "pacf_aapl"
   ]
  },
  {
   "cell_type": "code",
   "execution_count": 219,
   "id": "e254195d",
   "metadata": {},
   "outputs": [],
   "source": [
    "#12. Plot the price PACF"
   ]
  },
  {
   "cell_type": "code",
   "execution_count": 220,
   "id": "790f72e5",
   "metadata": {},
   "outputs": [
    {
     "data": {
      "text/plain": [
       "[<matplotlib.lines.Line2D at 0x7fa4238431c0>]"
      ]
     },
     "execution_count": 220,
     "metadata": {},
     "output_type": "execute_result"
    },
    {
     "data": {
      "image/png": "[encoded data removed]",
      "text/plain": [
       "<Figure size 432x288 with 1 Axes>"
      ]
     },
     "metadata": {
      "needs_background": "light"
     },
     "output_type": "display_data"
    }
   ],
   "source": [
    "plt.plot(pacf_aapl)"
   ]
  },
  {
   "cell_type": "code",
   "execution_count": null,
   "id": "4b2ed5ee",
   "metadata": {},
   "outputs": [],
   "source": [
    "#Pacf plot of closed price time series shows a sharp cutoff."
   ]
  },
  {
   "cell_type": "code",
   "execution_count": 221,
   "id": "ae5cde1d",
   "metadata": {},
   "outputs": [
    {
     "data": {
      "image/png": "[encoded data removed]",
      "text/plain": [
       "<Figure size 432x288 with 1 Axes>"
      ]
     },
     "metadata": {
      "needs_background": "light"
     },
     "output_type": "display_data"
    }
   ],
   "source": [
    "from statsmodels.graphics.tsaplots import plot_acf\n",
    "from statsmodels.graphics.tsaplots import plot_pacf\n",
    "plot_acf(close_aapl)\n",
    "\n",
    "plt.show()"
   ]
  },
  {
   "cell_type": "code",
   "execution_count": 226,
   "id": "49bd7525",
   "metadata": {},
   "outputs": [
    {
     "name": "stderr",
     "output_type": "stream",
     "text": [
      "/Users/xingyulin/opt/anaconda3/lib/python3.9/site-packages/statsmodels/graphics/tsaplots.py:348: FutureWarning: The default method 'yw' can produce PACF values outside of the [-1,1] interval. After 0.13, the default will change tounadjusted Yule-Walker ('ywm'). You can use this method now by setting method='ywm'.\n",
      "  warnings.warn(\n"
     ]
    },
    {
     "data": {
      "image/png": "[encoded data removed]",
      "text/plain": [
       "<Figure size 432x288 with 1 Axes>"
      ]
     },
     "metadata": {
      "needs_background": "light"
     },
     "output_type": "display_data"
    }
   ],
   "source": [
    "plot_pacf(close_aapl) \n",
    "\n",
    "plt.show()"
   ]
  },
  {
   "cell_type": "code",
   "execution_count": null,
   "id": "2b58f5e2",
   "metadata": {},
   "outputs": [],
   "source": [
    "#13. Compute the auto-correlation function (ACF) of the return time series & plot"
   ]
  },
  {
   "cell_type": "code",
   "execution_count": 362,
   "id": "fb9e9f67",
   "metadata": {},
   "outputs": [],
   "source": [
    "#return pacf & acf"
   ]
  },
  {
   "cell_type": "code",
   "execution_count": null,
   "id": "c2ce4de0",
   "metadata": {},
   "outputs": [],
   "source": [
    "#Here I choose to use linear return for convenience. "
   ]
  },
  {
   "cell_type": "code",
   "execution_count": 183,
   "id": "199aa211",
   "metadata": {},
   "outputs": [],
   "source": [
    "#r_aapl = close_aapl[:-1] / close_aapl[1:].values - 1\n",
    "#r_aapl = ((aapl.Close) /aapl.Close.shift(1) -1).dropna()\n",
    "r_aapl = close_aapl[1:]/close_aapl[:-1].values - 1"
   ]
  },
  {
   "cell_type": "code",
   "execution_count": 184,
   "id": "963b32c7",
   "metadata": {},
   "outputs": [
    {
     "name": "stdout",
     "output_type": "stream",
     "text": [
      "[ 1.         -0.02186086 -0.08917166 -0.02799636 -0.01482845  0.0840374\n",
      " -0.01448748 -0.02551101 -0.07812503  0.07000609 -0.10811277  0.05069111\n",
      " -0.05570437  0.04278534  0.00302649 -0.04851131 -0.01796379 -0.0039516\n",
      "  0.07165953  0.01933902  0.05212804  0.00119642 -0.05819966 -0.00301655]\n"
     ]
    },
    {
     "data": {
      "image/png": "[encoded data removed]",
      "text/plain": [
       "<Figure size 432x288 with 1 Axes>"
      ]
     },
     "metadata": {
      "needs_background": "light"
     },
     "output_type": "display_data"
    }
   ],
   "source": [
    "r_acf_aapl = statsmodels.tsa.stattools.acf(r_aapl)\n",
    "print(r_acf_aapl)\n",
    "plt.plot(r_acf_aapl)\n",
    "plt.show()"
   ]
  },
  {
   "cell_type": "code",
   "execution_count": null,
   "id": "3dbfcef3",
   "metadata": {},
   "outputs": [],
   "source": [
    "#Acf plot of linear return shows a sharp cutoff. The plot shows that it roughly cuts off at lag=1."
   ]
  },
  {
   "cell_type": "code",
   "execution_count": 185,
   "id": "db70cb82",
   "metadata": {},
   "outputs": [],
   "source": [
    "#15. Compute the partial auto-correlation function (PACF) of the return time series & plot"
   ]
  },
  {
   "cell_type": "code",
   "execution_count": 186,
   "id": "316fcab0",
   "metadata": {},
   "outputs": [
    {
     "name": "stdout",
     "output_type": "stream",
     "text": [
      "[ 1.         -0.02194866 -0.09041609 -0.03275571 -0.02499148  0.07995895\n",
      " -0.01528951 -0.01328225 -0.08164369  0.06907572 -0.13618914  0.06330145\n",
      " -0.08357786  0.07293309 -0.0355908  -0.01461992 -0.0509467   0.01833102\n",
      "  0.02939703  0.05594024  0.03775129  0.05374867 -0.09206284  0.01671816]\n"
     ]
    },
    {
     "data": {
      "image/png": "[encoded data removed]",
      "text/plain": [
       "<Figure size 432x288 with 1 Axes>"
      ]
     },
     "metadata": {
      "needs_background": "light"
     },
     "output_type": "display_data"
    }
   ],
   "source": [
    "r_pacf_aapl = statsmodels.tsa.stattools.pacf(r_aapl)\n",
    "print(r_pacf_aapl)\n",
    "plt.plot(r_pacf_aapl)\n",
    "plt.show()"
   ]
  },
  {
   "cell_type": "code",
   "execution_count": null,
   "id": "978a1ed6",
   "metadata": {},
   "outputs": [],
   "source": [
    "#Pacf plot of linear return shows a sharp cutoff. The plot shows that it roughly cuts off at lag=1 as well."
   ]
  },
  {
   "cell_type": "code",
   "execution_count": 358,
   "id": "febf1885",
   "metadata": {},
   "outputs": [
    {
     "data": {
      "image/png": "[encoded data removed]",
      "text/plain": [
       "<Figure size 432x288 with 1 Axes>"
      ]
     },
     "metadata": {
      "needs_background": "light"
     },
     "output_type": "display_data"
    },
    {
     "data": {
      "image/png": "[encoded data removed]",
      "text/plain": [
       "<Figure size 432x288 with 1 Axes>"
      ]
     },
     "metadata": {
      "needs_background": "light"
     },
     "output_type": "display_data"
    }
   ],
   "source": [
    "plot_pacf(r_aapl,lags=10) \n",
    "plot_acf(r_aapl) \n",
    "plt.show()"
   ]
  },
  {
   "cell_type": "markdown",
   "id": "36819b1b",
   "metadata": {},
   "source": [
    "# ARMA models "
   ]
  },
  {
   "cell_type": "code",
   "execution_count": 349,
   "id": "5d32c103",
   "metadata": {},
   "outputs": [],
   "source": [
    "#17.Define mathematically an ARMA(p,q) model"
   ]
  },
  {
   "cell_type": "markdown",
   "id": "375d7d75",
   "metadata": {},
   "source": [
    "The definition is: $y_t-\\phi_1y_{t-1}-\\phi_2y_{t-2}-...\\phi_py_{t-p}=\\epsilon_t+\\theta_1\\epsilon_{t-1}+\\theta_q\\epsilon_{t-q}$, where p=AR terms and q=MA terms. $\\epsilon$ is the independent identically distributed white noise. It is a combination of Autoregressive model and moving average model."
   ]
  },
  {
   "cell_type": "code",
   "execution_count": 132,
   "id": "141f6b22",
   "metadata": {},
   "outputs": [],
   "source": [
    "from statsmodels.tsa.arima.model import ARIMA"
   ]
  },
  {
   "cell_type": "code",
   "execution_count": null,
   "id": "3c55df12",
   "metadata": {},
   "outputs": [],
   "source": [
    "#18. Define a training and test set and fit an ARMA model to the price time series"
   ]
  },
  {
   "cell_type": "code",
   "execution_count": 366,
   "id": "4779e3b5",
   "metadata": {},
   "outputs": [],
   "source": [
    "X = close_aapl.values\n",
    "train, test = X[0:len(X)-210], X[len(X)-210:]\n",
    "#model = ARIMA(train, order=(1,0,1))\n",
    "#model_fit = model.fit()"
   ]
  },
  {
   "cell_type": "code",
   "execution_count": 367,
   "id": "b58d0f1a",
   "metadata": {},
   "outputs": [],
   "source": [
    "from statsmodels.tsa.stattools import adfuller"
   ]
  },
  {
   "cell_type": "code",
   "execution_count": 368,
   "id": "fee4f7c4",
   "metadata": {},
   "outputs": [],
   "source": [
    "#To fit an arma model, we first need the time series to be stationary. Here, Dickey-fuller test is used to test the stationarity. The null hypothesis for this test is： there exists a unit root.\n",
    "# The p-value for the adf test on price time series is 0.24945957461065482, which is much bigger than 5% significance level. We can't reject the null hypothesis and thus the time series is not staionary."
   ]
  },
  {
   "cell_type": "code",
   "execution_count": 369,
   "id": "ddb7b728",
   "metadata": {},
   "outputs": [
    {
     "name": "stdout",
     "output_type": "stream",
     "text": [
      "(-2.087772760623562, 0.24945957461065482, 1, 88, {'1%': -3.506944401824286, '5%': -2.894989819214876, '10%': -2.584614550619835}, 388.98933121920663)\n"
     ]
    }
   ],
   "source": [
    "print(statsmodels.tsa.stattools.adfuller(train))#since the p-value is much larger than 5%, the data is not stationary."
   ]
  },
  {
   "cell_type": "code",
   "execution_count": 258,
   "id": "266d3c91",
   "metadata": {},
   "outputs": [],
   "source": [
    "aapl_diff = aapl.diff()\n",
    "aapl_diff = aapl_diff.dropna()"
   ]
  },
  {
   "cell_type": "code",
   "execution_count": 370,
   "id": "84dfa37a",
   "metadata": {},
   "outputs": [],
   "source": [
    "#diff = aapl_diff.values\n",
    "train_diff, test_diff = aapl_diff[0:len(aapl_diff)-210], aapl_diff[len(aapl_diff)-210:]\n",
    "#print(train_diff)"
   ]
  },
  {
   "cell_type": "code",
   "execution_count": 371,
   "id": "0f4cfd7c",
   "metadata": {},
   "outputs": [
    {
     "name": "stdout",
     "output_type": "stream",
     "text": [
      "(-6.475181332676155, 1.3366408564221298e-08, 0, 59, {'1%': -3.5463945337644063, '5%': -2.911939409384601, '10%': -2.5936515282964665}, 241.22842919036162)\n"
     ]
    }
   ],
   "source": [
    "result_diff = adfuller(train_diff['Close'])\n",
    "print(result_diff)\n",
    "#To make it a stationary data, I differentiate the data once and do the adf test again. The p-value for this time is:1.3366408564221298e-08, which is much smaller than 5% and thus, we can reject it.\n",
    "#now the p-value is 4.98e-20, which is much smaller than 5%. So the data is stationary now."
   ]
  },
  {
   "cell_type": "code",
   "execution_count": 284,
   "id": "398f4e0c",
   "metadata": {},
   "outputs": [
    {
     "name": "stderr",
     "output_type": "stream",
     "text": [
      "/Users/xingyulin/opt/anaconda3/lib/python3.9/site-packages/statsmodels/graphics/tsaplots.py:348: FutureWarning: The default method 'yw' can produce PACF values outside of the [-1,1] interval. After 0.13, the default will change tounadjusted Yule-Walker ('ywm'). You can use this method now by setting method='ywm'.\n",
      "  warnings.warn(\n"
     ]
    },
    {
     "data": {
      "image/png": "[encoded data removed]",
      "text/plain": [
       "<Figure size 432x288 with 1 Axes>"
      ]
     },
     "metadata": {
      "needs_background": "light"
     },
     "output_type": "display_data"
    },
    {
     "data": {
      "image/png": "[encoded data removed]",
      "text/plain": [
       "<Figure size 432x288 with 1 Axes>"
      ]
     },
     "metadata": {
      "needs_background": "light"
     },
     "output_type": "display_data"
    }
   ],
   "source": [
    "plot_pacf(train_diff['Close']) \n",
    "plot_acf(train_diff['Close']) \n",
    "plt.show()"
   ]
  },
  {
   "cell_type": "code",
   "execution_count": 297,
   "id": "bcd678ff",
   "metadata": {},
   "outputs": [
    {
     "name": "stdout",
     "output_type": "stream",
     "text": [
      "Collecting pmdarima\n",
      "  Downloading pmdarima-2.0.2-cp39-cp39-macosx_10_9_x86_64.whl (608 kB)\n",
      "\u001b[K     |████████████████████████████████| 608 kB 203 kB/s eta 0:00:01\n",
      "\u001b[?25hRequirement already satisfied: urllib3 in /Users/xingyulin/opt/anaconda3/lib/python3.9/site-packages (from pmdarima) (1.26.9)\n",
      "Requirement already satisfied: setuptools!=50.0.0,>=38.6.0 in /Users/xingyulin/opt/anaconda3/lib/python3.9/site-packages (from pmdarima) (61.2.0)\n",
      "Requirement already satisfied: statsmodels>=0.13.2 in /Users/xingyulin/opt/anaconda3/lib/python3.9/site-packages (from pmdarima) (0.13.2)\n",
      "Requirement already satisfied: pandas>=0.19 in /Users/xingyulin/opt/anaconda3/lib/python3.9/site-packages (from pmdarima) (1.4.2)\n",
      "Requirement already satisfied: numpy>=1.21.2 in /Users/xingyulin/opt/anaconda3/lib/python3.9/site-packages (from pmdarima) (1.21.5)\n",
      "Requirement already satisfied: scipy>=1.3.2 in /Users/xingyulin/opt/anaconda3/lib/python3.9/site-packages (from pmdarima) (1.7.3)\n",
      "Requirement already satisfied: joblib>=0.11 in /Users/xingyulin/opt/anaconda3/lib/python3.9/site-packages (from pmdarima) (1.1.0)\n",
      "Requirement already satisfied: scikit-learn>=0.22 in /Users/xingyulin/opt/anaconda3/lib/python3.9/site-packages (from pmdarima) (1.0.2)\n",
      "Requirement already satisfied: Cython!=0.29.18,!=0.29.31,>=0.29 in /Users/xingyulin/opt/anaconda3/lib/python3.9/site-packages (from pmdarima) (0.29.28)\n",
      "Requirement already satisfied: python-dateutil>=2.8.1 in /Users/xingyulin/opt/anaconda3/lib/python3.9/site-packages (from pandas>=0.19->pmdarima) (2.8.2)\n",
      "Requirement already satisfied: pytz>=2020.1 in /Users/xingyulin/opt/anaconda3/lib/python3.9/site-packages (from pandas>=0.19->pmdarima) (2022.7)\n",
      "Requirement already satisfied: six>=1.5 in /Users/xingyulin/opt/anaconda3/lib/python3.9/site-packages (from python-dateutil>=2.8.1->pandas>=0.19->pmdarima) (1.16.0)\n",
      "Requirement already satisfied: threadpoolctl>=2.0.0 in /Users/xingyulin/opt/anaconda3/lib/python3.9/site-packages (from scikit-learn>=0.22->pmdarima) (2.2.0)\n",
      "Requirement already satisfied: packaging>=21.3 in /Users/xingyulin/opt/anaconda3/lib/python3.9/site-packages (from statsmodels>=0.13.2->pmdarima) (21.3)\n",
      "Requirement already satisfied: patsy>=0.5.2 in /Users/xingyulin/opt/anaconda3/lib/python3.9/site-packages (from statsmodels>=0.13.2->pmdarima) (0.5.2)\n",
      "Requirement already satisfied: pyparsing!=3.0.5,>=2.0.2 in /Users/xingyulin/opt/anaconda3/lib/python3.9/site-packages (from packaging>=21.3->statsmodels>=0.13.2->pmdarima) (3.0.4)\n",
      "Installing collected packages: pmdarima\n",
      "Successfully installed pmdarima-2.0.2\n"
     ]
    }
   ],
   "source": [
    "!pip install pmdarima"
   ]
  },
  {
   "cell_type": "code",
   "execution_count": 318,
   "id": "8ca96342",
   "metadata": {},
   "outputs": [],
   "source": [
    "#use aic rule to find the optimal model\n",
    "\n",
    "import pmdarima as pmd\n",
    "\n",
    "def arimamodel(timeseriesarray):\n",
    "    autoarima_model = pmd.auto_arima(timeseriesarray, \n",
    "                              start_p=0, \n",
    "                              start_q=0,\n",
    "                              trace=True)\n",
    "    return autoarima_model"
   ]
  },
  {
   "cell_type": "code",
   "execution_count": 372,
   "id": "3e4ca59e",
   "metadata": {},
   "outputs": [
    {
     "name": "stdout",
     "output_type": "stream",
     "text": [
      "Performing stepwise search to minimize aic\n",
      " ARIMA(0,1,0)(0,0,0)[0] intercept   : AIC=446.094, Time=0.51 sec\n",
      " ARIMA(1,1,0)(0,0,0)[0] intercept   : AIC=446.690, Time=0.06 sec\n",
      " ARIMA(0,1,1)(0,0,0)[0] intercept   : AIC=446.365, Time=0.05 sec\n",
      " ARIMA(0,1,0)(0,0,0)[0]             : AIC=444.520, Time=0.03 sec\n",
      " ARIMA(1,1,1)(0,0,0)[0] intercept   : AIC=444.221, Time=0.07 sec\n",
      " ARIMA(2,1,1)(0,0,0)[0] intercept   : AIC=449.260, Time=0.07 sec\n",
      " ARIMA(1,1,2)(0,0,0)[0] intercept   : AIC=446.213, Time=0.07 sec\n",
      " ARIMA(0,1,2)(0,0,0)[0] intercept   : AIC=447.385, Time=0.02 sec\n",
      " ARIMA(2,1,0)(0,0,0)[0] intercept   : AIC=447.744, Time=0.02 sec\n",
      " ARIMA(2,1,2)(0,0,0)[0] intercept   : AIC=inf, Time=0.15 sec\n",
      " ARIMA(1,1,1)(0,0,0)[0]             : AIC=442.591, Time=0.03 sec\n",
      " ARIMA(0,1,1)(0,0,0)[0]             : AIC=444.709, Time=0.01 sec\n",
      " ARIMA(1,1,0)(0,0,0)[0]             : AIC=445.037, Time=0.01 sec\n",
      " ARIMA(2,1,1)(0,0,0)[0]             : AIC=447.864, Time=0.02 sec\n",
      " ARIMA(1,1,2)(0,0,0)[0]             : AIC=444.587, Time=0.03 sec\n",
      " ARIMA(0,1,2)(0,0,0)[0]             : AIC=445.811, Time=0.01 sec\n",
      " ARIMA(2,1,0)(0,0,0)[0]             : AIC=446.160, Time=0.01 sec\n",
      " ARIMA(2,1,2)(0,0,0)[0]             : AIC=446.210, Time=0.04 sec\n",
      "\n",
      "Best model:  ARIMA(1,1,1)(0,0,0)[0]          \n",
      "Total fit time: 1.720 seconds\n"
     ]
    },
    {
     "data": {
      "text/html": [
       "<table class=\"simpletable\">\n",
       "<caption>SARIMAX Results</caption>\n",
       "<tr>\n",
       "  <th>Dep. Variable:</th>           <td>y</td>        <th>  No. Observations:  </th>    <td>90</td>   \n",
       "</tr>\n",
       "<tr>\n",
       "  <th>Model:</th>           <td>SARIMAX(1, 1, 1)</td> <th>  Log Likelihood     </th> <td>-218.296</td>\n",
       "</tr>\n",
       "<tr>\n",
       "  <th>Date:</th>            <td>Thu, 16 Feb 2023</td> <th>  AIC                </th>  <td>442.591</td>\n",
       "</tr>\n",
       "<tr>\n",
       "  <th>Time:</th>                <td>13:02:52</td>     <th>  BIC                </th>  <td>450.057</td>\n",
       "</tr>\n",
       "<tr>\n",
       "  <th>Sample:</th>                  <td>0</td>        <th>  HQIC               </th>  <td>445.600</td>\n",
       "</tr>\n",
       "<tr>\n",
       "  <th></th>                       <td> - 90</td>      <th>                     </th>     <td> </td>   \n",
       "</tr>\n",
       "<tr>\n",
       "  <th>Covariance Type:</th>        <td>opg</td>       <th>                     </th>     <td> </td>   \n",
       "</tr>\n",
       "</table>\n",
       "<table class=\"simpletable\">\n",
       "<tr>\n",
       "     <td></td>       <th>coef</th>     <th>std err</th>      <th>z</th>      <th>P>|z|</th>  <th>[0.025</th>    <th>0.975]</th>  \n",
       "</tr>\n",
       "<tr>\n",
       "  <th>ar.L1</th>  <td>   -0.7035</td> <td>    0.159</td> <td>   -4.415</td> <td> 0.000</td> <td>   -1.016</td> <td>   -0.391</td>\n",
       "</tr>\n",
       "<tr>\n",
       "  <th>ma.L1</th>  <td>    0.9034</td> <td>    0.108</td> <td>    8.380</td> <td> 0.000</td> <td>    0.692</td> <td>    1.115</td>\n",
       "</tr>\n",
       "<tr>\n",
       "  <th>sigma2</th> <td>    7.8744</td> <td>    0.867</td> <td>    9.081</td> <td> 0.000</td> <td>    6.175</td> <td>    9.574</td>\n",
       "</tr>\n",
       "</table>\n",
       "<table class=\"simpletable\">\n",
       "<tr>\n",
       "  <th>Ljung-Box (L1) (Q):</th>     <td>0.00</td> <th>  Jarque-Bera (JB):  </th> <td>15.88</td>\n",
       "</tr>\n",
       "<tr>\n",
       "  <th>Prob(Q):</th>                <td>0.95</td> <th>  Prob(JB):          </th> <td>0.00</td> \n",
       "</tr>\n",
       "<tr>\n",
       "  <th>Heteroskedasticity (H):</th> <td>1.78</td> <th>  Skew:              </th> <td>0.58</td> \n",
       "</tr>\n",
       "<tr>\n",
       "  <th>Prob(H) (two-sided):</th>    <td>0.12</td> <th>  Kurtosis:          </th> <td>4.71</td> \n",
       "</tr>\n",
       "</table><br/><br/>Warnings:<br/>[1] Covariance matrix calculated using the outer product of gradients (complex-step)."
      ],
      "text/plain": [
       "<class 'statsmodels.iolib.summary.Summary'>\n",
       "\"\"\"\n",
       "                               SARIMAX Results                                \n",
       "==============================================================================\n",
       "Dep. Variable:                      y   No. Observations:                   90\n",
       "Model:               SARIMAX(1, 1, 1)   Log Likelihood                -218.296\n",
       "Date:                Thu, 16 Feb 2023   AIC                            442.591\n",
       "Time:                        13:02:52   BIC                            450.057\n",
       "Sample:                             0   HQIC                           445.600\n",
       "                                 - 90                                         \n",
       "Covariance Type:                  opg                                         \n",
       "==============================================================================\n",
       "                 coef    std err          z      P>|z|      [0.025      0.975]\n",
       "------------------------------------------------------------------------------\n",
       "ar.L1         -0.7035      0.159     -4.415      0.000      -1.016      -0.391\n",
       "ma.L1          0.9034      0.108      8.380      0.000       0.692       1.115\n",
       "sigma2         7.8744      0.867      9.081      0.000       6.175       9.574\n",
       "===================================================================================\n",
       "Ljung-Box (L1) (Q):                   0.00   Jarque-Bera (JB):                15.88\n",
       "Prob(Q):                              0.95   Prob(JB):                         0.00\n",
       "Heteroskedasticity (H):               1.78   Skew:                             0.58\n",
       "Prob(H) (two-sided):                  0.12   Kurtosis:                         4.71\n",
       "===================================================================================\n",
       "\n",
       "Warnings:\n",
       "[1] Covariance matrix calculated using the outer product of gradients (complex-step).\n",
       "\"\"\""
      ]
     },
     "execution_count": 372,
     "metadata": {},
     "output_type": "execute_result"
    }
   ],
   "source": [
    "arima_model = arimamodel(train)\n",
    "arima_model.summary()"
   ]
  },
  {
   "cell_type": "code",
   "execution_count": null,
   "id": "af573859",
   "metadata": {},
   "outputs": [],
   "source": [
    "#To find a more accurate lag, I used the auto_arima equation in python, which can automatically help me pick the right lag in the data"
   ]
  },
  {
   "cell_type": "code",
   "execution_count": 373,
   "id": "4da9b57e",
   "metadata": {},
   "outputs": [
    {
     "name": "stdout",
     "output_type": "stream",
     "text": [
      "{'aic':             0           1           2           3           4           5\n",
      "0  313.280489  313.709540  315.442115  316.319293  314.452889  316.263880\n",
      "1  313.873593  312.114955  314.114309  315.762473  313.931745  315.587904\n",
      "2  315.656847  314.114131  313.427780  315.203378  315.366929  314.256941\n",
      "3  317.655267  315.650413  315.018528  316.952535  314.559473  320.365847\n",
      "4  317.784589  315.737797  314.956574  312.622330  313.729900  320.748943\n",
      "5  319.507711  317.675416  316.578829  317.600995  314.434647  314.853619, 'bic':             0           1           2           3           4           5\n",
      "0  317.469178  319.992573  323.819494  326.791016  327.018957  330.924292\n",
      "1  320.156626  320.492333  324.586032  328.328541  328.592157  332.342661\n",
      "2  324.034225  324.585854  325.993847  329.863790  332.121685  333.106042\n",
      "3  328.126989  328.216481  329.678940  333.707292  333.408574  341.309293\n",
      "4  330.350657  330.398209  331.711330  331.471431  334.673346  343.786733\n",
      "5  334.168123  334.430173  335.427930  338.544441  337.472438  339.985753, 'aic_min_order': (1, 1), 'bic_min_order': (0, 0)}\n"
     ]
    }
   ],
   "source": [
    "# test p and q value\n",
    "parameters = statsmodels.tsa.stattools.arma_order_select_ic(train_diff['Close'], max_ar=5, max_ma=5, ic=['aic', 'bic'])\n",
    "print(parameters)"
   ]
  },
  {
   "cell_type": "code",
   "execution_count": 374,
   "id": "06df5179",
   "metadata": {},
   "outputs": [],
   "source": [
    "model = ARIMA(train, order=(1,1,1))\n",
    "model_fit = model.fit()"
   ]
  },
  {
   "cell_type": "code",
   "execution_count": null,
   "id": "304462df",
   "metadata": {},
   "outputs": [],
   "source": [
    "#19. Display the parameters of the model and its Mean Squared Error (MSE) in the training set and in the test set"
   ]
  },
  {
   "cell_type": "code",
   "execution_count": 379,
   "id": "185be1c4",
   "metadata": {},
   "outputs": [
    {
     "name": "stdout",
     "output_type": "stream",
     "text": [
      "Coefficients: [-0.70350734  0.90339677  7.87435879]\n",
      "Test MSE: 383.484\n"
     ]
    }
   ],
   "source": [
    "print('Coefficients: %s' % model_fit.params)\n",
    "# make predictions\n",
    "predictions = model_fit.forecast(steps=len(test))\n",
    "error = mean_squared_error(test,predictions)\n",
    "#error_train = mean_squared_error(train,predictions)\n",
    "print('Test MSE: %.3f' % error)\n",
    "#print('Test MSE: %.3f' % error_train)"
   ]
  },
  {
   "cell_type": "code",
   "execution_count": 380,
   "id": "d85c955b",
   "metadata": {},
   "outputs": [
    {
     "data": {
      "text/plain": [
       "array([167.94060091, 166.96933632, 167.65262808, 167.17192732,\n",
       "       167.51010383, 167.27219417, 167.43956536, 167.3218185 ,\n",
       "       167.40465428, 167.34637871, 167.387376  , 167.3585341 ,\n",
       "       167.37882459, 167.36455008, 167.3745923 , 167.36752753,\n",
       "       167.37249765, 167.36900113, 167.37146096, 167.36973045,\n",
       "       167.37094788, 167.37009141, 167.37069394, 167.37027006,\n",
       "       167.37056826, 167.37035847, 167.37050606, 167.37040223,\n",
       "       167.37047528, 167.37042389, 167.37046004, 167.37043461,\n",
       "       167.3704525 , 167.37043991, 167.37044877, 167.37044254,\n",
       "       167.37044692, 167.37044384, 167.37044601, 167.37044448,\n",
       "       167.37044555, 167.3704448 , 167.37044533, 167.37044496,\n",
       "       167.37044522, 167.37044503, 167.37044516, 167.37044507,\n",
       "       167.37044514, 167.37044509, 167.37044512, 167.3704451 ,\n",
       "       167.37044512, 167.37044511, 167.37044511, 167.37044511,\n",
       "       167.37044511, 167.37044511, 167.37044511, 167.37044511,\n",
       "       167.37044511, 167.37044511, 167.37044511, 167.37044511,\n",
       "       167.37044511, 167.37044511, 167.37044511, 167.37044511,\n",
       "       167.37044511, 167.37044511, 167.37044511, 167.37044511,\n",
       "       167.37044511, 167.37044511, 167.37044511, 167.37044511,\n",
       "       167.37044511, 167.37044511, 167.37044511, 167.37044511,\n",
       "       167.37044511, 167.37044511, 167.37044511, 167.37044511,\n",
       "       167.37044511, 167.37044511, 167.37044511, 167.37044511,\n",
       "       167.37044511, 167.37044511, 167.37044511, 167.37044511,\n",
       "       167.37044511, 167.37044511, 167.37044511, 167.37044511,\n",
       "       167.37044511, 167.37044511, 167.37044511, 167.37044511,\n",
       "       167.37044511, 167.37044511, 167.37044511, 167.37044511,\n",
       "       167.37044511, 167.37044511, 167.37044511, 167.37044511,\n",
       "       167.37044511, 167.37044511, 167.37044511, 167.37044511,\n",
       "       167.37044511, 167.37044511, 167.37044511, 167.37044511,\n",
       "       167.37044511, 167.37044511, 167.37044511, 167.37044511,\n",
       "       167.37044511, 167.37044511, 167.37044511, 167.37044511,\n",
       "       167.37044511, 167.37044511, 167.37044511, 167.37044511,\n",
       "       167.37044511, 167.37044511, 167.37044511, 167.37044511,\n",
       "       167.37044511, 167.37044511, 167.37044511, 167.37044511,\n",
       "       167.37044511, 167.37044511, 167.37044511, 167.37044511,\n",
       "       167.37044511, 167.37044511, 167.37044511, 167.37044511,\n",
       "       167.37044511, 167.37044511, 167.37044511, 167.37044511,\n",
       "       167.37044511, 167.37044511, 167.37044511, 167.37044511,\n",
       "       167.37044511, 167.37044511, 167.37044511, 167.37044511,\n",
       "       167.37044511, 167.37044511, 167.37044511, 167.37044511,\n",
       "       167.37044511, 167.37044511, 167.37044511, 167.37044511,\n",
       "       167.37044511, 167.37044511, 167.37044511, 167.37044511,\n",
       "       167.37044511, 167.37044511, 167.37044511, 167.37044511,\n",
       "       167.37044511, 167.37044511, 167.37044511, 167.37044511,\n",
       "       167.37044511, 167.37044511, 167.37044511, 167.37044511,\n",
       "       167.37044511, 167.37044511, 167.37044511, 167.37044511,\n",
       "       167.37044511, 167.37044511, 167.37044511, 167.37044511,\n",
       "       167.37044511, 167.37044511, 167.37044511, 167.37044511,\n",
       "       167.37044511, 167.37044511, 167.37044511, 167.37044511,\n",
       "       167.37044511, 167.37044511, 167.37044511, 167.37044511,\n",
       "       167.37044511, 167.37044511, 167.37044511, 167.37044511,\n",
       "       167.37044511, 167.37044511, 167.37044511, 167.37044511,\n",
       "       167.37044511, 167.37044511])"
      ]
     },
     "execution_count": 380,
     "metadata": {},
     "output_type": "execute_result"
    }
   ],
   "source": [
    "predictions"
   ]
  },
  {
   "cell_type": "code",
   "execution_count": 421,
   "id": "2a55d335",
   "metadata": {},
   "outputs": [],
   "source": [
    "#second way to predict\n",
    "start1=len(train)\n",
    "end1=len(train)+len(test)-1\n",
    "pred=model_fit.predict(start=start1, end=end1)\n",
    "#pred"
   ]
  },
  {
   "cell_type": "code",
   "execution_count": null,
   "id": "a97deaed",
   "metadata": {},
   "outputs": [],
   "source": [
    "#20. Plot the price time series vs the ARMA forecast in the test set"
   ]
  },
  {
   "cell_type": "code",
   "execution_count": 412,
   "id": "8bdaab47",
   "metadata": {},
   "outputs": [
    {
     "data": {
      "text/plain": [
       "(160.0, 170.0)"
      ]
     },
     "execution_count": 412,
     "metadata": {},
     "output_type": "execute_result"
    },
    {
     "data": {
      "image/png": "[encoded data removed]",
      "text/plain": [
       "<Figure size 432x288 with 1 Axes>"
      ]
     },
     "metadata": {
      "needs_background": "light"
     },
     "output_type": "display_data"
    }
   ],
   "source": [
    "fig, ax = plt.subplots(1, 1)\n",
    "plt.plot(predictions,color='grey',label='predictions')\n",
    "#plt.plot(aapl['Close'].values,color='red')\n",
    "plt.plot(test,color='red',label='test')\n",
    "axins = ax.inset_axes((0.1, 0.1, 0.2, 0.2))\n",
    "axins.plot(predictions,color='grey')\n",
    "axins.plot(test,color='red')\n",
    "plt.legend()\n",
    "zone_left = 0\n",
    "zone_right = 10\n",
    "\n",
    "x_ratio = 0.5  \n",
    "y_ratio = 0.05\n",
    "\n",
    "xlim0 = 0\n",
    "xlim1 = 10\n",
    "\n",
    "ylim0 = 160\n",
    "ylim1 = 170\n",
    "\n",
    "axins.set_xlim(xlim0, xlim1)\n",
    "axins.set_ylim(ylim0, ylim1)\n"
   ]
  },
  {
   "cell_type": "code",
   "execution_count": null,
   "id": "ea43fcdc",
   "metadata": {},
   "outputs": [],
   "source": [
    "#In general, the prediction obtained from the training set is a straight line, stable at around 167, but it is found carefully that the line fluctuates slightly at the beginning, as can be seen when the graph is enlarged."
   ]
  },
  {
   "cell_type": "code",
   "execution_count": 243,
   "id": "6ae7e2ec",
   "metadata": {},
   "outputs": [],
   "source": [
    "#21. Fit an ARMA model to the return time series"
   ]
  },
  {
   "cell_type": "code",
   "execution_count": 413,
   "id": "6c9220ac",
   "metadata": {},
   "outputs": [],
   "source": [
    "X = linear_rets.values\n",
    "train2, test2 = X[0:len(X)-210], X[len(X)-210:]"
   ]
  },
  {
   "cell_type": "code",
   "execution_count": 414,
   "id": "2b6d9791",
   "metadata": {},
   "outputs": [
    {
     "name": "stdout",
     "output_type": "stream",
     "text": [
      "(-8.066658679346046, 1.5895889290027638e-12, 0, 88, {'1%': -3.506944401824286, '5%': -2.894989819214876, '10%': -2.584614550619835}, -390.7212147330017)\n"
     ]
    }
   ],
   "source": [
    "print(statsmodels.tsa.stattools.adfuller(train2))\n",
    "#the return is stationary  becuase the p-value is around 1.5895889290027638e-12, which is smaller than 5%.\n",
    "#For convenience, I have used linear return for the next analysis. First, in order to fit an arma model, we need the time series to be stable, and again, we use the ADF test and find its p- value\n",
    "#is 1.5895889290027638e-12. The p-value is small enough to reject the null hypothesis and thus we can conclude the return is stationary and continue doing the following analysis."
   ]
  },
  {
   "cell_type": "code",
   "execution_count": 336,
   "id": "d6924c60",
   "metadata": {},
   "outputs": [
    {
     "name": "stdout",
     "output_type": "stream",
     "text": [
      "{'aic':             0           1           2           3           4           5\n",
      "0 -732.040310 -730.115112 -728.870383 -727.193652 -727.770953 -725.779755\n",
      "1 -730.103563 -728.325284 -726.936142 -725.442784 -724.532493 -723.782851\n",
      "2 -729.006794 -726.563780 -726.650284 -728.198394 -721.072169 -722.008065\n",
      "3 -727.391828 -725.365729 -726.653033 -724.318713 -722.061522 -720.093855\n",
      "4 -727.137808 -725.148090 -728.683918 -721.107861 -720.766499 -718.330778\n",
      "5 -725.247090 -723.239591 -723.737469 -720.347448 -718.589786 -716.389963, 'bic':             0           1           2           3           4           5\n",
      "0 -726.032418 -721.103273 -716.854598 -712.173920 -709.747275 -704.752131\n",
      "1 -721.091724 -716.309499 -711.916411 -707.419106 -703.504868 -699.751281\n",
      "2 -716.991009 -711.544048 -708.626606 -707.170770 -697.040598 -694.972548\n",
      "3 -712.372097 -707.342051 -705.625408 -700.287142 -695.026005 -690.054392\n",
      "4 -709.114130 -704.120466 -704.652347 -694.072344 -690.727036 -685.287369\n",
      "5 -704.219466 -699.208021 -696.701953 -690.307985 -685.546377 -680.342607, 'aic_min_order': (0, 0), 'bic_min_order': (0, 0)}\n"
     ]
    }
   ],
   "source": [
    "# test p and q value\n",
    "parameters2 = statsmodels.tsa.stattools.arma_order_select_ic(train2, max_ar=5, max_ma=5, ic=['aic', 'bic'])\n",
    "print(parameters2)"
   ]
  },
  {
   "cell_type": "code",
   "execution_count": 415,
   "id": "f8ddd0af",
   "metadata": {},
   "outputs": [
    {
     "name": "stdout",
     "output_type": "stream",
     "text": [
      "Performing stepwise search to minimize aic\n",
      " ARIMA(0,0,0)(0,0,0)[0] intercept   : AIC=-464.472, Time=0.73 sec\n",
      " ARIMA(1,0,0)(0,0,0)[0] intercept   : AIC=-463.989, Time=0.08 sec\n",
      " ARIMA(0,0,1)(0,0,0)[0] intercept   : AIC=-464.344, Time=0.10 sec\n",
      " ARIMA(0,0,0)(0,0,0)[0]             : AIC=-465.876, Time=0.05 sec\n",
      " ARIMA(1,0,1)(0,0,0)[0] intercept   : AIC=-465.535, Time=0.08 sec\n",
      "\n",
      "Best model:  ARIMA(0,0,0)(0,0,0)[0]          \n",
      "Total fit time: 1.507 seconds\n"
     ]
    },
    {
     "data": {
      "text/html": [
       "<table class=\"simpletable\">\n",
       "<caption>SARIMAX Results</caption>\n",
       "<tr>\n",
       "  <th>Dep. Variable:</th>           <td>y</td>        <th>  No. Observations:  </th>    <td>89</td>   \n",
       "</tr>\n",
       "<tr>\n",
       "  <th>Model:</th>                <td>SARIMAX</td>     <th>  Log Likelihood     </th>  <td>233.938</td>\n",
       "</tr>\n",
       "<tr>\n",
       "  <th>Date:</th>            <td>Thu, 16 Feb 2023</td> <th>  AIC                </th> <td>-465.876</td>\n",
       "</tr>\n",
       "<tr>\n",
       "  <th>Time:</th>                <td>14:35:37</td>     <th>  BIC                </th> <td>-463.387</td>\n",
       "</tr>\n",
       "<tr>\n",
       "  <th>Sample:</th>                  <td>0</td>        <th>  HQIC               </th> <td>-464.873</td>\n",
       "</tr>\n",
       "<tr>\n",
       "  <th></th>                       <td> - 89</td>      <th>                     </th>     <td> </td>   \n",
       "</tr>\n",
       "<tr>\n",
       "  <th>Covariance Type:</th>        <td>opg</td>       <th>                     </th>     <td> </td>   \n",
       "</tr>\n",
       "</table>\n",
       "<table class=\"simpletable\">\n",
       "<tr>\n",
       "     <td></td>       <th>coef</th>     <th>std err</th>      <th>z</th>      <th>P>|z|</th>  <th>[0.025</th>    <th>0.975]</th>  \n",
       "</tr>\n",
       "<tr>\n",
       "  <th>sigma2</th> <td>    0.0003</td> <td> 3.42e-05</td> <td>    8.923</td> <td> 0.000</td> <td>    0.000</td> <td>    0.000</td>\n",
       "</tr>\n",
       "</table>\n",
       "<table class=\"simpletable\">\n",
       "<tr>\n",
       "  <th>Ljung-Box (L1) (Q):</th>     <td>1.55</td> <th>  Jarque-Bera (JB):  </th> <td>13.03</td>\n",
       "</tr>\n",
       "<tr>\n",
       "  <th>Prob(Q):</th>                <td>0.21</td> <th>  Prob(JB):          </th> <td>0.00</td> \n",
       "</tr>\n",
       "<tr>\n",
       "  <th>Heteroskedasticity (H):</th> <td>1.77</td> <th>  Skew:              </th> <td>0.63</td> \n",
       "</tr>\n",
       "<tr>\n",
       "  <th>Prob(H) (two-sided):</th>    <td>0.12</td> <th>  Kurtosis:          </th> <td>4.39</td> \n",
       "</tr>\n",
       "</table><br/><br/>Warnings:<br/>[1] Covariance matrix calculated using the outer product of gradients (complex-step)."
      ],
      "text/plain": [
       "<class 'statsmodels.iolib.summary.Summary'>\n",
       "\"\"\"\n",
       "                               SARIMAX Results                                \n",
       "==============================================================================\n",
       "Dep. Variable:                      y   No. Observations:                   89\n",
       "Model:                        SARIMAX   Log Likelihood                 233.938\n",
       "Date:                Thu, 16 Feb 2023   AIC                           -465.876\n",
       "Time:                        14:35:37   BIC                           -463.387\n",
       "Sample:                             0   HQIC                          -464.873\n",
       "                                 - 89                                         \n",
       "Covariance Type:                  opg                                         \n",
       "==============================================================================\n",
       "                 coef    std err          z      P>|z|      [0.025      0.975]\n",
       "------------------------------------------------------------------------------\n",
       "sigma2         0.0003   3.42e-05      8.923      0.000       0.000       0.000\n",
       "===================================================================================\n",
       "Ljung-Box (L1) (Q):                   1.55   Jarque-Bera (JB):                13.03\n",
       "Prob(Q):                              0.21   Prob(JB):                         0.00\n",
       "Heteroskedasticity (H):               1.77   Skew:                             0.63\n",
       "Prob(H) (two-sided):                  0.12   Kurtosis:                         4.39\n",
       "===================================================================================\n",
       "\n",
       "Warnings:\n",
       "[1] Covariance matrix calculated using the outer product of gradients (complex-step).\n",
       "\"\"\""
      ]
     },
     "execution_count": 415,
     "metadata": {},
     "output_type": "execute_result"
    }
   ],
   "source": [
    "arima_model2 = arimamodel(train2)\n",
    "arima_model2.summary()"
   ]
  },
  {
   "cell_type": "code",
   "execution_count": 416,
   "id": "2aedc786",
   "metadata": {},
   "outputs": [],
   "source": [
    "model2 = ARIMA(train2, order=(0,0,0))\n",
    "model_fit2 = model2.fit()"
   ]
  },
  {
   "cell_type": "code",
   "execution_count": 417,
   "id": "87629324",
   "metadata": {},
   "outputs": [],
   "source": [
    "#22. Display the parameters of the model and its Mean Squared Error (MSE) in the training set and in the test set"
   ]
  },
  {
   "cell_type": "code",
   "execution_count": 418,
   "id": "42bfbc2e",
   "metadata": {},
   "outputs": [
    {
     "name": "stdout",
     "output_type": "stream",
     "text": [
      "Lag: 1\n",
      "Coefficients: [0.00142129 0.00030323]\n",
      "Test MSE: 0.001\n"
     ]
    }
   ],
   "source": [
    "print('Lag: %s' % window)\n",
    "print('Coefficients: %s' % model_fit2.params)\n",
    "# make predictions\n",
    "predictions2 = model_fit2.forecast(steps=len(test2))\n",
    "error2 = mean_squared_error(test2,predictions2)\n",
    "print('Test MSE: %.3f' % error2)"
   ]
  },
  {
   "cell_type": "code",
   "execution_count": null,
   "id": "c8defe08",
   "metadata": {},
   "outputs": [],
   "source": [
    "#average of square of difference between the predicted values and true values."
   ]
  },
  {
   "cell_type": "code",
   "execution_count": 419,
   "id": "ebd8abae",
   "metadata": {},
   "outputs": [
    {
     "data": {
      "text/plain": [
       "array([0.00142129, 0.00142129, 0.00142129, 0.00142129, 0.00142129,\n",
       "       0.00142129, 0.00142129, 0.00142129, 0.00142129, 0.00142129,\n",
       "       0.00142129, 0.00142129, 0.00142129, 0.00142129, 0.00142129,\n",
       "       0.00142129, 0.00142129, 0.00142129, 0.00142129, 0.00142129,\n",
       "       0.00142129, 0.00142129, 0.00142129, 0.00142129, 0.00142129,\n",
       "       0.00142129, 0.00142129, 0.00142129, 0.00142129, 0.00142129,\n",
       "       0.00142129, 0.00142129, 0.00142129, 0.00142129, 0.00142129,\n",
       "       0.00142129, 0.00142129, 0.00142129, 0.00142129, 0.00142129,\n",
       "       0.00142129, 0.00142129, 0.00142129, 0.00142129, 0.00142129,\n",
       "       0.00142129, 0.00142129, 0.00142129, 0.00142129, 0.00142129,\n",
       "       0.00142129, 0.00142129, 0.00142129, 0.00142129, 0.00142129,\n",
       "       0.00142129, 0.00142129, 0.00142129, 0.00142129, 0.00142129,\n",
       "       0.00142129, 0.00142129, 0.00142129, 0.00142129, 0.00142129,\n",
       "       0.00142129, 0.00142129, 0.00142129, 0.00142129, 0.00142129,\n",
       "       0.00142129, 0.00142129, 0.00142129, 0.00142129, 0.00142129,\n",
       "       0.00142129, 0.00142129, 0.00142129, 0.00142129, 0.00142129,\n",
       "       0.00142129, 0.00142129, 0.00142129, 0.00142129, 0.00142129,\n",
       "       0.00142129, 0.00142129, 0.00142129, 0.00142129, 0.00142129,\n",
       "       0.00142129, 0.00142129, 0.00142129, 0.00142129, 0.00142129,\n",
       "       0.00142129, 0.00142129, 0.00142129, 0.00142129, 0.00142129,\n",
       "       0.00142129, 0.00142129, 0.00142129, 0.00142129, 0.00142129,\n",
       "       0.00142129, 0.00142129, 0.00142129, 0.00142129, 0.00142129,\n",
       "       0.00142129, 0.00142129, 0.00142129, 0.00142129, 0.00142129,\n",
       "       0.00142129, 0.00142129, 0.00142129, 0.00142129, 0.00142129,\n",
       "       0.00142129, 0.00142129, 0.00142129, 0.00142129, 0.00142129,\n",
       "       0.00142129, 0.00142129, 0.00142129, 0.00142129, 0.00142129,\n",
       "       0.00142129, 0.00142129, 0.00142129, 0.00142129, 0.00142129,\n",
       "       0.00142129, 0.00142129, 0.00142129, 0.00142129, 0.00142129,\n",
       "       0.00142129, 0.00142129, 0.00142129, 0.00142129, 0.00142129,\n",
       "       0.00142129, 0.00142129, 0.00142129, 0.00142129, 0.00142129,\n",
       "       0.00142129, 0.00142129, 0.00142129, 0.00142129, 0.00142129,\n",
       "       0.00142129, 0.00142129, 0.00142129, 0.00142129, 0.00142129,\n",
       "       0.00142129, 0.00142129, 0.00142129, 0.00142129, 0.00142129,\n",
       "       0.00142129, 0.00142129, 0.00142129, 0.00142129, 0.00142129,\n",
       "       0.00142129, 0.00142129, 0.00142129, 0.00142129, 0.00142129,\n",
       "       0.00142129, 0.00142129, 0.00142129, 0.00142129, 0.00142129,\n",
       "       0.00142129, 0.00142129, 0.00142129, 0.00142129, 0.00142129,\n",
       "       0.00142129, 0.00142129, 0.00142129, 0.00142129, 0.00142129,\n",
       "       0.00142129, 0.00142129, 0.00142129, 0.00142129, 0.00142129,\n",
       "       0.00142129, 0.00142129, 0.00142129, 0.00142129, 0.00142129,\n",
       "       0.00142129, 0.00142129, 0.00142129, 0.00142129, 0.00142129,\n",
       "       0.00142129, 0.00142129, 0.00142129, 0.00142129, 0.00142129])"
      ]
     },
     "execution_count": 419,
     "metadata": {},
     "output_type": "execute_result"
    }
   ],
   "source": [
    "predictions2"
   ]
  },
  {
   "cell_type": "code",
   "execution_count": null,
   "id": "5f0c39b8",
   "metadata": {},
   "outputs": [],
   "source": [
    "#23. Plot the return time series vs the ARMA forecast in the test set"
   ]
  },
  {
   "cell_type": "code",
   "execution_count": 420,
   "id": "2d3a52e9",
   "metadata": {},
   "outputs": [
    {
     "data": {
      "text/plain": [
       "[<matplotlib.lines.Line2D at 0x7fa4028805b0>]"
      ]
     },
     "execution_count": 420,
     "metadata": {},
     "output_type": "execute_result"
    },
    {
     "data": {
      "image/png": "[encoded data removed]",
      "text/plain": [
       "<Figure size 432x288 with 1 Axes>"
      ]
     },
     "metadata": {
      "needs_background": "light"
     },
     "output_type": "display_data"
    }
   ],
   "source": [
    "plt.plot(predictions2,color='grey')\n",
    "plt.plot(test2,color='red')"
   ]
  },
  {
   "cell_type": "code",
   "execution_count": null,
   "id": "2af4aa03",
   "metadata": {},
   "outputs": [],
   "source": [
    "#Here we can see that for white noise, the future is independent of both the present and the past, and the prediction of the future is actually the mean value of the present white noise distribution."
   ]
  },
  {
   "cell_type": "code",
   "execution_count": 282,
   "id": "e1e8b348",
   "metadata": {},
   "outputs": [],
   "source": [
    "#24. Introduce mathematically a Gaussianity test"
   ]
  },
  {
   "cell_type": "markdown",
   "id": "344d6a76",
   "metadata": {},
   "source": [
    "The Gaussianity test was used to check if the data follows normal distribution. It uses covariance of paris of different orders. Null hypothesis: data follows normal distribution. The statistics that evaluated in Gaussianity test is: \n",
    "\n",
    "$W = \\frac{(\\sum_{i}^{T} a_i *r_{(i)})^2} {\\sum_{i}^{T} (r_{(i)} -\\mu)^2}$\n",
    "\n",
    "where $r_{(i)}$ is the i-th smallest value in the sample such that:\n",
    "$a_i=\\frac{m^T V^{-1}}{N}$\n",
    "\n",
    "N is a normalization factor such that $\\sum_{i} (a_i)^2 =1 $\n",
    "\n",
    "m=vector of expected values of all order statistics in a Gaussian distribution\n",
    "\n",
    "V=expected covariance of pairs of order statistics\n",
    "\n",
    "After sorting the data, we calculate the statistics W and its p-value.\n"
   ]
  },
  {
   "cell_type": "code",
   "execution_count": null,
   "id": "e838676c",
   "metadata": {},
   "outputs": [],
   "source": [
    "#25. Perform a Gaussianity test of the return time series"
   ]
  },
  {
   "cell_type": "code",
   "execution_count": 342,
   "id": "46bf9c43",
   "metadata": {},
   "outputs": [
    {
     "name": "stdout",
     "output_type": "stream",
     "text": [
      "Statistics=0.987, p=0.019\n",
      "Sample does not look Gaussian (reject H0)\n"
     ]
    }
   ],
   "source": [
    "# Shapiro-Wilk Test\n",
    "from numpy.random import seed\n",
    "from numpy.random import randn\n",
    "from scipy.stats import shapiro\n",
    "# seed the random number generator\n",
    "seed(1)\n",
    "\n",
    "# generate univariate observations\n",
    "# normality test\n",
    "stat, p = shapiro(r_aapl)\n",
    "\n",
    "print('Statistics=%.3f, p=%.3f' % (stat, p))\n",
    "\n",
    "# interpret\n",
    "alpha = 0.05\n",
    "\n",
    "if p > alpha:\n",
    "    print('Sample looks Gaussian (fail to reject H0)')\n",
    "else:\n",
    "    print('Sample does not look Gaussian (reject H0)')"
   ]
  },
  {
   "cell_type": "code",
   "execution_count": 343,
   "id": "6f5df2af",
   "metadata": {},
   "outputs": [],
   "source": [
    "#26. Introduce mathematically a stationarity test"
   ]
  },
  {
   "cell_type": "markdown",
   "id": "ddaa1ec9",
   "metadata": {},
   "source": [
    "If the time series data is stationary, it means the data don't depend on time. It has two types of stationarity:\n",
    "\n",
    "i) Strong stationarity:$(y_1,y_2,..y_n)=(y_{1+\\tau},y_{2+\\tau},...y_{n+\\tau})$ in distribution.\n",
    "\n",
    "ii) Weak stationarity: \n",
    "\n",
    "$E(y_t)=\\mu$; \n",
    "\n",
    "$Var(y_t)=E[(y_t -\\mu)^2]=\\sigma^2$;\n",
    "\n",
    "$Cov[y_t,y_{t-\\tau}]=E[(y_t-\\mu)(y_{t-\\tau}-\\mu)]=C(\\tau)$\n",
    "\n",
    "For strong stationary, it means any joint distribution of any moments never depends on time, it is a very strict condition. However, for weak stationary, it only has constant mean, constant variance and constant covariance, and other condition could change over time, which means it is less strict."
   ]
  },
  {
   "cell_type": "code",
   "execution_count": 344,
   "id": "9d466d20",
   "metadata": {},
   "outputs": [],
   "source": [
    "#27. Perform a stationarity test of the return time series"
   ]
  },
  {
   "cell_type": "code",
   "execution_count": 345,
   "id": "75555622",
   "metadata": {},
   "outputs": [
    {
     "name": "stdout",
     "output_type": "stream",
     "text": [
      "(-12.284898889484266, 8.067268898811943e-23, 1, 248, {'1%': -3.4569962781990573, '5%': -2.8732659015936024, '10%': -2.573018897632674}, -1093.8422914280509)\n"
     ]
    }
   ],
   "source": [
    "print(statsmodels.tsa.stattools.adfuller(r_aapl))"
   ]
  },
  {
   "cell_type": "code",
   "execution_count": null,
   "id": "24586ebb",
   "metadata": {},
   "outputs": [],
   "source": [
    "#since the p-value is much smaller than 5%, then we can reject it and thus the data is stationary."
   ]
  }
 ],
 "metadata": {
  "kernelspec": {
   "display_name": "Python 3 (ipykernel)",
   "language": "python",
   "name": "python3"
  },
  "language_info": {
   "codemirror_mode": {
    "name": "ipython",
    "version": 3
   },
   "file_extension": ".py",
   "mimetype": "text/x-python",
   "name": "python",
   "nbconvert_exporter": "python",
   "pygments_lexer": "ipython3",
   "version": "3.9.12"
  }
 },
 "nbformat": 4,
 "nbformat_minor": 5
}
