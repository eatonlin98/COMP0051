{
 "cells": [
  {
   "cell_type": "code",
   "execution_count": 2,
   "id": "403fd222",
   "metadata": {},
   "outputs": [
    {
     "name": "stdout",
     "output_type": "stream",
     "text": [
      "Requirement already satisfied: yfinance in /Users/xingyulin/opt/anaconda3/lib/python3.9/site-packages (0.2.3)\n",
      "Requirement already satisfied: requests>=2.26 in /Users/xingyulin/opt/anaconda3/lib/python3.9/site-packages (from yfinance) (2.27.1)\n",
      "Requirement already satisfied: lxml>=4.9.1 in /Users/xingyulin/opt/anaconda3/lib/python3.9/site-packages (from yfinance) (4.9.2)\n",
      "Requirement already satisfied: cryptography>=3.3.2 in /Users/xingyulin/opt/anaconda3/lib/python3.9/site-packages (from yfinance) (3.4.8)\n",
      "Requirement already satisfied: beautifulsoup4>=4.11.1 in /Users/xingyulin/opt/anaconda3/lib/python3.9/site-packages (from yfinance) (4.11.1)\n",
      "Requirement already satisfied: appdirs>=1.4.4 in /Users/xingyulin/opt/anaconda3/lib/python3.9/site-packages (from yfinance) (1.4.4)\n",
      "Requirement already satisfied: pytz>=2022.5 in /Users/xingyulin/opt/anaconda3/lib/python3.9/site-packages (from yfinance) (2022.7)\n",
      "Requirement already satisfied: frozendict>=2.3.4 in /Users/xingyulin/opt/anaconda3/lib/python3.9/site-packages (from yfinance) (2.3.4)\n",
      "Requirement already satisfied: numpy>=1.16.5 in /Users/xingyulin/opt/anaconda3/lib/python3.9/site-packages (from yfinance) (1.21.5)\n",
      "Requirement already satisfied: multitasking>=0.0.7 in /Users/xingyulin/opt/anaconda3/lib/python3.9/site-packages (from yfinance) (0.0.11)\n",
      "Requirement already satisfied: html5lib>=1.1 in /Users/xingyulin/opt/anaconda3/lib/python3.9/site-packages (from yfinance) (1.1)\n",
      "Requirement already satisfied: pandas>=1.3.0 in /Users/xingyulin/opt/anaconda3/lib/python3.9/site-packages (from yfinance) (1.4.2)\n",
      "Requirement already satisfied: soupsieve>1.2 in /Users/xingyulin/opt/anaconda3/lib/python3.9/site-packages (from beautifulsoup4>=4.11.1->yfinance) (2.3.1)\n",
      "Requirement already satisfied: cffi>=1.12 in /Users/xingyulin/opt/anaconda3/lib/python3.9/site-packages (from cryptography>=3.3.2->yfinance) (1.15.0)\n",
      "Requirement already satisfied: pycparser in /Users/xingyulin/opt/anaconda3/lib/python3.9/site-packages (from cffi>=1.12->cryptography>=3.3.2->yfinance) (2.21)\n",
      "Requirement already satisfied: six>=1.9 in /Users/xingyulin/opt/anaconda3/lib/python3.9/site-packages (from html5lib>=1.1->yfinance) (1.16.0)\n",
      "Requirement already satisfied: webencodings in /Users/xingyulin/opt/anaconda3/lib/python3.9/site-packages (from html5lib>=1.1->yfinance) (0.5.1)\n",
      "Requirement already satisfied: python-dateutil>=2.8.1 in /Users/xingyulin/opt/anaconda3/lib/python3.9/site-packages (from pandas>=1.3.0->yfinance) (2.8.2)\n",
      "Requirement already satisfied: urllib3<1.27,>=1.21.1 in /Users/xingyulin/opt/anaconda3/lib/python3.9/site-packages (from requests>=2.26->yfinance) (1.26.9)\n",
      "Requirement already satisfied: certifi>=2017.4.17 in /Users/xingyulin/opt/anaconda3/lib/python3.9/site-packages (from requests>=2.26->yfinance) (2021.10.8)\n",
      "Requirement already satisfied: idna<4,>=2.5 in /Users/xingyulin/opt/anaconda3/lib/python3.9/site-packages (from requests>=2.26->yfinance) (3.3)\n",
      "Requirement already satisfied: charset-normalizer~=2.0.0 in /Users/xingyulin/opt/anaconda3/lib/python3.9/site-packages (from requests>=2.26->yfinance) (2.0.4)\n"
     ]
    }
   ],
   "source": [
    "!pip install yfinance"
   ]
  },
  {
   "cell_type": "code",
   "execution_count": 322,
   "id": "f26ed5df",
   "metadata": {},
   "outputs": [],
   "source": [
    "import warnings\n",
    "warnings.filterwarnings('ignore')"
   ]
  },
  {
   "cell_type": "code",
   "execution_count": 166,
   "id": "527c8b36",
   "metadata": {},
   "outputs": [
    {
     "name": "stdout",
     "output_type": "stream",
     "text": [
      "[*********************100%***********************]  1 of 1 completed\n"
     ]
    }
   ],
   "source": [
    "%matplotlib inline\n",
    "import yfinance as yf\n",
    "import datetime\n",
    "import matplotlib.pyplot as plt\n",
    "\n",
    "\n",
    "start_sp = datetime.datetime(2021, 10, 22)\n",
    "end_sp = datetime.datetime(2022, 12, 31)\n",
    "\n",
    "\n",
    "aapl = yf.download('AAPL',start_sp,end_sp)"
   ]
  },
  {
   "cell_type": "code",
   "execution_count": 170,
   "id": "0c2dc7e1",
   "metadata": {},
   "outputs": [
    {
     "data": {
      "text/html": [
       "<div>\n",
       "<style scoped>\n",
       "    .dataframe tbody tr th:only-of-type {\n",
       "        vertical-align: middle;\n",
       "    }\n",
       "\n",
       "    .dataframe tbody tr th {\n",
       "        vertical-align: top;\n",
       "    }\n",
       "\n",
       "    .dataframe thead th {\n",
       "        text-align: right;\n",
       "    }\n",
       "</style>\n",
       "<table border=\"1\" class=\"dataframe\">\n",
       "  <thead>\n",
       "    <tr style=\"text-align: right;\">\n",
       "      <th></th>\n",
       "      <th>Open</th>\n",
       "      <th>High</th>\n",
       "      <th>Low</th>\n",
       "      <th>Close</th>\n",
       "      <th>Adj Close</th>\n",
       "      <th>Volume</th>\n",
       "    </tr>\n",
       "    <tr>\n",
       "      <th>Date</th>\n",
       "      <th></th>\n",
       "      <th></th>\n",
       "      <th></th>\n",
       "      <th></th>\n",
       "      <th></th>\n",
       "      <th></th>\n",
       "    </tr>\n",
       "  </thead>\n",
       "  <tbody>\n",
       "    <tr>\n",
       "      <th>2021-10-22</th>\n",
       "      <td>149.690002</td>\n",
       "      <td>150.179993</td>\n",
       "      <td>148.639999</td>\n",
       "      <td>148.690002</td>\n",
       "      <td>147.616577</td>\n",
       "      <td>58883400</td>\n",
       "    </tr>\n",
       "    <tr>\n",
       "      <th>2021-10-25</th>\n",
       "      <td>148.679993</td>\n",
       "      <td>149.369995</td>\n",
       "      <td>147.619995</td>\n",
       "      <td>148.639999</td>\n",
       "      <td>147.566925</td>\n",
       "      <td>50720600</td>\n",
       "    </tr>\n",
       "    <tr>\n",
       "      <th>2021-10-26</th>\n",
       "      <td>149.330002</td>\n",
       "      <td>150.839996</td>\n",
       "      <td>149.009995</td>\n",
       "      <td>149.320007</td>\n",
       "      <td>148.242050</td>\n",
       "      <td>60893400</td>\n",
       "    </tr>\n",
       "    <tr>\n",
       "      <th>2021-10-27</th>\n",
       "      <td>149.360001</td>\n",
       "      <td>149.729996</td>\n",
       "      <td>148.490005</td>\n",
       "      <td>148.850006</td>\n",
       "      <td>147.775436</td>\n",
       "      <td>56094900</td>\n",
       "    </tr>\n",
       "    <tr>\n",
       "      <th>2021-10-28</th>\n",
       "      <td>149.820007</td>\n",
       "      <td>153.169998</td>\n",
       "      <td>149.720001</td>\n",
       "      <td>152.570007</td>\n",
       "      <td>151.468567</td>\n",
       "      <td>100077900</td>\n",
       "    </tr>\n",
       "    <tr>\n",
       "      <th>...</th>\n",
       "      <td>...</td>\n",
       "      <td>...</td>\n",
       "      <td>...</td>\n",
       "      <td>...</td>\n",
       "      <td>...</td>\n",
       "      <td>...</td>\n",
       "    </tr>\n",
       "    <tr>\n",
       "      <th>2022-12-23</th>\n",
       "      <td>130.919998</td>\n",
       "      <td>132.419998</td>\n",
       "      <td>129.639999</td>\n",
       "      <td>131.860001</td>\n",
       "      <td>131.860001</td>\n",
       "      <td>63814900</td>\n",
       "    </tr>\n",
       "    <tr>\n",
       "      <th>2022-12-27</th>\n",
       "      <td>131.380005</td>\n",
       "      <td>131.410004</td>\n",
       "      <td>128.720001</td>\n",
       "      <td>130.029999</td>\n",
       "      <td>130.029999</td>\n",
       "      <td>69007800</td>\n",
       "    </tr>\n",
       "    <tr>\n",
       "      <th>2022-12-28</th>\n",
       "      <td>129.669998</td>\n",
       "      <td>131.029999</td>\n",
       "      <td>125.870003</td>\n",
       "      <td>126.040001</td>\n",
       "      <td>126.040001</td>\n",
       "      <td>85438400</td>\n",
       "    </tr>\n",
       "    <tr>\n",
       "      <th>2022-12-29</th>\n",
       "      <td>127.989998</td>\n",
       "      <td>130.479996</td>\n",
       "      <td>127.730003</td>\n",
       "      <td>129.610001</td>\n",
       "      <td>129.610001</td>\n",
       "      <td>75703700</td>\n",
       "    </tr>\n",
       "    <tr>\n",
       "      <th>2022-12-30</th>\n",
       "      <td>128.410004</td>\n",
       "      <td>129.949997</td>\n",
       "      <td>127.430000</td>\n",
       "      <td>129.929993</td>\n",
       "      <td>129.929993</td>\n",
       "      <td>76960600</td>\n",
       "    </tr>\n",
       "  </tbody>\n",
       "</table>\n",
       "<p>300 rows × 6 columns</p>\n",
       "</div>"
      ],
      "text/plain": [
       "                  Open        High         Low       Close   Adj Close  \\\n",
       "Date                                                                     \n",
       "2021-10-22  149.690002  150.179993  148.639999  148.690002  147.616577   \n",
       "2021-10-25  148.679993  149.369995  147.619995  148.639999  147.566925   \n",
       "2021-10-26  149.330002  150.839996  149.009995  149.320007  148.242050   \n",
       "2021-10-27  149.360001  149.729996  148.490005  148.850006  147.775436   \n",
       "2021-10-28  149.820007  153.169998  149.720001  152.570007  151.468567   \n",
       "...                ...         ...         ...         ...         ...   \n",
       "2022-12-23  130.919998  132.419998  129.639999  131.860001  131.860001   \n",
       "2022-12-27  131.380005  131.410004  128.720001  130.029999  130.029999   \n",
       "2022-12-28  129.669998  131.029999  125.870003  126.040001  126.040001   \n",
       "2022-12-29  127.989998  130.479996  127.730003  129.610001  129.610001   \n",
       "2022-12-30  128.410004  129.949997  127.430000  129.929993  129.929993   \n",
       "\n",
       "               Volume  \n",
       "Date                   \n",
       "2021-10-22   58883400  \n",
       "2021-10-25   50720600  \n",
       "2021-10-26   60893400  \n",
       "2021-10-27   56094900  \n",
       "2021-10-28  100077900  \n",
       "...               ...  \n",
       "2022-12-23   63814900  \n",
       "2022-12-27   69007800  \n",
       "2022-12-28   85438400  \n",
       "2022-12-29   75703700  \n",
       "2022-12-30   76960600  \n",
       "\n",
       "[300 rows x 6 columns]"
      ]
     },
     "execution_count": 170,
     "metadata": {},
     "output_type": "execute_result"
    }
   ],
   "source": [
    "aapl"
   ]
  },
  {
   "cell_type": "markdown",
   "id": "2e249600",
   "metadata": {},
   "source": [
    "# Time series "
   ]
  },
  {
   "cell_type": "code",
   "execution_count": null,
   "id": "ce108ded",
   "metadata": {},
   "outputs": [],
   "source": [
    "#1. plot price time series"
   ]
  },
  {
   "cell_type": "code",
   "execution_count": 171,
   "id": "ff894934",
   "metadata": {},
   "outputs": [
    {
     "data": {
      "image/png": "[encoded data removed]",
      "text/plain": [
       "<Figure size 432x288 with 1 Axes>"
      ]
     },
     "metadata": {
      "needs_background": "light"
     },
     "output_type": "display_data"
    }
   ],
   "source": [
    "aapl['Close'].plot()\n",
    "plt.tight_layout()\n",
    "plt.title('Close Price')\n",
    "plt.grid()\n",
    "plt.show()"
   ]
  },
  {
   "cell_type": "markdown",
   "id": "7fba1f5b",
   "metadata": {},
   "source": [
    "# Moving averages"
   ]
  },
  {
   "cell_type": "code",
   "execution_count": 227,
   "id": "a745281d",
   "metadata": {},
   "outputs": [],
   "source": [
    "#3. Define mathematically the moving average of the price time series with an arbitrary timewindow τ"
   ]
  },
  {
   "cell_type": "markdown",
   "id": "596737cc",
   "metadata": {},
   "source": [
    "Moving average keeps updating the average data and find the average change through time. It is a dynamically updated weights. There are several kinds of moving average, such as simple moving average and exponential moving average.\n",
    "\n",
    "For SMA:  $s_{t-1} = 1/T \\sum_{1}^{T} r_{t-k}$\n",
    "\n",
    "For EWMA: $s_{t-1} = c(\\lambda)\\sum_{k=1}^{∞} \\lambda^k r_{t-k}$\n",
    "\n",
    "The longer the time, larger the lags. If the plot of the moving average shows an upward trend, then it indicates the data will very likely to move up later. In contrast, a downward trend will show that the data will move down with high possibility."
   ]
  },
  {
   "cell_type": "code",
   "execution_count": 46,
   "id": "6b1c4454",
   "metadata": {},
   "outputs": [],
   "source": [
    "#4. Compute three moving averages of the price time series, with time-windows τ = 10,20,30"
   ]
  },
  {
   "cell_type": "code",
   "execution_count": 52,
   "id": "21814688",
   "metadata": {},
   "outputs": [],
   "source": [
    "def ma_f(data,window_size):\n",
    "    i = 0\n",
    "    ma_list = []\n",
    "    while i < len(data)-window_size+1:    \n",
    "        window = data[i:i+window_size]\n",
    "        window_average = sum(window)/window_size\n",
    "        ma_list.append(window_average)\n",
    "        i =i+1\n",
    "    return ma_list\n",
    "#print(moving_averages)"
   ]
  },
  {
   "cell_type": "code",
   "execution_count": 60,
   "id": "2863a69f",
   "metadata": {},
   "outputs": [],
   "source": [
    "w10=ma_f(aapl['Close'],10)\n",
    "#print(len(ma_f(aapl['Close'],10)))\n",
    "w20=ma_f(aapl['Close'],20)\n",
    "w30=ma_f(aapl['Close'],30)\n",
    "\n",
    "#print(w10)"
   ]
  },
  {
   "cell_type": "code",
   "execution_count": 190,
   "id": "46eb3ac0",
   "metadata": {},
   "outputs": [
    {
     "data": {
      "text/html": [
       "<div>\n",
       "<style scoped>\n",
       "    .dataframe tbody tr th:only-of-type {\n",
       "        vertical-align: middle;\n",
       "    }\n",
       "\n",
       "    .dataframe tbody tr th {\n",
       "        vertical-align: top;\n",
       "    }\n",
       "\n",
       "    .dataframe thead th {\n",
       "        text-align: right;\n",
       "    }\n",
       "</style>\n",
       "<table border=\"1\" class=\"dataframe\">\n",
       "  <thead>\n",
       "    <tr style=\"text-align: right;\">\n",
       "      <th></th>\n",
       "      <th>Open</th>\n",
       "      <th>High</th>\n",
       "      <th>Low</th>\n",
       "      <th>Close</th>\n",
       "      <th>Adj Close</th>\n",
       "      <th>Volume</th>\n",
       "      <th>ma_20</th>\n",
       "      <th>ma_30</th>\n",
       "      <th>ma_10</th>\n",
       "    </tr>\n",
       "    <tr>\n",
       "      <th>Date</th>\n",
       "      <th></th>\n",
       "      <th></th>\n",
       "      <th></th>\n",
       "      <th></th>\n",
       "      <th></th>\n",
       "      <th></th>\n",
       "      <th></th>\n",
       "      <th></th>\n",
       "      <th></th>\n",
       "    </tr>\n",
       "  </thead>\n",
       "  <tbody>\n",
       "    <tr>\n",
       "      <th>2021-10-22</th>\n",
       "      <td>149.690002</td>\n",
       "      <td>150.179993</td>\n",
       "      <td>148.639999</td>\n",
       "      <td>148.690002</td>\n",
       "      <td>147.616577</td>\n",
       "      <td>58883400</td>\n",
       "      <td>NaN</td>\n",
       "      <td>NaN</td>\n",
       "      <td>NaN</td>\n",
       "    </tr>\n",
       "    <tr>\n",
       "      <th>2021-10-25</th>\n",
       "      <td>148.679993</td>\n",
       "      <td>149.369995</td>\n",
       "      <td>147.619995</td>\n",
       "      <td>148.639999</td>\n",
       "      <td>147.566925</td>\n",
       "      <td>50720600</td>\n",
       "      <td>NaN</td>\n",
       "      <td>NaN</td>\n",
       "      <td>NaN</td>\n",
       "    </tr>\n",
       "    <tr>\n",
       "      <th>2021-10-26</th>\n",
       "      <td>149.330002</td>\n",
       "      <td>150.839996</td>\n",
       "      <td>149.009995</td>\n",
       "      <td>149.320007</td>\n",
       "      <td>148.242050</td>\n",
       "      <td>60893400</td>\n",
       "      <td>NaN</td>\n",
       "      <td>NaN</td>\n",
       "      <td>NaN</td>\n",
       "    </tr>\n",
       "    <tr>\n",
       "      <th>2021-10-27</th>\n",
       "      <td>149.360001</td>\n",
       "      <td>149.729996</td>\n",
       "      <td>148.490005</td>\n",
       "      <td>148.850006</td>\n",
       "      <td>147.775436</td>\n",
       "      <td>56094900</td>\n",
       "      <td>NaN</td>\n",
       "      <td>NaN</td>\n",
       "      <td>NaN</td>\n",
       "    </tr>\n",
       "    <tr>\n",
       "      <th>2021-10-28</th>\n",
       "      <td>149.820007</td>\n",
       "      <td>153.169998</td>\n",
       "      <td>149.720001</td>\n",
       "      <td>152.570007</td>\n",
       "      <td>151.468567</td>\n",
       "      <td>100077900</td>\n",
       "      <td>NaN</td>\n",
       "      <td>NaN</td>\n",
       "      <td>NaN</td>\n",
       "    </tr>\n",
       "    <tr>\n",
       "      <th>...</th>\n",
       "      <td>...</td>\n",
       "      <td>...</td>\n",
       "      <td>...</td>\n",
       "      <td>...</td>\n",
       "      <td>...</td>\n",
       "      <td>...</td>\n",
       "      <td>...</td>\n",
       "      <td>...</td>\n",
       "      <td>...</td>\n",
       "    </tr>\n",
       "    <tr>\n",
       "      <th>2022-12-23</th>\n",
       "      <td>130.919998</td>\n",
       "      <td>132.419998</td>\n",
       "      <td>129.639999</td>\n",
       "      <td>131.860001</td>\n",
       "      <td>131.860001</td>\n",
       "      <td>63814900</td>\n",
       "      <td>140.6610</td>\n",
       "      <td>143.646999</td>\n",
       "      <td>136.839000</td>\n",
       "    </tr>\n",
       "    <tr>\n",
       "      <th>2022-12-27</th>\n",
       "      <td>131.380005</td>\n",
       "      <td>131.410004</td>\n",
       "      <td>128.720001</td>\n",
       "      <td>130.029999</td>\n",
       "      <td>130.029999</td>\n",
       "      <td>69007800</td>\n",
       "      <td>139.9515</td>\n",
       "      <td>142.991332</td>\n",
       "      <td>135.392999</td>\n",
       "    </tr>\n",
       "    <tr>\n",
       "      <th>2022-12-28</th>\n",
       "      <td>129.669998</td>\n",
       "      <td>131.029999</td>\n",
       "      <td>125.870003</td>\n",
       "      <td>126.040001</td>\n",
       "      <td>126.040001</td>\n",
       "      <td>85438400</td>\n",
       "      <td>139.1950</td>\n",
       "      <td>142.249999</td>\n",
       "      <td>133.449999</td>\n",
       "    </tr>\n",
       "    <tr>\n",
       "      <th>2022-12-29</th>\n",
       "      <td>127.989998</td>\n",
       "      <td>130.479996</td>\n",
       "      <td>127.730003</td>\n",
       "      <td>129.610001</td>\n",
       "      <td>129.610001</td>\n",
       "      <td>75703700</td>\n",
       "      <td>138.2740</td>\n",
       "      <td>141.568999</td>\n",
       "      <td>132.089999</td>\n",
       "    </tr>\n",
       "    <tr>\n",
       "      <th>2022-12-30</th>\n",
       "      <td>128.410004</td>\n",
       "      <td>129.949997</td>\n",
       "      <td>127.430000</td>\n",
       "      <td>129.929993</td>\n",
       "      <td>129.929993</td>\n",
       "      <td>76960600</td>\n",
       "      <td>137.3550</td>\n",
       "      <td>140.940333</td>\n",
       "      <td>131.432998</td>\n",
       "    </tr>\n",
       "  </tbody>\n",
       "</table>\n",
       "<p>300 rows × 9 columns</p>\n",
       "</div>"
      ],
      "text/plain": [
       "                  Open        High         Low       Close   Adj Close  \\\n",
       "Date                                                                     \n",
       "2021-10-22  149.690002  150.179993  148.639999  148.690002  147.616577   \n",
       "2021-10-25  148.679993  149.369995  147.619995  148.639999  147.566925   \n",
       "2021-10-26  149.330002  150.839996  149.009995  149.320007  148.242050   \n",
       "2021-10-27  149.360001  149.729996  148.490005  148.850006  147.775436   \n",
       "2021-10-28  149.820007  153.169998  149.720001  152.570007  151.468567   \n",
       "...                ...         ...         ...         ...         ...   \n",
       "2022-12-23  130.919998  132.419998  129.639999  131.860001  131.860001   \n",
       "2022-12-27  131.380005  131.410004  128.720001  130.029999  130.029999   \n",
       "2022-12-28  129.669998  131.029999  125.870003  126.040001  126.040001   \n",
       "2022-12-29  127.989998  130.479996  127.730003  129.610001  129.610001   \n",
       "2022-12-30  128.410004  129.949997  127.430000  129.929993  129.929993   \n",
       "\n",
       "               Volume     ma_20       ma_30       ma_10  \n",
       "Date                                                     \n",
       "2021-10-22   58883400       NaN         NaN         NaN  \n",
       "2021-10-25   50720600       NaN         NaN         NaN  \n",
       "2021-10-26   60893400       NaN         NaN         NaN  \n",
       "2021-10-27   56094900       NaN         NaN         NaN  \n",
       "2021-10-28  100077900       NaN         NaN         NaN  \n",
       "...               ...       ...         ...         ...  \n",
       "2022-12-23   63814900  140.6610  143.646999  136.839000  \n",
       "2022-12-27   69007800  139.9515  142.991332  135.392999  \n",
       "2022-12-28   85438400  139.1950  142.249999  133.449999  \n",
       "2022-12-29   75703700  138.2740  141.568999  132.089999  \n",
       "2022-12-30   76960600  137.3550  140.940333  131.432998  \n",
       "\n",
       "[300 rows x 9 columns]"
      ]
     },
     "execution_count": 190,
     "metadata": {},
     "output_type": "execute_result"
    }
   ],
   "source": [
    "aapl['ma_10']=aapl['Close'].rolling(window=10).mean()\n",
    "aapl"
   ]
  },
  {
   "cell_type": "code",
   "execution_count": 347,
   "id": "212c2fb4",
   "metadata": {},
   "outputs": [
    {
     "data": {
      "text/html": [
       "<div>\n",
       "<style scoped>\n",
       "    .dataframe tbody tr th:only-of-type {\n",
       "        vertical-align: middle;\n",
       "    }\n",
       "\n",
       "    .dataframe tbody tr th {\n",
       "        vertical-align: top;\n",
       "    }\n",
       "\n",
       "    .dataframe thead th {\n",
       "        text-align: right;\n",
       "    }\n",
       "</style>\n",
       "<table border=\"1\" class=\"dataframe\">\n",
       "  <thead>\n",
       "    <tr style=\"text-align: right;\">\n",
       "      <th></th>\n",
       "      <th>Open</th>\n",
       "      <th>High</th>\n",
       "      <th>Low</th>\n",
       "      <th>Close</th>\n",
       "      <th>Adj Close</th>\n",
       "      <th>Volume</th>\n",
       "      <th>ma_20</th>\n",
       "      <th>ma_30</th>\n",
       "      <th>ma_10</th>\n",
       "    </tr>\n",
       "    <tr>\n",
       "      <th>Date</th>\n",
       "      <th></th>\n",
       "      <th></th>\n",
       "      <th></th>\n",
       "      <th></th>\n",
       "      <th></th>\n",
       "      <th></th>\n",
       "      <th></th>\n",
       "      <th></th>\n",
       "      <th></th>\n",
       "    </tr>\n",
       "  </thead>\n",
       "  <tbody>\n",
       "    <tr>\n",
       "      <th>2021-10-22</th>\n",
       "      <td>149.690002</td>\n",
       "      <td>150.179993</td>\n",
       "      <td>148.639999</td>\n",
       "      <td>148.690002</td>\n",
       "      <td>147.616577</td>\n",
       "      <td>58883400</td>\n",
       "      <td>NaN</td>\n",
       "      <td>NaN</td>\n",
       "      <td>NaN</td>\n",
       "    </tr>\n",
       "    <tr>\n",
       "      <th>2021-10-25</th>\n",
       "      <td>148.679993</td>\n",
       "      <td>149.369995</td>\n",
       "      <td>147.619995</td>\n",
       "      <td>148.639999</td>\n",
       "      <td>147.566925</td>\n",
       "      <td>50720600</td>\n",
       "      <td>NaN</td>\n",
       "      <td>NaN</td>\n",
       "      <td>NaN</td>\n",
       "    </tr>\n",
       "    <tr>\n",
       "      <th>2021-10-26</th>\n",
       "      <td>149.330002</td>\n",
       "      <td>150.839996</td>\n",
       "      <td>149.009995</td>\n",
       "      <td>149.320007</td>\n",
       "      <td>148.242050</td>\n",
       "      <td>60893400</td>\n",
       "      <td>NaN</td>\n",
       "      <td>NaN</td>\n",
       "      <td>NaN</td>\n",
       "    </tr>\n",
       "    <tr>\n",
       "      <th>2021-10-27</th>\n",
       "      <td>149.360001</td>\n",
       "      <td>149.729996</td>\n",
       "      <td>148.490005</td>\n",
       "      <td>148.850006</td>\n",
       "      <td>147.775436</td>\n",
       "      <td>56094900</td>\n",
       "      <td>NaN</td>\n",
       "      <td>NaN</td>\n",
       "      <td>NaN</td>\n",
       "    </tr>\n",
       "    <tr>\n",
       "      <th>2021-10-28</th>\n",
       "      <td>149.820007</td>\n",
       "      <td>153.169998</td>\n",
       "      <td>149.720001</td>\n",
       "      <td>152.570007</td>\n",
       "      <td>151.468567</td>\n",
       "      <td>100077900</td>\n",
       "      <td>NaN</td>\n",
       "      <td>NaN</td>\n",
       "      <td>NaN</td>\n",
       "    </tr>\n",
       "    <tr>\n",
       "      <th>...</th>\n",
       "      <td>...</td>\n",
       "      <td>...</td>\n",
       "      <td>...</td>\n",
       "      <td>...</td>\n",
       "      <td>...</td>\n",
       "      <td>...</td>\n",
       "      <td>...</td>\n",
       "      <td>...</td>\n",
       "      <td>...</td>\n",
       "    </tr>\n",
       "    <tr>\n",
       "      <th>2022-12-23</th>\n",
       "      <td>130.919998</td>\n",
       "      <td>132.419998</td>\n",
       "      <td>129.639999</td>\n",
       "      <td>131.860001</td>\n",
       "      <td>131.860001</td>\n",
       "      <td>63814900</td>\n",
       "      <td>140.6610</td>\n",
       "      <td>143.646999</td>\n",
       "      <td>136.839000</td>\n",
       "    </tr>\n",
       "    <tr>\n",
       "      <th>2022-12-27</th>\n",
       "      <td>131.380005</td>\n",
       "      <td>131.410004</td>\n",
       "      <td>128.720001</td>\n",
       "      <td>130.029999</td>\n",
       "      <td>130.029999</td>\n",
       "      <td>69007800</td>\n",
       "      <td>139.9515</td>\n",
       "      <td>142.991332</td>\n",
       "      <td>135.392999</td>\n",
       "    </tr>\n",
       "    <tr>\n",
       "      <th>2022-12-28</th>\n",
       "      <td>129.669998</td>\n",
       "      <td>131.029999</td>\n",
       "      <td>125.870003</td>\n",
       "      <td>126.040001</td>\n",
       "      <td>126.040001</td>\n",
       "      <td>85438400</td>\n",
       "      <td>139.1950</td>\n",
       "      <td>142.249999</td>\n",
       "      <td>133.449999</td>\n",
       "    </tr>\n",
       "    <tr>\n",
       "      <th>2022-12-29</th>\n",
       "      <td>127.989998</td>\n",
       "      <td>130.479996</td>\n",
       "      <td>127.730003</td>\n",
       "      <td>129.610001</td>\n",
       "      <td>129.610001</td>\n",
       "      <td>75703700</td>\n",
       "      <td>138.2740</td>\n",
       "      <td>141.568999</td>\n",
       "      <td>132.089999</td>\n",
       "    </tr>\n",
       "    <tr>\n",
       "      <th>2022-12-30</th>\n",
       "      <td>128.410004</td>\n",
       "      <td>129.949997</td>\n",
       "      <td>127.430000</td>\n",
       "      <td>129.929993</td>\n",
       "      <td>129.929993</td>\n",
       "      <td>76960600</td>\n",
       "      <td>137.3550</td>\n",
       "      <td>140.940333</td>\n",
       "      <td>131.432998</td>\n",
       "    </tr>\n",
       "  </tbody>\n",
       "</table>\n",
       "<p>300 rows × 9 columns</p>\n",
       "</div>"
      ],
      "text/plain": [
       "                  Open        High         Low       Close   Adj Close  \\\n",
       "Date                                                                     \n",
       "2021-10-22  149.690002  150.179993  148.639999  148.690002  147.616577   \n",
       "2021-10-25  148.679993  149.369995  147.619995  148.639999  147.566925   \n",
       "2021-10-26  149.330002  150.839996  149.009995  149.320007  148.242050   \n",
       "2021-10-27  149.360001  149.729996  148.490005  148.850006  147.775436   \n",
       "2021-10-28  149.820007  153.169998  149.720001  152.570007  151.468567   \n",
       "...                ...         ...         ...         ...         ...   \n",
       "2022-12-23  130.919998  132.419998  129.639999  131.860001  131.860001   \n",
       "2022-12-27  131.380005  131.410004  128.720001  130.029999  130.029999   \n",
       "2022-12-28  129.669998  131.029999  125.870003  126.040001  126.040001   \n",
       "2022-12-29  127.989998  130.479996  127.730003  129.610001  129.610001   \n",
       "2022-12-30  128.410004  129.949997  127.430000  129.929993  129.929993   \n",
       "\n",
       "               Volume     ma_20       ma_30       ma_10  \n",
       "Date                                                     \n",
       "2021-10-22   58883400       NaN         NaN         NaN  \n",
       "2021-10-25   50720600       NaN         NaN         NaN  \n",
       "2021-10-26   60893400       NaN         NaN         NaN  \n",
       "2021-10-27   56094900       NaN         NaN         NaN  \n",
       "2021-10-28  100077900       NaN         NaN         NaN  \n",
       "...               ...       ...         ...         ...  \n",
       "2022-12-23   63814900  140.6610  143.646999  136.839000  \n",
       "2022-12-27   69007800  139.9515  142.991332  135.392999  \n",
       "2022-12-28   85438400  139.1950  142.249999  133.449999  \n",
       "2022-12-29   75703700  138.2740  141.568999  132.089999  \n",
       "2022-12-30   76960600  137.3550  140.940333  131.432998  \n",
       "\n",
       "[300 rows x 9 columns]"
      ]
     },
     "execution_count": 347,
     "metadata": {},
     "output_type": "execute_result"
    }
   ],
   "source": [
    "aapl['ma_10']=aapl['Close'].rolling(window=10).mean()\n",
    "aapl['ma_20']=aapl['Close'].rolling(window=20).mean()\n",
    "aapl['ma_30']=aapl['Close'].rolling(window=30).mean()\n",
    "aapl"
   ]
  },
  {
   "cell_type": "code",
   "execution_count": null,
   "id": "926cece1",
   "metadata": {},
   "outputs": [],
   "source": []
  },
  {
   "cell_type": "code",
   "execution_count": 192,
   "id": "5fe758f6",
   "metadata": {},
   "outputs": [],
   "source": [
    "#5. Plot the moving averages against the price time series"
   ]
  },
  {
   "cell_type": "code",
   "execution_count": 195,
   "id": "124a1ba6",
   "metadata": {},
   "outputs": [
    {
     "data": {
      "text/plain": [
       "<matplotlib.legend.Legend at 0x7fa3f2692fd0>"
      ]
     },
     "execution_count": 195,
     "metadata": {},
     "output_type": "execute_result"
    },
    {
     "data": {
      "image/png": "[encoded data removed]",
      "text/plain": [
       "<Figure size 432x288 with 1 Axes>"
      ]
     },
     "metadata": {
      "needs_background": "light"
     },
     "output_type": "display_data"
    }
   ],
   "source": [
    "plt.plot(aapl.ma_10,color='grey',label = \"Moving Average 10\")\n",
    "plt.plot(aapl.ma_20,color='red',label = \"Moving Average 20\")\n",
    "plt.plot(aapl.ma_30,color='blue',label = \"Moving Average 30\")\n",
    "plt.plot(aapl['Close'],color='green',label = \"Appl price time series\")\n",
    "plt.legend()"
   ]
  },
  {
   "cell_type": "code",
   "execution_count": 196,
   "id": "d692c499",
   "metadata": {},
   "outputs": [],
   "source": [
    "#plt.plot(aapl['Close'],aapl.ma_10)"
   ]
  },
  {
   "cell_type": "code",
   "execution_count": 197,
   "id": "43f617cd",
   "metadata": {},
   "outputs": [],
   "source": [
    "#plt.scatter(aapl['Close'],aapl.ma_10)\n",
    "#plt.scatter(aapl['Close'],aapl.ma_20)\n",
    "#plt.scatter(aapl['Close'],aapl.ma_30)"
   ]
  },
  {
   "cell_type": "code",
   "execution_count": null,
   "id": "6a3569bf",
   "metadata": {},
   "outputs": [],
   "source": [
    "#6. Compute the linear and log-return of the price time series"
   ]
  },
  {
   "cell_type": "markdown",
   "id": "a4dcf5f3",
   "metadata": {},
   "source": [
    "$log(R_t)=log(P_t)-log(P_{t-1})$\n",
    "\n",
    "$R_t=\\frac{(P_t-P_{t-1})}{p_{t-1}}$"
   ]
  },
  {
   "cell_type": "code",
   "execution_count": 348,
   "id": "98d8cc78",
   "metadata": {},
   "outputs": [
    {
     "name": "stdout",
     "output_type": "stream",
     "text": [
      "Date\n",
      "2021-10-25   -0.000336\n",
      "2021-10-26    0.004564\n",
      "2021-10-27   -0.003153\n",
      "2021-10-28    0.024684\n",
      "2021-10-29   -0.018322\n",
      "                ...   \n",
      "2022-12-23   -0.002802\n",
      "2022-12-27   -0.013976\n",
      "2022-12-28   -0.031166\n",
      "2022-12-29    0.027931\n",
      "2022-12-30    0.002466\n",
      "Name: Close, Length: 299, dtype: float64\n",
      "Date\n",
      "2021-10-25   -0.000336\n",
      "2021-10-26    0.004575\n",
      "2021-10-27   -0.003148\n",
      "2021-10-28    0.024992\n",
      "2021-10-29   -0.018156\n",
      "                ...   \n",
      "2022-12-23   -0.002798\n",
      "2022-12-27   -0.013878\n",
      "2022-12-28   -0.030685\n",
      "2022-12-29    0.028324\n",
      "2022-12-30    0.002469\n",
      "Name: Close, Length: 299, dtype: float64\n"
     ]
    }
   ],
   "source": [
    "log_rets= (np.log(aapl.Close) - np.log(aapl.Close.shift(1))).dropna()\n",
    "print(log_rets)\n",
    "linear_rets = ((aapl.Close) /aapl.Close.shift(1) -1).dropna()\n",
    "print(linear_rets)"
   ]
  },
  {
   "cell_type": "code",
   "execution_count": null,
   "id": "b3b5e8d8",
   "metadata": {},
   "outputs": [],
   "source": [
    "#7. Plot the linear return against the log-return time series"
   ]
  },
  {
   "cell_type": "code",
   "execution_count": 200,
   "id": "aed3aac0",
   "metadata": {},
   "outputs": [
    {
     "data": {
      "text/plain": [
       "<matplotlib.legend.Legend at 0x7fa3f27cdb50>"
      ]
     },
     "execution_count": 200,
     "metadata": {},
     "output_type": "execute_result"
    },
    {
     "data": {
      "image/png": "[encoded data removed]",
      "text/plain": [
       "<Figure size 432x288 with 1 Axes>"
      ]
     },
     "metadata": {
      "needs_background": "light"
     },
     "output_type": "display_data"
    }
   ],
   "source": [
    "plt.plot(log_rets,color='red',label = \"Log-return time series\")\n",
    "plt.plot(linear_rets,color='blue',label = \"Linear return\")\n",
    "plt.legend()"
   ]
  },
  {
   "cell_type": "code",
   "execution_count": 201,
   "id": "d3ff14d4",
   "metadata": {},
   "outputs": [],
   "source": [
    "#plt.plot(log_rets,linear_rets)"
   ]
  },
  {
   "cell_type": "code",
   "execution_count": 202,
   "id": "70a2c142",
   "metadata": {},
   "outputs": [],
   "source": [
    "#plt.scatter(log_rets,linear_rets)"
   ]
  },
  {
   "cell_type": "code",
   "execution_count": 77,
   "id": "dd0ad844",
   "metadata": {},
   "outputs": [],
   "source": [
    "#print(linear_rets)\n",
    "#print(log_rets)"
   ]
  },
  {
   "cell_type": "code",
   "execution_count": 86,
   "id": "e8ae16e1",
   "metadata": {},
   "outputs": [
    {
     "name": "stdout",
     "output_type": "stream",
     "text": [
      "Collecting pandas_datareader\n",
      "  Downloading pandas_datareader-0.10.0-py3-none-any.whl (109 kB)\n",
      "\u001b[K     |████████████████████████████████| 109 kB 6.3 MB/s eta 0:00:01\n",
      "\u001b[?25hRequirement already satisfied: requests>=2.19.0 in /Users/xingyulin/opt/anaconda3/lib/python3.9/site-packages (from pandas_datareader) (2.27.1)\n",
      "Requirement already satisfied: lxml in /Users/xingyulin/opt/anaconda3/lib/python3.9/site-packages (from pandas_datareader) (4.9.2)\n",
      "Requirement already satisfied: pandas>=0.23 in /Users/xingyulin/opt/anaconda3/lib/python3.9/site-packages (from pandas_datareader) (1.4.2)\n",
      "Requirement already satisfied: python-dateutil>=2.8.1 in /Users/xingyulin/opt/anaconda3/lib/python3.9/site-packages (from pandas>=0.23->pandas_datareader) (2.8.2)\n",
      "Requirement already satisfied: pytz>=2020.1 in /Users/xingyulin/opt/anaconda3/lib/python3.9/site-packages (from pandas>=0.23->pandas_datareader) (2022.7)\n",
      "Requirement already satisfied: numpy>=1.18.5 in /Users/xingyulin/opt/anaconda3/lib/python3.9/site-packages (from pandas>=0.23->pandas_datareader) (1.21.5)\n",
      "Requirement already satisfied: six>=1.5 in /Users/xingyulin/opt/anaconda3/lib/python3.9/site-packages (from python-dateutil>=2.8.1->pandas>=0.23->pandas_datareader) (1.16.0)\n",
      "Requirement already satisfied: urllib3<1.27,>=1.21.1 in /Users/xingyulin/opt/anaconda3/lib/python3.9/site-packages (from requests>=2.19.0->pandas_datareader) (1.26.9)\n",
      "Requirement already satisfied: charset-normalizer~=2.0.0 in /Users/xingyulin/opt/anaconda3/lib/python3.9/site-packages (from requests>=2.19.0->pandas_datareader) (2.0.4)\n",
      "Requirement already satisfied: certifi>=2017.4.17 in /Users/xingyulin/opt/anaconda3/lib/python3.9/site-packages (from requests>=2.19.0->pandas_datareader) (2021.10.8)\n",
      "Requirement already satisfied: idna<4,>=2.5 in /Users/xingyulin/opt/anaconda3/lib/python3.9/site-packages (from requests>=2.19.0->pandas_datareader) (3.3)\n",
      "Installing collected packages: pandas-datareader\n",
      "Successfully installed pandas-datareader-0.10.0\n"
     ]
    }
   ],
   "source": [
    "!pip install pandas_datareader"
   ]
  },
  {
   "cell_type": "markdown",
   "id": "5a10a279",
   "metadata": {},
   "source": [
    "# Time Series Analysis"
   ]
  },
  {
   "cell_type": "code",
   "execution_count": 91,
   "id": "be33049a",
   "metadata": {},
   "outputs": [],
   "source": [
    "import pandas\n",
    "%matplotlib inline\n",
    "import matplotlib.pyplot as plt\n",
    "import numpy as np\n",
    "\n",
    "from pandas_datareader import data as pdr\n",
    "\n",
    "import statsmodels\n",
    "import statsmodels.api as sm"
   ]
  },
  {
   "cell_type": "code",
   "execution_count": 228,
   "id": "822f20ad",
   "metadata": {},
   "outputs": [],
   "source": [
    "#8. Define the auto-correlation function (for a stationary time-series)"
   ]
  },
  {
   "cell_type": "markdown",
   "id": "984ffb88",
   "metadata": {},
   "source": [
    "The mathematical formuala for autocorrelation function $\\rho_k =\\frac{Cov(e_t+e_{t+k })}{\\sigma^2}$, where the time series is stationary. This means that it doesn't depend on time. In time series, we calculate different time steps (lags) to find the correlations between the data points themselves. It is a way to find the correlation with itself.\n"
   ]
  },
  {
   "cell_type": "code",
   "execution_count": null,
   "id": "917e6be1",
   "metadata": {},
   "outputs": [],
   "source": [
    "#9. Compute the auto-correlation function (ACF) of the price time series"
   ]
  },
  {
   "cell_type": "code",
   "execution_count": 212,
   "id": "771685cd",
   "metadata": {},
   "outputs": [],
   "source": [
    "close_aapl = aapl['Close']\n",
    "acf_aapl = statsmodels.tsa.stattools.acf(close_aapl)"
   ]
  },
  {
   "cell_type": "code",
   "execution_count": 213,
   "id": "10bad118",
   "metadata": {},
   "outputs": [
    {
     "data": {
      "text/plain": [
       "array([1.        , 0.96078203, 0.92231115, 0.88743308, 0.85563346,\n",
       "       0.82588951, 0.7901401 , 0.75713222, 0.72314405, 0.69478986,\n",
       "       0.66498907, 0.64208303, 0.61657133, 0.59364492, 0.56789896,\n",
       "       0.53966434, 0.51482728, 0.49031151, 0.46810689, 0.44314312,\n",
       "       0.41798741, 0.39456291, 0.3707772 , 0.3462498 , 0.32195697])"
      ]
     },
     "execution_count": 213,
     "metadata": {},
     "output_type": "execute_result"
    }
   ],
   "source": [
    "acf_aapl"
   ]
  },
  {
   "cell_type": "code",
   "execution_count": null,
   "id": "4ca94cf3",
   "metadata": {},
   "outputs": [],
   "source": [
    "#The first lag shows strong autocorrelation(1), because it indicates the autocorrelation with $Y_t$.\n",
    "#As lag becomes larger, the autocorrelation becomes smaller, because $Y_t$ mostly has nothing to do with itself a long time later.\n"
   ]
  },
  {
   "cell_type": "code",
   "execution_count": null,
   "id": "e67abcf7",
   "metadata": {},
   "outputs": [],
   "source": []
  },
  {
   "cell_type": "code",
   "execution_count": 214,
   "id": "0562aba7",
   "metadata": {},
   "outputs": [],
   "source": [
    "#10. Plot the price ACF"
   ]
  },
  {
   "cell_type": "code",
   "execution_count": 215,
   "id": "e145c7ea",
   "metadata": {},
   "outputs": [
    {
     "data": {
      "text/plain": [
       "[<matplotlib.lines.Line2D at 0x7fa3e02cf070>]"
      ]
     },
     "execution_count": 215,
     "metadata": {},
     "output_type": "execute_result"
    },
    {
     "data": {
      "image/png": "[encoded data removed]",
      "text/plain": [
       "<Figure size 432x288 with 1 Axes>"
      ]
     },
     "metadata": {
      "needs_background": "light"
     },
     "output_type": "display_data"
    }
   ],
   "source": [
    "plt.plot(acf_aapl)"
   ]
  },
  {
   "cell_type": "code",
   "execution_count": null,
   "id": "e1b1be9f",
   "metadata": {},
   "outputs": [],
   "source": [
    "#Two different codes are used to show the ACF and PACF plots. The first one can see the general trend, and the second one shows changes of the lags more clear.\n",
    "#The ACF plot of closed price time series shows a gradual decay trend."
   ]
  },
  {
   "cell_type": "code",
   "execution_count": 216,
   "id": "d7540852",
   "metadata": {},
   "outputs": [],
   "source": [
    "#11. Compute the partial auto-correlation function (PACF) of the price time series"
   ]
  },
  {
   "cell_type": "code",
   "execution_count": 217,
   "id": "1135e04a",
   "metadata": {},
   "outputs": [],
   "source": [
    "pacf_aapl = statsmodels.tsa.stattools.pacf(close_aapl)"
   ]
  },
  {
   "cell_type": "code",
   "execution_count": 542,
   "id": "9607eeed",
   "metadata": {},
   "outputs": [
    {
     "data": {
      "text/plain": [
       "array([ 1.00000000e+00,  9.63995347e-01, -1.11135531e-02,  2.95916168e-02,\n",
       "        2.47577040e-02,  1.38258854e-02, -1.00221087e-01,  2.13166087e-02,\n",
       "       -4.02401459e-02,  5.89634750e-02, -4.36439158e-02,  9.91470506e-02,\n",
       "       -6.10178198e-02,  4.26563239e-02, -7.67253277e-02, -3.26090668e-02,\n",
       "       -5.69832273e-04,  8.43204206e-03, -6.18226250e-03, -2.57154310e-02,\n",
       "       -3.03552951e-02,  2.10796638e-02, -4.54695742e-02, -2.45173451e-02,\n",
       "       -2.04634680e-02])"
      ]
     },
     "execution_count": 542,
     "metadata": {},
     "output_type": "execute_result"
    }
   ],
   "source": [
    "pacf_aapl"
   ]
  },
  {
   "cell_type": "code",
   "execution_count": 543,
   "id": "c7d8a55c",
   "metadata": {},
   "outputs": [],
   "source": [
    "#12. Plot the price PACF"
   ]
  },
  {
   "cell_type": "code",
   "execution_count": 544,
   "id": "86b6a789",
   "metadata": {},
   "outputs": [
    {
     "data": {
      "text/plain": [
       "[<matplotlib.lines.Line2D at 0x7fa40cf70a00>]"
      ]
     },
     "execution_count": 544,
     "metadata": {},
     "output_type": "execute_result"
    },
    {
     "data": {
      "image/png": "[encoded data removed]",
      "text/plain": [
       "<Figure size 432x288 with 1 Axes>"
      ]
     },
     "metadata": {
      "needs_background": "light"
     },
     "output_type": "display_data"
    }
   ],
   "source": [
    "plt.plot(pacf_aapl)"
   ]
  },
  {
   "cell_type": "code",
   "execution_count": null,
   "id": "909e6101",
   "metadata": {},
   "outputs": [],
   "source": [
    "#Pacf plot of closed price time series shows a sharp cutoff."
   ]
  },
  {
   "cell_type": "code",
   "execution_count": 221,
   "id": "c93f74c6",
   "metadata": {},
   "outputs": [
    {
     "data": {
      "image/png": "[encoded data removed]",
      "text/plain": [
       "<Figure size 432x288 with 1 Axes>"
      ]
     },
     "metadata": {
      "needs_background": "light"
     },
     "output_type": "display_data"
    }
   ],
   "source": [
    "from statsmodels.graphics.tsaplots import plot_acf\n",
    "from statsmodels.graphics.tsaplots import plot_pacf\n",
    "plot_acf(close_aapl)\n",
    "\n",
    "plt.show()"
   ]
  },
  {
   "cell_type": "code",
   "execution_count": 226,
   "id": "0451739f",
   "metadata": {},
   "outputs": [
    {
     "name": "stderr",
     "output_type": "stream",
     "text": [
      "/Users/xingyulin/opt/anaconda3/lib/python3.9/site-packages/statsmodels/graphics/tsaplots.py:348: FutureWarning: The default method 'yw' can produce PACF values outside of the [-1,1] interval. After 0.13, the default will change tounadjusted Yule-Walker ('ywm'). You can use this method now by setting method='ywm'.\n",
      "  warnings.warn(\n"
     ]
    },
    {
     "data": {
      "image/png": "[encoded data removed]",
      "text/plain": [
       "<Figure size 432x288 with 1 Axes>"
      ]
     },
     "metadata": {
      "needs_background": "light"
     },
     "output_type": "display_data"
    }
   ],
   "source": [
    "plot_pacf(close_aapl) \n",
    "\n",
    "plt.show()"
   ]
  },
  {
   "cell_type": "code",
   "execution_count": null,
   "id": "5caf55ec",
   "metadata": {},
   "outputs": [],
   "source": [
    "#13. Compute the auto-correlation function (ACF) of the return time series & plot"
   ]
  },
  {
   "cell_type": "code",
   "execution_count": 362,
   "id": "46a19125",
   "metadata": {},
   "outputs": [],
   "source": [
    "#return pacf & acf"
   ]
  },
  {
   "cell_type": "code",
   "execution_count": null,
   "id": "1cff3930",
   "metadata": {},
   "outputs": [],
   "source": [
    "#Here I choose to use linear return for convenience. "
   ]
  },
  {
   "cell_type": "code",
   "execution_count": 183,
   "id": "c1605e18",
   "metadata": {},
   "outputs": [],
   "source": [
    "r_aapl = close_aapl[1:]/close_aapl[:-1].values - 1"
   ]
  },
  {
   "cell_type": "code",
   "execution_count": 184,
   "id": "0d2373cc",
   "metadata": {},
   "outputs": [
    {
     "name": "stdout",
     "output_type": "stream",
     "text": [
      "[ 1.         -0.02186086 -0.08917166 -0.02799636 -0.01482845  0.0840374\n",
      " -0.01448748 -0.02551101 -0.07812503  0.07000609 -0.10811277  0.05069111\n",
      " -0.05570437  0.04278534  0.00302649 -0.04851131 -0.01796379 -0.0039516\n",
      "  0.07165953  0.01933902  0.05212804  0.00119642 -0.05819966 -0.00301655]\n"
     ]
    },
    {
     "data": {
      "image/png": "[encoded data removed]",
      "text/plain": [
       "<Figure size 432x288 with 1 Axes>"
      ]
     },
     "metadata": {
      "needs_background": "light"
     },
     "output_type": "display_data"
    }
   ],
   "source": [
    "r_acf_aapl = statsmodels.tsa.stattools.acf(r_aapl)\n",
    "print(r_acf_aapl)\n",
    "plt.plot(r_acf_aapl)\n",
    "plt.show()"
   ]
  },
  {
   "cell_type": "code",
   "execution_count": null,
   "id": "69f93226",
   "metadata": {},
   "outputs": [],
   "source": [
    "#Acf plot of linear return shows a sharp cutoff. The plot shows that it roughly cuts off at lag=1."
   ]
  },
  {
   "cell_type": "code",
   "execution_count": 185,
   "id": "2b16a0b4",
   "metadata": {},
   "outputs": [],
   "source": [
    "#15. Compute the partial auto-correlation function (PACF) of the return time series & plot"
   ]
  },
  {
   "cell_type": "code",
   "execution_count": 186,
   "id": "b5d684a3",
   "metadata": {},
   "outputs": [
    {
     "name": "stdout",
     "output_type": "stream",
     "text": [
      "[ 1.         -0.02194866 -0.09041609 -0.03275571 -0.02499148  0.07995895\n",
      " -0.01528951 -0.01328225 -0.08164369  0.06907572 -0.13618914  0.06330145\n",
      " -0.08357786  0.07293309 -0.0355908  -0.01461992 -0.0509467   0.01833102\n",
      "  0.02939703  0.05594024  0.03775129  0.05374867 -0.09206284  0.01671816]\n"
     ]
    },
    {
     "data": {
      "image/png": "[encoded data removed]",
      "text/plain": [
       "<Figure size 432x288 with 1 Axes>"
      ]
     },
     "metadata": {
      "needs_background": "light"
     },
     "output_type": "display_data"
    }
   ],
   "source": [
    "r_pacf_aapl = statsmodels.tsa.stattools.pacf(r_aapl)\n",
    "print(r_pacf_aapl)\n",
    "plt.plot(r_pacf_aapl)\n",
    "plt.show()"
   ]
  },
  {
   "cell_type": "code",
   "execution_count": null,
   "id": "7bdcb79f",
   "metadata": {},
   "outputs": [],
   "source": [
    "#Pacf plot of linear return shows a sharp cutoff. The plot shows that it roughly cuts off at lag=1 as well."
   ]
  },
  {
   "cell_type": "code",
   "execution_count": 358,
   "id": "f90f993b",
   "metadata": {},
   "outputs": [
    {
     "data": {
      "image/png": "[encoded data removed]",
      "text/plain": [
       "<Figure size 432x288 with 1 Axes>"
      ]
     },
     "metadata": {
      "needs_background": "light"
     },
     "output_type": "display_data"
    },
    {
     "data": {
      "image/png": "[encoded data removed]",
      "text/plain": [
       "<Figure size 432x288 with 1 Axes>"
      ]
     },
     "metadata": {
      "needs_background": "light"
     },
     "output_type": "display_data"
    }
   ],
   "source": [
    "plot_pacf(r_aapl,lags=10) \n",
    "plot_acf(r_aapl) \n",
    "plt.show()"
   ]
  },
  {
   "cell_type": "markdown",
   "id": "95b2483e",
   "metadata": {},
   "source": [
    "# ARMA models "
   ]
  },
  {
   "cell_type": "code",
   "execution_count": 349,
   "id": "4842fad7",
   "metadata": {},
   "outputs": [],
   "source": [
    "#17.Define mathematically an ARMA(p,q) model"
   ]
  },
  {
   "cell_type": "markdown",
   "id": "820faadd",
   "metadata": {},
   "source": [
    "The definition is: $y_t-\\phi_1y_{t-1}-\\phi_2y_{t-2}-...\\phi_py_{t-p}=\\epsilon_t+\\theta_1\\epsilon_{t-1}+\\theta_q\\epsilon_{t-q}$, where p=AR terms and q=MA terms. $\\epsilon$ is the independent identically distributed white noise. It is a combination of Autoregressive model and moving average model."
   ]
  },
  {
   "cell_type": "code",
   "execution_count": 132,
   "id": "b4f6eb06",
   "metadata": {},
   "outputs": [],
   "source": [
    "from statsmodels.tsa.arima.model import ARIMA"
   ]
  },
  {
   "cell_type": "code",
   "execution_count": null,
   "id": "29f15a74",
   "metadata": {},
   "outputs": [],
   "source": [
    "#18. Define a training and test set and fit an ARMA model to the price time series"
   ]
  },
  {
   "cell_type": "code",
   "execution_count": 545,
   "id": "7090d40e",
   "metadata": {},
   "outputs": [],
   "source": [
    "X = close_aapl.values\n",
    "train, test = X[0:len(X)-60], X[len(X)-60:]"
   ]
  },
  {
   "cell_type": "code",
   "execution_count": 546,
   "id": "eac46277",
   "metadata": {},
   "outputs": [],
   "source": [
    "from statsmodels.tsa.stattools import adfuller"
   ]
  },
  {
   "cell_type": "code",
   "execution_count": 547,
   "id": "b989d94b",
   "metadata": {},
   "outputs": [],
   "source": [
    "#To fit an arma model, we first need the time series to be stationary. Here, Dickey-fuller test is used to test the stationarity. The null hypothesis for this test is： there exists a unit root.\n",
    "# The p-value for the adf test on price time series is 0.24945957461065482, which is much bigger than 5% significance level. We can't reject the null hypothesis and thus the time series is not staionary."
   ]
  },
  {
   "cell_type": "code",
   "execution_count": 548,
   "id": "e0812281",
   "metadata": {},
   "outputs": [
    {
     "name": "stdout",
     "output_type": "stream",
     "text": [
      "(-2.029036778972333, 0.2739883653246199, 0, 239, {'1%': -3.458010773719797, '5%': -2.8737103617125186, '10%': -2.5732559963936206}, 1173.5848239053494)\n"
     ]
    }
   ],
   "source": [
    "print(statsmodels.tsa.stattools.adfuller(train))#since the p-value is much larger than 5%, the data is not stationary."
   ]
  },
  {
   "cell_type": "code",
   "execution_count": 549,
   "id": "36feb31e",
   "metadata": {},
   "outputs": [],
   "source": [
    "aapl_diff = aapl.diff()\n",
    "aapl_diff = aapl_diff.dropna()"
   ]
  },
  {
   "cell_type": "code",
   "execution_count": 550,
   "id": "195683f7",
   "metadata": {},
   "outputs": [],
   "source": [
    "#diff = aapl_diff.values\n",
    "train_diff, test_diff = aapl_diff[0:len(aapl_diff)-60], aapl_diff[len(aapl_diff)-60:]\n",
    "#print(train_diff)"
   ]
  },
  {
   "cell_type": "code",
   "execution_count": 551,
   "id": "64361c0a",
   "metadata": {},
   "outputs": [
    {
     "name": "stdout",
     "output_type": "stream",
     "text": [
      "(-14.465844957037602, 6.729262817716823e-27, 0, 209, {'1%': -3.4620315036789666, '5%': -2.8754705024827127, '10%': -2.5741950726860647}, 1021.0151401181902)\n"
     ]
    }
   ],
   "source": [
    "result_diff = adfuller(train_diff['Close'])\n",
    "print(result_diff)\n",
    "#To make it a stationary data, I differentiate the data once and do the adf test again. The p-value for this time is:7.029295080808902e-25, which is much smaller than 5% and thus, we can reject it.\n",
    "#now the p-value is 4.98e-20, which is much smaller than 5%. So the data is stationary now."
   ]
  },
  {
   "cell_type": "code",
   "execution_count": 552,
   "id": "7ec7dcfb",
   "metadata": {},
   "outputs": [
    {
     "data": {
      "image/png": "[encoded data removed]",
      "text/plain": [
       "<Figure size 432x288 with 1 Axes>"
      ]
     },
     "metadata": {
      "needs_background": "light"
     },
     "output_type": "display_data"
    },
    {
     "data": {
      "image/png": "[encoded data removed]",
      "text/plain": [
       "<Figure size 432x288 with 1 Axes>"
      ]
     },
     "metadata": {
      "needs_background": "light"
     },
     "output_type": "display_data"
    }
   ],
   "source": [
    "plot_pacf(train_diff['Close']) \n",
    "plot_acf(train_diff['Close']) \n",
    "plt.show()"
   ]
  },
  {
   "cell_type": "code",
   "execution_count": 297,
   "id": "6a32b62d",
   "metadata": {},
   "outputs": [
    {
     "name": "stdout",
     "output_type": "stream",
     "text": [
      "Collecting pmdarima\n",
      "  Downloading pmdarima-2.0.2-cp39-cp39-macosx_10_9_x86_64.whl (608 kB)\n",
      "\u001b[K     |████████████████████████████████| 608 kB 203 kB/s eta 0:00:01\n",
      "\u001b[?25hRequirement already satisfied: urllib3 in /Users/xingyulin/opt/anaconda3/lib/python3.9/site-packages (from pmdarima) (1.26.9)\n",
      "Requirement already satisfied: setuptools!=50.0.0,>=38.6.0 in /Users/xingyulin/opt/anaconda3/lib/python3.9/site-packages (from pmdarima) (61.2.0)\n",
      "Requirement already satisfied: statsmodels>=0.13.2 in /Users/xingyulin/opt/anaconda3/lib/python3.9/site-packages (from pmdarima) (0.13.2)\n",
      "Requirement already satisfied: pandas>=0.19 in /Users/xingyulin/opt/anaconda3/lib/python3.9/site-packages (from pmdarima) (1.4.2)\n",
      "Requirement already satisfied: numpy>=1.21.2 in /Users/xingyulin/opt/anaconda3/lib/python3.9/site-packages (from pmdarima) (1.21.5)\n",
      "Requirement already satisfied: scipy>=1.3.2 in /Users/xingyulin/opt/anaconda3/lib/python3.9/site-packages (from pmdarima) (1.7.3)\n",
      "Requirement already satisfied: joblib>=0.11 in /Users/xingyulin/opt/anaconda3/lib/python3.9/site-packages (from pmdarima) (1.1.0)\n",
      "Requirement already satisfied: scikit-learn>=0.22 in /Users/xingyulin/opt/anaconda3/lib/python3.9/site-packages (from pmdarima) (1.0.2)\n",
      "Requirement already satisfied: Cython!=0.29.18,!=0.29.31,>=0.29 in /Users/xingyulin/opt/anaconda3/lib/python3.9/site-packages (from pmdarima) (0.29.28)\n",
      "Requirement already satisfied: python-dateutil>=2.8.1 in /Users/xingyulin/opt/anaconda3/lib/python3.9/site-packages (from pandas>=0.19->pmdarima) (2.8.2)\n",
      "Requirement already satisfied: pytz>=2020.1 in /Users/xingyulin/opt/anaconda3/lib/python3.9/site-packages (from pandas>=0.19->pmdarima) (2022.7)\n",
      "Requirement already satisfied: six>=1.5 in /Users/xingyulin/opt/anaconda3/lib/python3.9/site-packages (from python-dateutil>=2.8.1->pandas>=0.19->pmdarima) (1.16.0)\n",
      "Requirement already satisfied: threadpoolctl>=2.0.0 in /Users/xingyulin/opt/anaconda3/lib/python3.9/site-packages (from scikit-learn>=0.22->pmdarima) (2.2.0)\n",
      "Requirement already satisfied: packaging>=21.3 in /Users/xingyulin/opt/anaconda3/lib/python3.9/site-packages (from statsmodels>=0.13.2->pmdarima) (21.3)\n",
      "Requirement already satisfied: patsy>=0.5.2 in /Users/xingyulin/opt/anaconda3/lib/python3.9/site-packages (from statsmodels>=0.13.2->pmdarima) (0.5.2)\n",
      "Requirement already satisfied: pyparsing!=3.0.5,>=2.0.2 in /Users/xingyulin/opt/anaconda3/lib/python3.9/site-packages (from packaging>=21.3->statsmodels>=0.13.2->pmdarima) (3.0.4)\n",
      "Installing collected packages: pmdarima\n",
      "Successfully installed pmdarima-2.0.2\n"
     ]
    }
   ],
   "source": [
    "!pip install pmdarima"
   ]
  },
  {
   "cell_type": "code",
   "execution_count": 553,
   "id": "dfaaa254",
   "metadata": {},
   "outputs": [],
   "source": [
    "#use aic rule to find the optimal model\n",
    "\n",
    "import pmdarima as pmd\n",
    "\n",
    "def arimamodel(timeseriesarray):\n",
    "    autoarima_model = pmd.auto_arima(timeseriesarray, \n",
    "                              start_p=0, \n",
    "                              start_q=0,\n",
    "                              trace=True)\n",
    "    return autoarima_model"
   ]
  },
  {
   "cell_type": "code",
   "execution_count": 554,
   "id": "bde2abeb",
   "metadata": {},
   "outputs": [
    {
     "name": "stdout",
     "output_type": "stream",
     "text": [
      "Performing stepwise search to minimize aic\n",
      " ARIMA(0,1,0)(0,0,0)[0] intercept   : AIC=1244.400, Time=0.22 sec\n",
      " ARIMA(1,1,0)(0,0,0)[0] intercept   : AIC=1246.400, Time=0.02 sec\n",
      " ARIMA(0,1,1)(0,0,0)[0] intercept   : AIC=1246.400, Time=0.02 sec\n",
      " ARIMA(0,1,0)(0,0,0)[0]             : AIC=1242.402, Time=0.01 sec\n",
      " ARIMA(1,1,1)(0,0,0)[0] intercept   : AIC=1248.170, Time=0.05 sec\n",
      "\n",
      "Best model:  ARIMA(0,1,0)(0,0,0)[0]          \n",
      "Total fit time: 0.441 seconds\n"
     ]
    },
    {
     "data": {
      "text/html": [
       "<table class=\"simpletable\">\n",
       "<caption>SARIMAX Results</caption>\n",
       "<tr>\n",
       "  <th>Dep. Variable:</th>           <td>y</td>        <th>  No. Observations:  </th>    <td>240</td>  \n",
       "</tr>\n",
       "<tr>\n",
       "  <th>Model:</th>           <td>SARIMAX(0, 1, 0)</td> <th>  Log Likelihood     </th> <td>-620.201</td>\n",
       "</tr>\n",
       "<tr>\n",
       "  <th>Date:</th>            <td>Fri, 17 Feb 2023</td> <th>  AIC                </th> <td>1242.402</td>\n",
       "</tr>\n",
       "<tr>\n",
       "  <th>Time:</th>                <td>16:37:36</td>     <th>  BIC                </th> <td>1245.879</td>\n",
       "</tr>\n",
       "<tr>\n",
       "  <th>Sample:</th>                  <td>0</td>        <th>  HQIC               </th> <td>1243.803</td>\n",
       "</tr>\n",
       "<tr>\n",
       "  <th></th>                      <td> - 240</td>      <th>                     </th>     <td> </td>   \n",
       "</tr>\n",
       "<tr>\n",
       "  <th>Covariance Type:</th>        <td>opg</td>       <th>                     </th>     <td> </td>   \n",
       "</tr>\n",
       "</table>\n",
       "<table class=\"simpletable\">\n",
       "<tr>\n",
       "     <td></td>       <th>coef</th>     <th>std err</th>      <th>z</th>      <th>P>|z|</th>  <th>[0.025</th>    <th>0.975]</th>  \n",
       "</tr>\n",
       "<tr>\n",
       "  <th>sigma2</th> <td>   10.5075</td> <td>    0.903</td> <td>   11.630</td> <td> 0.000</td> <td>    8.737</td> <td>   12.278</td>\n",
       "</tr>\n",
       "</table>\n",
       "<table class=\"simpletable\">\n",
       "<tr>\n",
       "  <th>Ljung-Box (L1) (Q):</th>     <td>0.00</td> <th>  Jarque-Bera (JB):  </th> <td>1.50</td> \n",
       "</tr>\n",
       "<tr>\n",
       "  <th>Prob(Q):</th>                <td>1.00</td> <th>  Prob(JB):          </th> <td>0.47</td> \n",
       "</tr>\n",
       "<tr>\n",
       "  <th>Heteroskedasticity (H):</th> <td>1.08</td> <th>  Skew:              </th> <td>-0.14</td>\n",
       "</tr>\n",
       "<tr>\n",
       "  <th>Prob(H) (two-sided):</th>    <td>0.73</td> <th>  Kurtosis:          </th> <td>3.26</td> \n",
       "</tr>\n",
       "</table><br/><br/>Warnings:<br/>[1] Covariance matrix calculated using the outer product of gradients (complex-step)."
      ],
      "text/plain": [
       "<class 'statsmodels.iolib.summary.Summary'>\n",
       "\"\"\"\n",
       "                               SARIMAX Results                                \n",
       "==============================================================================\n",
       "Dep. Variable:                      y   No. Observations:                  240\n",
       "Model:               SARIMAX(0, 1, 0)   Log Likelihood                -620.201\n",
       "Date:                Fri, 17 Feb 2023   AIC                           1242.402\n",
       "Time:                        16:37:36   BIC                           1245.879\n",
       "Sample:                             0   HQIC                          1243.803\n",
       "                                - 240                                         \n",
       "Covariance Type:                  opg                                         \n",
       "==============================================================================\n",
       "                 coef    std err          z      P>|z|      [0.025      0.975]\n",
       "------------------------------------------------------------------------------\n",
       "sigma2        10.5075      0.903     11.630      0.000       8.737      12.278\n",
       "===================================================================================\n",
       "Ljung-Box (L1) (Q):                   0.00   Jarque-Bera (JB):                 1.50\n",
       "Prob(Q):                              1.00   Prob(JB):                         0.47\n",
       "Heteroskedasticity (H):               1.08   Skew:                            -0.14\n",
       "Prob(H) (two-sided):                  0.73   Kurtosis:                         3.26\n",
       "===================================================================================\n",
       "\n",
       "Warnings:\n",
       "[1] Covariance matrix calculated using the outer product of gradients (complex-step).\n",
       "\"\"\""
      ]
     },
     "execution_count": 554,
     "metadata": {},
     "output_type": "execute_result"
    }
   ],
   "source": [
    "arima_model = arimamodel(train)\n",
    "arima_model.summary()"
   ]
  },
  {
   "cell_type": "code",
   "execution_count": null,
   "id": "83b73b1f",
   "metadata": {},
   "outputs": [],
   "source": [
    "#To find a more accurate lag, I used the auto_arima equation in python, \n",
    "#which can automatically help me pick the right lag in the data"
   ]
  },
  {
   "cell_type": "code",
   "execution_count": 555,
   "id": "5df5a734",
   "metadata": {},
   "outputs": [
    {
     "name": "stdout",
     "output_type": "stream",
     "text": [
      "{'aic':              0            1            2            3            4  \\\n",
      "0  1108.631567  1110.629697  1111.682235  1113.680539  1115.379516   \n",
      "1  1110.629954  1109.321661  1113.681460  1115.673548  1117.161479   \n",
      "2  1111.622384  1113.608661  1104.455597  1105.109349  1111.508688   \n",
      "3  1113.593911  1115.574973  1105.096946  1102.239003  1104.283949   \n",
      "4  1115.377249  1117.144000  1107.064423  1104.259793  1109.543629   \n",
      "5  1116.561003  1111.541045  1120.516331  1106.252763  1105.871215   \n",
      "\n",
      "             5  \n",
      "0  1116.445168  \n",
      "1  1111.919001  \n",
      "2  1113.904133  \n",
      "3  1106.167453  \n",
      "4  1106.431757  \n",
      "5  1108.914076  , 'bic':              0            1            2            3            4  \\\n",
      "0  1115.325782  1120.671020  1125.070665  1130.416077  1135.462161   \n",
      "1  1120.671277  1122.710091  1130.416997  1135.756193  1140.591232   \n",
      "2  1125.010814  1130.344198  1124.538242  1128.539102  1138.285548   \n",
      "3  1130.329449  1135.657618  1128.526699  1129.015863  1134.407917   \n",
      "4  1135.459894  1140.573752  1133.841283  1134.383761  1143.014704   \n",
      "5  1139.990756  1138.317905  1150.640299  1139.723838  1142.689398   \n",
      "\n",
      "             5  \n",
      "0  1139.874920  \n",
      "1  1138.695861  \n",
      "2  1144.028101  \n",
      "3  1139.638529  \n",
      "4  1143.249940  \n",
      "5  1149.079366  , 'aic_min_order': (3, 3), 'bic_min_order': (0, 0)}\n"
     ]
    }
   ],
   "source": [
    "# test p and q value\n",
    "parameters = statsmodels.tsa.stattools.arma_order_select_ic(train_diff['Close'], max_ar=5, max_ma=5, ic=['aic', 'bic'])\n",
    "print(parameters)"
   ]
  },
  {
   "cell_type": "code",
   "execution_count": 556,
   "id": "c63bc40e",
   "metadata": {},
   "outputs": [],
   "source": [
    "model = ARIMA(train, order=(0,1,0))\n",
    "model_fit = model.fit()"
   ]
  },
  {
   "cell_type": "code",
   "execution_count": 557,
   "id": "e516dc70",
   "metadata": {},
   "outputs": [],
   "source": [
    "#19. Display the parameters of the model and its Mean Squared Error (MSE) in the training set and in the test set"
   ]
  },
  {
   "cell_type": "code",
   "execution_count": 558,
   "id": "961ca14b",
   "metadata": {},
   "outputs": [
    {
     "name": "stdout",
     "output_type": "stream",
     "text": [
      "Coefficients: [10.50751083]\n",
      "Test MSE: 58.834\n",
      "Train MSE: 102.583\n"
     ]
    }
   ],
   "source": [
    "print('Coefficients: %s' % model_fit.params)\n",
    "# make predictions\n",
    "predictions = model_fit.forecast(steps=len(test))\n",
    "error = mean_squared_error(test,predictions)\n",
    "\n",
    "predictions_train = model_fit.predict(start=0, end=239)\n",
    "error_train = mean_squared_error(train,predictions_train)\n",
    "print('Test MSE: %.3f' % error)\n",
    "print('Train MSE: %.3f' % error_train)"
   ]
  },
  {
   "cell_type": "code",
   "execution_count": 528,
   "id": "8de8add7",
   "metadata": {},
   "outputs": [
    {
     "data": {
      "text/plain": [
       "array([146.3999939, 146.3999939, 146.3999939, 146.3999939, 146.3999939,\n",
       "       146.3999939, 146.3999939, 146.3999939, 146.3999939, 146.3999939,\n",
       "       146.3999939, 146.3999939, 146.3999939, 146.3999939, 146.3999939,\n",
       "       146.3999939, 146.3999939, 146.3999939, 146.3999939, 146.3999939,\n",
       "       146.3999939, 146.3999939, 146.3999939, 146.3999939, 146.3999939,\n",
       "       146.3999939, 146.3999939, 146.3999939, 146.3999939, 146.3999939,\n",
       "       146.3999939, 146.3999939, 146.3999939, 146.3999939, 146.3999939,\n",
       "       146.3999939, 146.3999939, 146.3999939, 146.3999939, 146.3999939,\n",
       "       146.3999939, 146.3999939, 146.3999939, 146.3999939, 146.3999939,\n",
       "       146.3999939, 146.3999939, 146.3999939, 146.3999939, 146.3999939,\n",
       "       146.3999939, 146.3999939, 146.3999939, 146.3999939, 146.3999939,\n",
       "       146.3999939, 146.3999939, 146.3999939, 146.3999939, 146.3999939])"
      ]
     },
     "execution_count": 528,
     "metadata": {},
     "output_type": "execute_result"
    }
   ],
   "source": [
    "predictions"
   ]
  },
  {
   "cell_type": "code",
   "execution_count": 559,
   "id": "089ea803",
   "metadata": {},
   "outputs": [],
   "source": [
    "#second way to predict\n",
    "start1=len(train)\n",
    "end1=len(train)+len(test)-1\n",
    "pred=model_fit.predict(start=start1, end=end1)\n",
    "#pred"
   ]
  },
  {
   "cell_type": "code",
   "execution_count": 560,
   "id": "e84f24fc",
   "metadata": {},
   "outputs": [],
   "source": [
    "#20. Plot the price time series vs the ARMA forecast in the test set"
   ]
  },
  {
   "cell_type": "code",
   "execution_count": 561,
   "id": "74c5abd3",
   "metadata": {},
   "outputs": [
    {
     "data": {
      "text/plain": [
       "(160.0, 170.0)"
      ]
     },
     "execution_count": 561,
     "metadata": {},
     "output_type": "execute_result"
    },
    {
     "data": {
      "image/png": "[encoded data removed]",
      "text/plain": [
       "<Figure size 432x288 with 1 Axes>"
      ]
     },
     "metadata": {
      "needs_background": "light"
     },
     "output_type": "display_data"
    }
   ],
   "source": [
    "fig, ax = plt.subplots(1, 1)\n",
    "plt.plot(predictions,color='grey',label='predictions')\n",
    "#plt.plot(aapl['Close'].values,color='red')\n",
    "plt.plot(test,color='red',label='test')\n",
    "axins = ax.inset_axes((0.1, 0.1, 0.2, 0.2))\n",
    "axins.plot(predictions,color='grey')\n",
    "axins.plot(test,color='red')\n",
    "plt.legend(loc='upper right')\n",
    "zone_left = 0\n",
    "zone_right = 10\n",
    "\n",
    "x_ratio = 0.5  \n",
    "y_ratio = 0.05\n",
    "\n",
    "xlim0 = 0\n",
    "xlim1 = 10\n",
    "\n",
    "ylim0 = 160\n",
    "ylim1 = 170\n",
    "\n",
    "axins.set_xlim(xlim0, xlim1)\n",
    "axins.set_ylim(ylim0, ylim1)\n"
   ]
  },
  {
   "cell_type": "code",
   "execution_count": 562,
   "id": "095cdc89",
   "metadata": {},
   "outputs": [
    {
     "data": {
      "text/plain": [
       "<matplotlib.legend.Legend at 0x7fa402b0abb0>"
      ]
     },
     "execution_count": 562,
     "metadata": {},
     "output_type": "execute_result"
    },
    {
     "data": {
      "image/png": "[encoded data removed]",
      "text/plain": [
       "<Figure size 432x288 with 1 Axes>"
      ]
     },
     "metadata": {
      "needs_background": "light"
     },
     "output_type": "display_data"
    }
   ],
   "source": [
    "plt.plot(predictions,color='grey',label='predictions')\n",
    "#plt.plot(aapl['Close'].values,color='red')\n",
    "plt.plot(test,color='red',label='test')\n",
    "plt.legend(loc='upper right')"
   ]
  },
  {
   "cell_type": "code",
   "execution_count": 563,
   "id": "d0a9a9ad",
   "metadata": {},
   "outputs": [],
   "source": [
    "#In general, the prediction obtained from the training set is a straight line, stable at around 167, but it is found carefully that the line fluctuates slightly at the beginning, as can be seen when the graph is enlarged."
   ]
  },
  {
   "cell_type": "code",
   "execution_count": 564,
   "id": "f5978091",
   "metadata": {},
   "outputs": [],
   "source": [
    "#21. Fit an ARMA model to the return time series"
   ]
  },
  {
   "cell_type": "code",
   "execution_count": 565,
   "id": "78ad1067",
   "metadata": {},
   "outputs": [
    {
     "name": "stdout",
     "output_type": "stream",
     "text": [
      "239\n"
     ]
    }
   ],
   "source": [
    "X = linear_rets.values\n",
    "train2, test2 = X[0:len(X)-60], X[len(X)-60:]\n",
    "print(len(train2))"
   ]
  },
  {
   "cell_type": "code",
   "execution_count": 566,
   "id": "1757c806",
   "metadata": {},
   "outputs": [
    {
     "name": "stdout",
     "output_type": "stream",
     "text": [
      "(-15.328767517769844, 3.972059672836943e-28, 0, 238, {'1%': -3.458128284586202, '5%': -2.873761835239286, '10%': -2.5732834559706235}, -1083.8652746599384)\n"
     ]
    }
   ],
   "source": [
    "print(statsmodels.tsa.stattools.adfuller(train2))\n",
    "#the return is stationary  becuase the p-value is around 1.5895889290027638e-12, which is smaller than 5%.\n",
    "#For convenience, I have used linear return for the next analysis. First, in order to fit an arma model, we need the time series to be stable, and again, we use the ADF test and find its p- value\n",
    "#is 1.5895889290027638e-12. The p-value is small enough to reject the null hypothesis and thus we can conclude the return is stationary and continue doing the following analysis."
   ]
  },
  {
   "cell_type": "code",
   "execution_count": 458,
   "id": "7a3ae165",
   "metadata": {},
   "outputs": [
    {
     "name": "stdout",
     "output_type": "stream",
     "text": [
      "{'aic':              0            1            2            3            4  \\\n",
      "0 -1032.527433 -1030.529077 -1029.413892 -1027.420988 -1026.655318   \n",
      "1 -1030.528946 -1028.530734 -1027.312156 -1025.464936 -1024.242255   \n",
      "2 -1029.535572 -1027.514635 -1025.229369 -1024.896339 -1026.302110   \n",
      "3 -1027.554032 -1025.554300 -1025.180178 -1022.328536 -1021.179880   \n",
      "4 -1026.605067 -1024.609114 -1024.067819 -1020.869899 -1020.205937   \n",
      "5 -1024.855274 -1022.855778 -1020.724266 -1019.031267 -1017.527755   \n",
      "\n",
      "             5  \n",
      "0 -1024.895282  \n",
      "1 -1030.093661  \n",
      "2 -1021.057909  \n",
      "3 -1019.097507  \n",
      "4 -1017.525084  \n",
      "5 -1014.861329  , 'bic':              0            1            2            3            4  \\\n",
      "0 -1025.842764 -1020.502075 -1016.044555 -1010.709317 -1006.601313   \n",
      "1 -1020.501944 -1015.161397 -1010.600485 -1005.410931 -1000.845916   \n",
      "2 -1016.166235 -1010.802964 -1005.175363 -1001.500000  -999.563436   \n",
      "3 -1010.842361 -1005.500294 -1001.783838  -995.589862  -991.098872   \n",
      "4 -1006.551062 -1001.212774  -997.329145  -990.788891  -986.782594   \n",
      "5 -1001.458934  -996.117104  -990.643258  -985.607925  -980.762078   \n",
      "\n",
      "             5  \n",
      "0 -1001.498943  \n",
      "1 -1003.354986  \n",
      "2  -990.976901  \n",
      "3  -985.674165  \n",
      "4  -980.759407  \n",
      "5  -974.753318  , 'aic_min_order': (0, 0), 'bic_min_order': (0, 0)}\n"
     ]
    }
   ],
   "source": [
    "# test p and q value\n",
    "parameters2 = statsmodels.tsa.stattools.arma_order_select_ic(train2, max_ar=5, max_ma=5, ic=['aic', 'bic'])\n",
    "print(parameters2)"
   ]
  },
  {
   "cell_type": "code",
   "execution_count": 567,
   "id": "22c04104",
   "metadata": {},
   "outputs": [
    {
     "name": "stdout",
     "output_type": "stream",
     "text": [
      "Performing stepwise search to minimize aic\n",
      " ARIMA(0,0,0)(0,0,0)[0] intercept   : AIC=-1174.204, Time=0.05 sec\n",
      " ARIMA(1,0,0)(0,0,0)[0] intercept   : AIC=-1172.205, Time=0.04 sec\n",
      " ARIMA(0,0,1)(0,0,0)[0] intercept   : AIC=-1172.205, Time=0.03 sec\n",
      " ARIMA(0,0,0)(0,0,0)[0]             : AIC=-1176.192, Time=0.01 sec\n",
      " ARIMA(1,0,1)(0,0,0)[0] intercept   : AIC=-1170.243, Time=0.08 sec\n",
      "\n",
      "Best model:  ARIMA(0,0,0)(0,0,0)[0]          \n",
      "Total fit time: 0.224 seconds\n"
     ]
    },
    {
     "data": {
      "text/html": [
       "<table class=\"simpletable\">\n",
       "<caption>SARIMAX Results</caption>\n",
       "<tr>\n",
       "  <th>Dep. Variable:</th>           <td>y</td>        <th>  No. Observations:  </th>    <td>239</td>   \n",
       "</tr>\n",
       "<tr>\n",
       "  <th>Model:</th>                <td>SARIMAX</td>     <th>  Log Likelihood     </th>  <td>589.096</td> \n",
       "</tr>\n",
       "<tr>\n",
       "  <th>Date:</th>            <td>Fri, 17 Feb 2023</td> <th>  AIC                </th> <td>-1176.192</td>\n",
       "</tr>\n",
       "<tr>\n",
       "  <th>Time:</th>                <td>16:43:58</td>     <th>  BIC                </th> <td>-1172.716</td>\n",
       "</tr>\n",
       "<tr>\n",
       "  <th>Sample:</th>                  <td>0</td>        <th>  HQIC               </th> <td>-1174.791</td>\n",
       "</tr>\n",
       "<tr>\n",
       "  <th></th>                      <td> - 239</td>      <th>                     </th>     <td> </td>    \n",
       "</tr>\n",
       "<tr>\n",
       "  <th>Covariance Type:</th>        <td>opg</td>       <th>                     </th>     <td> </td>    \n",
       "</tr>\n",
       "</table>\n",
       "<table class=\"simpletable\">\n",
       "<tr>\n",
       "     <td></td>       <th>coef</th>     <th>std err</th>      <th>z</th>      <th>P>|z|</th>  <th>[0.025</th>    <th>0.975]</th>  \n",
       "</tr>\n",
       "<tr>\n",
       "  <th>sigma2</th> <td>    0.0004</td> <td> 3.64e-05</td> <td>   11.619</td> <td> 0.000</td> <td>    0.000</td> <td>    0.000</td>\n",
       "</tr>\n",
       "</table>\n",
       "<table class=\"simpletable\">\n",
       "<tr>\n",
       "  <th>Ljung-Box (L1) (Q):</th>     <td>0.00</td> <th>  Jarque-Bera (JB):  </th> <td>1.48</td> \n",
       "</tr>\n",
       "<tr>\n",
       "  <th>Prob(Q):</th>                <td>0.97</td> <th>  Prob(JB):          </th> <td>0.48</td> \n",
       "</tr>\n",
       "<tr>\n",
       "  <th>Heteroskedasticity (H):</th> <td>1.30</td> <th>  Skew:              </th> <td>-0.14</td>\n",
       "</tr>\n",
       "<tr>\n",
       "  <th>Prob(H) (two-sided):</th>    <td>0.24</td> <th>  Kurtosis:          </th> <td>3.26</td> \n",
       "</tr>\n",
       "</table><br/><br/>Warnings:<br/>[1] Covariance matrix calculated using the outer product of gradients (complex-step)."
      ],
      "text/plain": [
       "<class 'statsmodels.iolib.summary.Summary'>\n",
       "\"\"\"\n",
       "                               SARIMAX Results                                \n",
       "==============================================================================\n",
       "Dep. Variable:                      y   No. Observations:                  239\n",
       "Model:                        SARIMAX   Log Likelihood                 589.096\n",
       "Date:                Fri, 17 Feb 2023   AIC                          -1176.192\n",
       "Time:                        16:43:58   BIC                          -1172.716\n",
       "Sample:                             0   HQIC                         -1174.791\n",
       "                                - 239                                         \n",
       "Covariance Type:                  opg                                         \n",
       "==============================================================================\n",
       "                 coef    std err          z      P>|z|      [0.025      0.975]\n",
       "------------------------------------------------------------------------------\n",
       "sigma2         0.0004   3.64e-05     11.619      0.000       0.000       0.000\n",
       "===================================================================================\n",
       "Ljung-Box (L1) (Q):                   0.00   Jarque-Bera (JB):                 1.48\n",
       "Prob(Q):                              0.97   Prob(JB):                         0.48\n",
       "Heteroskedasticity (H):               1.30   Skew:                            -0.14\n",
       "Prob(H) (two-sided):                  0.24   Kurtosis:                         3.26\n",
       "===================================================================================\n",
       "\n",
       "Warnings:\n",
       "[1] Covariance matrix calculated using the outer product of gradients (complex-step).\n",
       "\"\"\""
      ]
     },
     "execution_count": 567,
     "metadata": {},
     "output_type": "execute_result"
    }
   ],
   "source": [
    "arima_model2 = arimamodel(train2)\n",
    "arima_model2.summary()"
   ]
  },
  {
   "cell_type": "code",
   "execution_count": 568,
   "id": "78f9f8d5",
   "metadata": {},
   "outputs": [],
   "source": [
    "model2 = ARIMA(train2, order=(0,0,0))\n",
    "model_fit2 = model2.fit()"
   ]
  },
  {
   "cell_type": "code",
   "execution_count": 460,
   "id": "3566ab2b",
   "metadata": {},
   "outputs": [],
   "source": [
    "#22. Display the parameters of the model and its Mean Squared Error (MSE) in the training set and in the test set"
   ]
  },
  {
   "cell_type": "code",
   "execution_count": 569,
   "id": "8c7f4d52",
   "metadata": {},
   "outputs": [
    {
     "name": "stdout",
     "output_type": "stream",
     "text": [
      "Lag: 1\n",
      "Coefficients: [0.00014218 0.00042303]\n",
      "Test MSE: 0.00064\n",
      "Train MSE: 0.00042\n"
     ]
    }
   ],
   "source": [
    "print('Lag: %s' % window)\n",
    "print('Coefficients: %s' % model_fit2.params)\n",
    "# make predictions\n",
    "predictions2 = model_fit2.forecast(steps=len(test2))\n",
    "error2 = mean_squared_error(test2,predictions2)\n",
    "print('Test MSE: %.5f' % error2)\n",
    "\n",
    "predictions_train2 = model_fit2.predict(start=0, end=238)\n",
    "error_train2 = mean_squared_error(train2,predictions_train2)\n",
    "print('Train MSE: %.5f' % error_train2)"
   ]
  },
  {
   "cell_type": "code",
   "execution_count": null,
   "id": "51e5db9e",
   "metadata": {},
   "outputs": [],
   "source": [
    "#average of square of difference between the predicted values and true values."
   ]
  },
  {
   "cell_type": "code",
   "execution_count": 419,
   "id": "7da361f8",
   "metadata": {},
   "outputs": [
    {
     "data": {
      "text/plain": [
       "array([0.00142129, 0.00142129, 0.00142129, 0.00142129, 0.00142129,\n",
       "       0.00142129, 0.00142129, 0.00142129, 0.00142129, 0.00142129,\n",
       "       0.00142129, 0.00142129, 0.00142129, 0.00142129, 0.00142129,\n",
       "       0.00142129, 0.00142129, 0.00142129, 0.00142129, 0.00142129,\n",
       "       0.00142129, 0.00142129, 0.00142129, 0.00142129, 0.00142129,\n",
       "       0.00142129, 0.00142129, 0.00142129, 0.00142129, 0.00142129,\n",
       "       0.00142129, 0.00142129, 0.00142129, 0.00142129, 0.00142129,\n",
       "       0.00142129, 0.00142129, 0.00142129, 0.00142129, 0.00142129,\n",
       "       0.00142129, 0.00142129, 0.00142129, 0.00142129, 0.00142129,\n",
       "       0.00142129, 0.00142129, 0.00142129, 0.00142129, 0.00142129,\n",
       "       0.00142129, 0.00142129, 0.00142129, 0.00142129, 0.00142129,\n",
       "       0.00142129, 0.00142129, 0.00142129, 0.00142129, 0.00142129,\n",
       "       0.00142129, 0.00142129, 0.00142129, 0.00142129, 0.00142129,\n",
       "       0.00142129, 0.00142129, 0.00142129, 0.00142129, 0.00142129,\n",
       "       0.00142129, 0.00142129, 0.00142129, 0.00142129, 0.00142129,\n",
       "       0.00142129, 0.00142129, 0.00142129, 0.00142129, 0.00142129,\n",
       "       0.00142129, 0.00142129, 0.00142129, 0.00142129, 0.00142129,\n",
       "       0.00142129, 0.00142129, 0.00142129, 0.00142129, 0.00142129,\n",
       "       0.00142129, 0.00142129, 0.00142129, 0.00142129, 0.00142129,\n",
       "       0.00142129, 0.00142129, 0.00142129, 0.00142129, 0.00142129,\n",
       "       0.00142129, 0.00142129, 0.00142129, 0.00142129, 0.00142129,\n",
       "       0.00142129, 0.00142129, 0.00142129, 0.00142129, 0.00142129,\n",
       "       0.00142129, 0.00142129, 0.00142129, 0.00142129, 0.00142129,\n",
       "       0.00142129, 0.00142129, 0.00142129, 0.00142129, 0.00142129,\n",
       "       0.00142129, 0.00142129, 0.00142129, 0.00142129, 0.00142129,\n",
       "       0.00142129, 0.00142129, 0.00142129, 0.00142129, 0.00142129,\n",
       "       0.00142129, 0.00142129, 0.00142129, 0.00142129, 0.00142129,\n",
       "       0.00142129, 0.00142129, 0.00142129, 0.00142129, 0.00142129,\n",
       "       0.00142129, 0.00142129, 0.00142129, 0.00142129, 0.00142129,\n",
       "       0.00142129, 0.00142129, 0.00142129, 0.00142129, 0.00142129,\n",
       "       0.00142129, 0.00142129, 0.00142129, 0.00142129, 0.00142129,\n",
       "       0.00142129, 0.00142129, 0.00142129, 0.00142129, 0.00142129,\n",
       "       0.00142129, 0.00142129, 0.00142129, 0.00142129, 0.00142129,\n",
       "       0.00142129, 0.00142129, 0.00142129, 0.00142129, 0.00142129,\n",
       "       0.00142129, 0.00142129, 0.00142129, 0.00142129, 0.00142129,\n",
       "       0.00142129, 0.00142129, 0.00142129, 0.00142129, 0.00142129,\n",
       "       0.00142129, 0.00142129, 0.00142129, 0.00142129, 0.00142129,\n",
       "       0.00142129, 0.00142129, 0.00142129, 0.00142129, 0.00142129,\n",
       "       0.00142129, 0.00142129, 0.00142129, 0.00142129, 0.00142129,\n",
       "       0.00142129, 0.00142129, 0.00142129, 0.00142129, 0.00142129,\n",
       "       0.00142129, 0.00142129, 0.00142129, 0.00142129, 0.00142129,\n",
       "       0.00142129, 0.00142129, 0.00142129, 0.00142129, 0.00142129])"
      ]
     },
     "execution_count": 419,
     "metadata": {},
     "output_type": "execute_result"
    }
   ],
   "source": [
    "predictions2"
   ]
  },
  {
   "cell_type": "code",
   "execution_count": null,
   "id": "d73d2e0d",
   "metadata": {},
   "outputs": [],
   "source": [
    "#23. Plot the return time series vs the ARMA forecast in the test set"
   ]
  },
  {
   "cell_type": "code",
   "execution_count": 541,
   "id": "5341aac1",
   "metadata": {},
   "outputs": [
    {
     "data": {
      "text/plain": [
       "<matplotlib.legend.Legend at 0x7fa4029c77f0>"
      ]
     },
     "execution_count": 541,
     "metadata": {},
     "output_type": "execute_result"
    },
    {
     "data": {
      "image/png": "[encoded data removed]",
      "text/plain": [
       "<Figure size 432x288 with 1 Axes>"
      ]
     },
     "metadata": {
      "needs_background": "light"
     },
     "output_type": "display_data"
    }
   ],
   "source": [
    "plt.plot(predictions2,color='grey',label='prediction')\n",
    "plt.plot(test2,color='red',label='test')\n",
    "plt.legend()"
   ]
  },
  {
   "cell_type": "code",
   "execution_count": null,
   "id": "f11530ec",
   "metadata": {},
   "outputs": [],
   "source": [
    "#Here we can see that for white noise, the future is independent of both the present and the past, and the prediction of the future is actually the mean value of the present white noise distribution."
   ]
  },
  {
   "cell_type": "code",
   "execution_count": 282,
   "id": "71a9b7a1",
   "metadata": {},
   "outputs": [],
   "source": [
    "#24. Introduce mathematically a Gaussianity test"
   ]
  },
  {
   "cell_type": "markdown",
   "id": "ca36284b",
   "metadata": {},
   "source": [
    "The Gaussianity test was used to check if the data follows normal distribution. It uses covariance of paris of different orders. Null hypothesis: data follows normal distribution. The statistics that evaluated in Gaussianity test is: \n",
    "\n",
    "$W = \\frac{(\\sum_{i}^{T} a_i *r_{(i)})^2} {\\sum_{i}^{T} (r_{(i)} -\\mu)^2}$\n",
    "\n",
    "where $r_{(i)}$ is the i-th smallest value in the sample such that:\n",
    "$a_i=\\frac{m^T V^{-1}}{N}$\n",
    "\n",
    "N is a normalization factor such that $\\sum_{i} (a_i)^2 =1 $\n",
    "\n",
    "m=vector of expected values of all order statistics in a Gaussian distribution\n",
    "\n",
    "V=expected covariance of pairs of order statistics\n",
    "\n",
    "After sorting the data, we calculate the statistics W and its p-value.\n"
   ]
  },
  {
   "cell_type": "code",
   "execution_count": null,
   "id": "c6614534",
   "metadata": {},
   "outputs": [],
   "source": [
    "#25. Perform a Gaussianity test of the return time series"
   ]
  },
  {
   "cell_type": "code",
   "execution_count": 342,
   "id": "c55386f1",
   "metadata": {},
   "outputs": [
    {
     "name": "stdout",
     "output_type": "stream",
     "text": [
      "Statistics=0.987, p=0.019\n",
      "Sample does not look Gaussian (reject H0)\n"
     ]
    }
   ],
   "source": [
    "# Shapiro-Wilk Test\n",
    "from numpy.random import seed\n",
    "from numpy.random import randn\n",
    "from scipy.stats import shapiro\n",
    "# seed the random number generator\n",
    "seed(1)\n",
    "\n",
    "# generate univariate observations\n",
    "# normality test\n",
    "stat, p = shapiro(r_aapl)\n",
    "\n",
    "print('Statistics=%.3f, p=%.3f' % (stat, p))\n",
    "\n",
    "# interpret\n",
    "alpha = 0.05\n",
    "\n",
    "if p > alpha:\n",
    "    print('Sample looks Gaussian (fail to reject H0)')\n",
    "else:\n",
    "    print('Sample does not look Gaussian (reject H0)')"
   ]
  },
  {
   "cell_type": "code",
   "execution_count": 343,
   "id": "0f43cbeb",
   "metadata": {},
   "outputs": [],
   "source": [
    "#26. Introduce mathematically a stationarity test"
   ]
  },
  {
   "cell_type": "markdown",
   "id": "508e5251",
   "metadata": {},
   "source": [
    "If the time series data is stationary, it means the data don't depend on time. It has two types of stationarity:\n",
    "\n",
    "i) Strong stationarity:$(y_1,y_2,..y_n)=(y_{1+\\tau},y_{2+\\tau},...y_{n+\\tau})$ in distribution.\n",
    "\n",
    "ii) Weak stationarity: \n",
    "\n",
    "$E(y_t)=\\mu$; \n",
    "\n",
    "$Var(y_t)=E[(y_t -\\mu)^2]=\\sigma^2$;\n",
    "\n",
    "$Cov[y_t,y_{t-\\tau}]=E[(y_t-\\mu)(y_{t-\\tau}-\\mu)]=C(\\tau)$\n",
    "\n",
    "For strong stationary, it means any joint distribution of any moments never depends on time, it is a very strict condition. However, for weak stationary, it only has constant mean, constant variance and constant covariance, and other condition could change over time, which means it is less strict."
   ]
  },
  {
   "cell_type": "code",
   "execution_count": 344,
   "id": "0fdad359",
   "metadata": {},
   "outputs": [],
   "source": [
    "#27. Perform a stationarity test of the return time series"
   ]
  },
  {
   "cell_type": "code",
   "execution_count": 345,
   "id": "2612ded0",
   "metadata": {},
   "outputs": [
    {
     "name": "stdout",
     "output_type": "stream",
     "text": [
      "(-12.284898889484266, 8.067268898811943e-23, 1, 248, {'1%': -3.4569962781990573, '5%': -2.8732659015936024, '10%': -2.573018897632674}, -1093.8422914280509)\n"
     ]
    }
   ],
   "source": [
    "print(statsmodels.tsa.stattools.adfuller(r_aapl))"
   ]
  },
  {
   "cell_type": "code",
   "execution_count": null,
   "id": "b3f08358",
   "metadata": {},
   "outputs": [],
   "source": [
    "#since the p-value is much smaller than 5%, then we can reject it and thus the data is stationary."
   ]
  }
 ],
 "metadata": {
  "kernelspec": {
   "display_name": "Python 3 (ipykernel)",
   "language": "python",
   "name": "python3"
  },
  "language_info": {
   "codemirror_mode": {
    "name": "ipython",
    "version": 3
   },
   "file_extension": ".py",
   "mimetype": "text/x-python",
   "name": "python",
   "nbconvert_exporter": "python",
   "pygments_lexer": "ipython3",
   "version": "3.9.12"
  }
 },
 "nbformat": 4,
 "nbformat_minor": 5
}
