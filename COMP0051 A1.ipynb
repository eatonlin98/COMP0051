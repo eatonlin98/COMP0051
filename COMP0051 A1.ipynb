{
 "cells": [
  {
   "cell_type": "code",
   "execution_count": 15,
   "id": "3969e941",
   "metadata": {},
   "outputs": [],
   "source": [
    "import warnings\n",
    "warnings.filterwarnings('ignore')\n",
    "import numpy as np"
   ]
  },
  {
   "cell_type": "code",
   "execution_count": 2,
   "id": "d1c89ca9",
   "metadata": {},
   "outputs": [
    {
     "name": "stdout",
     "output_type": "stream",
     "text": [
      "[*********************100%***********************]  1 of 1 completed\n"
     ]
    }
   ],
   "source": [
    "%matplotlib inline\n",
    "import yfinance as yf\n",
    "import datetime\n",
    "import matplotlib.pyplot as plt\n",
    "\n",
    "\n",
    "start_sp = datetime.datetime(2021, 10, 22)\n",
    "end_sp = datetime.datetime(2022, 12, 31)\n",
    "\n",
    "\n",
    "aapl = yf.download('AAPL',start_sp,end_sp)"
   ]
  },
  {
   "cell_type": "code",
   "execution_count": 3,
   "id": "ea71e1c0",
   "metadata": {},
   "outputs": [
    {
     "data": {
      "text/html": [
       "<div>\n",
       "<style scoped>\n",
       "    .dataframe tbody tr th:only-of-type {\n",
       "        vertical-align: middle;\n",
       "    }\n",
       "\n",
       "    .dataframe tbody tr th {\n",
       "        vertical-align: top;\n",
       "    }\n",
       "\n",
       "    .dataframe thead th {\n",
       "        text-align: right;\n",
       "    }\n",
       "</style>\n",
       "<table border=\"1\" class=\"dataframe\">\n",
       "  <thead>\n",
       "    <tr style=\"text-align: right;\">\n",
       "      <th></th>\n",
       "      <th>Open</th>\n",
       "      <th>High</th>\n",
       "      <th>Low</th>\n",
       "      <th>Close</th>\n",
       "      <th>Adj Close</th>\n",
       "      <th>Volume</th>\n",
       "    </tr>\n",
       "    <tr>\n",
       "      <th>Date</th>\n",
       "      <th></th>\n",
       "      <th></th>\n",
       "      <th></th>\n",
       "      <th></th>\n",
       "      <th></th>\n",
       "      <th></th>\n",
       "    </tr>\n",
       "  </thead>\n",
       "  <tbody>\n",
       "    <tr>\n",
       "      <th>2021-10-22</th>\n",
       "      <td>149.690002</td>\n",
       "      <td>150.179993</td>\n",
       "      <td>148.639999</td>\n",
       "      <td>148.690002</td>\n",
       "      <td>147.391541</td>\n",
       "      <td>58883400</td>\n",
       "    </tr>\n",
       "    <tr>\n",
       "      <th>2021-10-25</th>\n",
       "      <td>148.679993</td>\n",
       "      <td>149.369995</td>\n",
       "      <td>147.619995</td>\n",
       "      <td>148.639999</td>\n",
       "      <td>147.341965</td>\n",
       "      <td>50720600</td>\n",
       "    </tr>\n",
       "    <tr>\n",
       "      <th>2021-10-26</th>\n",
       "      <td>149.330002</td>\n",
       "      <td>150.839996</td>\n",
       "      <td>149.009995</td>\n",
       "      <td>149.320007</td>\n",
       "      <td>148.016037</td>\n",
       "      <td>60893400</td>\n",
       "    </tr>\n",
       "    <tr>\n",
       "      <th>2021-10-27</th>\n",
       "      <td>149.360001</td>\n",
       "      <td>149.729996</td>\n",
       "      <td>148.490005</td>\n",
       "      <td>148.850006</td>\n",
       "      <td>147.550140</td>\n",
       "      <td>56094900</td>\n",
       "    </tr>\n",
       "    <tr>\n",
       "      <th>2021-10-28</th>\n",
       "      <td>149.820007</td>\n",
       "      <td>153.169998</td>\n",
       "      <td>149.720001</td>\n",
       "      <td>152.570007</td>\n",
       "      <td>151.237656</td>\n",
       "      <td>100077900</td>\n",
       "    </tr>\n",
       "    <tr>\n",
       "      <th>...</th>\n",
       "      <td>...</td>\n",
       "      <td>...</td>\n",
       "      <td>...</td>\n",
       "      <td>...</td>\n",
       "      <td>...</td>\n",
       "      <td>...</td>\n",
       "    </tr>\n",
       "    <tr>\n",
       "      <th>2022-12-23</th>\n",
       "      <td>130.919998</td>\n",
       "      <td>132.419998</td>\n",
       "      <td>129.639999</td>\n",
       "      <td>131.860001</td>\n",
       "      <td>131.658981</td>\n",
       "      <td>63814900</td>\n",
       "    </tr>\n",
       "    <tr>\n",
       "      <th>2022-12-27</th>\n",
       "      <td>131.380005</td>\n",
       "      <td>131.410004</td>\n",
       "      <td>128.720001</td>\n",
       "      <td>130.029999</td>\n",
       "      <td>129.831772</td>\n",
       "      <td>69007800</td>\n",
       "    </tr>\n",
       "    <tr>\n",
       "      <th>2022-12-28</th>\n",
       "      <td>129.669998</td>\n",
       "      <td>131.029999</td>\n",
       "      <td>125.870003</td>\n",
       "      <td>126.040001</td>\n",
       "      <td>125.847855</td>\n",
       "      <td>85438400</td>\n",
       "    </tr>\n",
       "    <tr>\n",
       "      <th>2022-12-29</th>\n",
       "      <td>127.989998</td>\n",
       "      <td>130.479996</td>\n",
       "      <td>127.730003</td>\n",
       "      <td>129.610001</td>\n",
       "      <td>129.412415</td>\n",
       "      <td>75703700</td>\n",
       "    </tr>\n",
       "    <tr>\n",
       "      <th>2022-12-30</th>\n",
       "      <td>128.410004</td>\n",
       "      <td>129.949997</td>\n",
       "      <td>127.430000</td>\n",
       "      <td>129.929993</td>\n",
       "      <td>129.731918</td>\n",
       "      <td>76960600</td>\n",
       "    </tr>\n",
       "  </tbody>\n",
       "</table>\n",
       "<p>300 rows × 6 columns</p>\n",
       "</div>"
      ],
      "text/plain": [
       "                  Open        High         Low       Close   Adj Close  \\\n",
       "Date                                                                     \n",
       "2021-10-22  149.690002  150.179993  148.639999  148.690002  147.391541   \n",
       "2021-10-25  148.679993  149.369995  147.619995  148.639999  147.341965   \n",
       "2021-10-26  149.330002  150.839996  149.009995  149.320007  148.016037   \n",
       "2021-10-27  149.360001  149.729996  148.490005  148.850006  147.550140   \n",
       "2021-10-28  149.820007  153.169998  149.720001  152.570007  151.237656   \n",
       "...                ...         ...         ...         ...         ...   \n",
       "2022-12-23  130.919998  132.419998  129.639999  131.860001  131.658981   \n",
       "2022-12-27  131.380005  131.410004  128.720001  130.029999  129.831772   \n",
       "2022-12-28  129.669998  131.029999  125.870003  126.040001  125.847855   \n",
       "2022-12-29  127.989998  130.479996  127.730003  129.610001  129.412415   \n",
       "2022-12-30  128.410004  129.949997  127.430000  129.929993  129.731918   \n",
       "\n",
       "               Volume  \n",
       "Date                   \n",
       "2021-10-22   58883400  \n",
       "2021-10-25   50720600  \n",
       "2021-10-26   60893400  \n",
       "2021-10-27   56094900  \n",
       "2021-10-28  100077900  \n",
       "...               ...  \n",
       "2022-12-23   63814900  \n",
       "2022-12-27   69007800  \n",
       "2022-12-28   85438400  \n",
       "2022-12-29   75703700  \n",
       "2022-12-30   76960600  \n",
       "\n",
       "[300 rows x 6 columns]"
      ]
     },
     "execution_count": 3,
     "metadata": {},
     "output_type": "execute_result"
    }
   ],
   "source": [
    "aapl"
   ]
  },
  {
   "cell_type": "markdown",
   "id": "171c5e3f",
   "metadata": {},
   "source": [
    "# Time series "
   ]
  },
  {
   "cell_type": "code",
   "execution_count": 4,
   "id": "85b8974e",
   "metadata": {},
   "outputs": [],
   "source": [
    "#1. plot price time series"
   ]
  },
  {
   "cell_type": "code",
   "execution_count": 5,
   "id": "62daf5fe",
   "metadata": {},
   "outputs": [
    {
     "data": {
      "image/png": "[encoded data removed]",
      "text/plain": [
       "<Figure size 432x288 with 1 Axes>"
      ]
     },
     "metadata": {
      "needs_background": "light"
     },
     "output_type": "display_data"
    }
   ],
   "source": [
    "aapl['Close'].plot()\n",
    "plt.tight_layout()\n",
    "plt.title('Close Price')\n",
    "plt.grid()\n",
    "plt.show()"
   ]
  },
  {
   "cell_type": "markdown",
   "id": "a7c9f49a",
   "metadata": {},
   "source": [
    "# Moving averages"
   ]
  },
  {
   "cell_type": "code",
   "execution_count": 6,
   "id": "a189904c",
   "metadata": {},
   "outputs": [],
   "source": [
    "#3. Define mathematically the moving average of the price time series with an arbitrary timewindow τ"
   ]
  },
  {
   "cell_type": "markdown",
   "id": "abf64a3c",
   "metadata": {},
   "source": [
    "Moving average keeps updating the average data and find the average change through time. It is a dynamically updated weights. There are several kinds of moving average, such as simple moving average and exponential moving average.\n",
    "\n",
    "For SMA:  $s_{t-1} = 1/T \\sum_{1}^{T} r_{t-k}$\n",
    "\n",
    "For EWMA: $s_{t-1} = c(\\lambda)\\sum_{k=1}^{∞} \\lambda^k r_{t-k}$\n",
    "\n",
    "The longer the time, larger the lags. If the plot of the moving average shows an upward trend, then it indicates the data will very likely to move up later. In contrast, a downward trend will show that the data will move down with high possibility."
   ]
  },
  {
   "cell_type": "code",
   "execution_count": 7,
   "id": "6dfd1e77",
   "metadata": {},
   "outputs": [],
   "source": [
    "#4. Compute three moving averages of the price time series, with time-windows τ = 10,20,30"
   ]
  },
  {
   "cell_type": "code",
   "execution_count": 8,
   "id": "f7577fed",
   "metadata": {},
   "outputs": [],
   "source": [
    "def ma_f(data,window_size):\n",
    "    i = 0\n",
    "    ma_list = []\n",
    "    while i < len(data)-window_size+1:    \n",
    "        window = data[i:i+window_size]\n",
    "        window_average = sum(window)/window_size\n",
    "        ma_list.append(window_average)\n",
    "        i =i+1\n",
    "    return ma_list\n",
    "#print(moving_averages)"
   ]
  },
  {
   "cell_type": "code",
   "execution_count": 9,
   "id": "1405db4d",
   "metadata": {},
   "outputs": [],
   "source": [
    "w10=ma_f(aapl['Close'],10)\n",
    "#print(len(ma_f(aapl['Close'],10)))\n",
    "w20=ma_f(aapl['Close'],20)\n",
    "w30=ma_f(aapl['Close'],30)"
   ]
  },
  {
   "cell_type": "code",
   "execution_count": 10,
   "id": "3fd8a663",
   "metadata": {},
   "outputs": [
    {
     "data": {
      "text/html": [
       "<div>\n",
       "<style scoped>\n",
       "    .dataframe tbody tr th:only-of-type {\n",
       "        vertical-align: middle;\n",
       "    }\n",
       "\n",
       "    .dataframe tbody tr th {\n",
       "        vertical-align: top;\n",
       "    }\n",
       "\n",
       "    .dataframe thead th {\n",
       "        text-align: right;\n",
       "    }\n",
       "</style>\n",
       "<table border=\"1\" class=\"dataframe\">\n",
       "  <thead>\n",
       "    <tr style=\"text-align: right;\">\n",
       "      <th></th>\n",
       "      <th>Open</th>\n",
       "      <th>High</th>\n",
       "      <th>Low</th>\n",
       "      <th>Close</th>\n",
       "      <th>Adj Close</th>\n",
       "      <th>Volume</th>\n",
       "      <th>ma_10</th>\n",
       "      <th>ma_20</th>\n",
       "      <th>ma_30</th>\n",
       "    </tr>\n",
       "    <tr>\n",
       "      <th>Date</th>\n",
       "      <th></th>\n",
       "      <th></th>\n",
       "      <th></th>\n",
       "      <th></th>\n",
       "      <th></th>\n",
       "      <th></th>\n",
       "      <th></th>\n",
       "      <th></th>\n",
       "      <th></th>\n",
       "    </tr>\n",
       "  </thead>\n",
       "  <tbody>\n",
       "    <tr>\n",
       "      <th>2021-10-22</th>\n",
       "      <td>149.690002</td>\n",
       "      <td>150.179993</td>\n",
       "      <td>148.639999</td>\n",
       "      <td>148.690002</td>\n",
       "      <td>147.391541</td>\n",
       "      <td>58883400</td>\n",
       "      <td>NaN</td>\n",
       "      <td>NaN</td>\n",
       "      <td>NaN</td>\n",
       "    </tr>\n",
       "    <tr>\n",
       "      <th>2021-10-25</th>\n",
       "      <td>148.679993</td>\n",
       "      <td>149.369995</td>\n",
       "      <td>147.619995</td>\n",
       "      <td>148.639999</td>\n",
       "      <td>147.341965</td>\n",
       "      <td>50720600</td>\n",
       "      <td>NaN</td>\n",
       "      <td>NaN</td>\n",
       "      <td>NaN</td>\n",
       "    </tr>\n",
       "    <tr>\n",
       "      <th>2021-10-26</th>\n",
       "      <td>149.330002</td>\n",
       "      <td>150.839996</td>\n",
       "      <td>149.009995</td>\n",
       "      <td>149.320007</td>\n",
       "      <td>148.016037</td>\n",
       "      <td>60893400</td>\n",
       "      <td>NaN</td>\n",
       "      <td>NaN</td>\n",
       "      <td>NaN</td>\n",
       "    </tr>\n",
       "    <tr>\n",
       "      <th>2021-10-27</th>\n",
       "      <td>149.360001</td>\n",
       "      <td>149.729996</td>\n",
       "      <td>148.490005</td>\n",
       "      <td>148.850006</td>\n",
       "      <td>147.550140</td>\n",
       "      <td>56094900</td>\n",
       "      <td>NaN</td>\n",
       "      <td>NaN</td>\n",
       "      <td>NaN</td>\n",
       "    </tr>\n",
       "    <tr>\n",
       "      <th>2021-10-28</th>\n",
       "      <td>149.820007</td>\n",
       "      <td>153.169998</td>\n",
       "      <td>149.720001</td>\n",
       "      <td>152.570007</td>\n",
       "      <td>151.237656</td>\n",
       "      <td>100077900</td>\n",
       "      <td>NaN</td>\n",
       "      <td>NaN</td>\n",
       "      <td>NaN</td>\n",
       "    </tr>\n",
       "    <tr>\n",
       "      <th>...</th>\n",
       "      <td>...</td>\n",
       "      <td>...</td>\n",
       "      <td>...</td>\n",
       "      <td>...</td>\n",
       "      <td>...</td>\n",
       "      <td>...</td>\n",
       "      <td>...</td>\n",
       "      <td>...</td>\n",
       "      <td>...</td>\n",
       "    </tr>\n",
       "    <tr>\n",
       "      <th>2022-12-23</th>\n",
       "      <td>130.919998</td>\n",
       "      <td>132.419998</td>\n",
       "      <td>129.639999</td>\n",
       "      <td>131.860001</td>\n",
       "      <td>131.658981</td>\n",
       "      <td>63814900</td>\n",
       "      <td>136.839000</td>\n",
       "      <td>140.6610</td>\n",
       "      <td>143.646999</td>\n",
       "    </tr>\n",
       "    <tr>\n",
       "      <th>2022-12-27</th>\n",
       "      <td>131.380005</td>\n",
       "      <td>131.410004</td>\n",
       "      <td>128.720001</td>\n",
       "      <td>130.029999</td>\n",
       "      <td>129.831772</td>\n",
       "      <td>69007800</td>\n",
       "      <td>135.392999</td>\n",
       "      <td>139.9515</td>\n",
       "      <td>142.991332</td>\n",
       "    </tr>\n",
       "    <tr>\n",
       "      <th>2022-12-28</th>\n",
       "      <td>129.669998</td>\n",
       "      <td>131.029999</td>\n",
       "      <td>125.870003</td>\n",
       "      <td>126.040001</td>\n",
       "      <td>125.847855</td>\n",
       "      <td>85438400</td>\n",
       "      <td>133.449999</td>\n",
       "      <td>139.1950</td>\n",
       "      <td>142.249999</td>\n",
       "    </tr>\n",
       "    <tr>\n",
       "      <th>2022-12-29</th>\n",
       "      <td>127.989998</td>\n",
       "      <td>130.479996</td>\n",
       "      <td>127.730003</td>\n",
       "      <td>129.610001</td>\n",
       "      <td>129.412415</td>\n",
       "      <td>75703700</td>\n",
       "      <td>132.089999</td>\n",
       "      <td>138.2740</td>\n",
       "      <td>141.568999</td>\n",
       "    </tr>\n",
       "    <tr>\n",
       "      <th>2022-12-30</th>\n",
       "      <td>128.410004</td>\n",
       "      <td>129.949997</td>\n",
       "      <td>127.430000</td>\n",
       "      <td>129.929993</td>\n",
       "      <td>129.731918</td>\n",
       "      <td>76960600</td>\n",
       "      <td>131.432998</td>\n",
       "      <td>137.3550</td>\n",
       "      <td>140.940333</td>\n",
       "    </tr>\n",
       "  </tbody>\n",
       "</table>\n",
       "<p>300 rows × 9 columns</p>\n",
       "</div>"
      ],
      "text/plain": [
       "                  Open        High         Low       Close   Adj Close  \\\n",
       "Date                                                                     \n",
       "2021-10-22  149.690002  150.179993  148.639999  148.690002  147.391541   \n",
       "2021-10-25  148.679993  149.369995  147.619995  148.639999  147.341965   \n",
       "2021-10-26  149.330002  150.839996  149.009995  149.320007  148.016037   \n",
       "2021-10-27  149.360001  149.729996  148.490005  148.850006  147.550140   \n",
       "2021-10-28  149.820007  153.169998  149.720001  152.570007  151.237656   \n",
       "...                ...         ...         ...         ...         ...   \n",
       "2022-12-23  130.919998  132.419998  129.639999  131.860001  131.658981   \n",
       "2022-12-27  131.380005  131.410004  128.720001  130.029999  129.831772   \n",
       "2022-12-28  129.669998  131.029999  125.870003  126.040001  125.847855   \n",
       "2022-12-29  127.989998  130.479996  127.730003  129.610001  129.412415   \n",
       "2022-12-30  128.410004  129.949997  127.430000  129.929993  129.731918   \n",
       "\n",
       "               Volume       ma_10     ma_20       ma_30  \n",
       "Date                                                     \n",
       "2021-10-22   58883400         NaN       NaN         NaN  \n",
       "2021-10-25   50720600         NaN       NaN         NaN  \n",
       "2021-10-26   60893400         NaN       NaN         NaN  \n",
       "2021-10-27   56094900         NaN       NaN         NaN  \n",
       "2021-10-28  100077900         NaN       NaN         NaN  \n",
       "...               ...         ...       ...         ...  \n",
       "2022-12-23   63814900  136.839000  140.6610  143.646999  \n",
       "2022-12-27   69007800  135.392999  139.9515  142.991332  \n",
       "2022-12-28   85438400  133.449999  139.1950  142.249999  \n",
       "2022-12-29   75703700  132.089999  138.2740  141.568999  \n",
       "2022-12-30   76960600  131.432998  137.3550  140.940333  \n",
       "\n",
       "[300 rows x 9 columns]"
      ]
     },
     "execution_count": 10,
     "metadata": {},
     "output_type": "execute_result"
    }
   ],
   "source": [
    "aapl['ma_10']=aapl['Close'].rolling(window=10).mean()\n",
    "aapl['ma_20']=aapl['Close'].rolling(window=20).mean()\n",
    "aapl['ma_30']=aapl['Close'].rolling(window=30).mean()\n",
    "aapl"
   ]
  },
  {
   "cell_type": "code",
   "execution_count": 11,
   "id": "a33eaf64",
   "metadata": {},
   "outputs": [],
   "source": [
    "#5. Plot the moving averages against the price time series"
   ]
  },
  {
   "cell_type": "code",
   "execution_count": 12,
   "id": "393631a0",
   "metadata": {},
   "outputs": [
    {
     "data": {
      "text/plain": [
       "<matplotlib.legend.Legend at 0x7fd028c01700>"
      ]
     },
     "execution_count": 12,
     "metadata": {},
     "output_type": "execute_result"
    },
    {
     "data": {
      "image/png": "[encoded data removed]",
      "text/plain": [
       "<Figure size 432x288 with 1 Axes>"
      ]
     },
     "metadata": {
      "needs_background": "light"
     },
     "output_type": "display_data"
    }
   ],
   "source": [
    "plt.plot(aapl.ma_10,color='grey',label = \"Moving Average 10\")\n",
    "plt.plot(aapl.ma_20,color='red',label = \"Moving Average 20\")\n",
    "plt.plot(aapl.ma_30,color='blue',label = \"Moving Average 30\")\n",
    "plt.plot(aapl['Close'],color='green',label = \"Appl price time series\")\n",
    "plt.legend()"
   ]
  },
  {
   "cell_type": "code",
   "execution_count": 13,
   "id": "04192686",
   "metadata": {},
   "outputs": [],
   "source": [
    "#6. Compute the linear and log-return of the price time series"
   ]
  },
  {
   "cell_type": "code",
   "execution_count": 16,
   "id": "3a6f391c",
   "metadata": {},
   "outputs": [
    {
     "name": "stdout",
     "output_type": "stream",
     "text": [
      "Date\n",
      "2021-10-25   -0.000336\n",
      "2021-10-26    0.004564\n",
      "2021-10-27   -0.003153\n",
      "2021-10-28    0.024684\n",
      "2021-10-29   -0.018322\n",
      "                ...   \n",
      "2022-12-23   -0.002802\n",
      "2022-12-27   -0.013976\n",
      "2022-12-28   -0.031166\n",
      "2022-12-29    0.027931\n",
      "2022-12-30    0.002466\n",
      "Name: Close, Length: 299, dtype: float64\n",
      "Date\n",
      "2021-10-25   -0.000336\n",
      "2021-10-26    0.004575\n",
      "2021-10-27   -0.003148\n",
      "2021-10-28    0.024992\n",
      "2021-10-29   -0.018156\n",
      "                ...   \n",
      "2022-12-23   -0.002798\n",
      "2022-12-27   -0.013878\n",
      "2022-12-28   -0.030685\n",
      "2022-12-29    0.028324\n",
      "2022-12-30    0.002469\n",
      "Name: Close, Length: 299, dtype: float64\n"
     ]
    }
   ],
   "source": [
    "log_rets= (np.log(aapl.Close) - np.log(aapl.Close.shift(1))).dropna()\n",
    "print(log_rets)\n",
    "linear_rets = ((aapl.Close) /aapl.Close.shift(1) -1).dropna()\n",
    "print(linear_rets)"
   ]
  },
  {
   "cell_type": "code",
   "execution_count": 17,
   "id": "3cfc4017",
   "metadata": {},
   "outputs": [],
   "source": [
    "#7. Plot the linear return against the log-return time series"
   ]
  },
  {
   "cell_type": "code",
   "execution_count": 18,
   "id": "d80476d1",
   "metadata": {},
   "outputs": [
    {
     "data": {
      "text/plain": [
       "<matplotlib.legend.Legend at 0x7fd028d75d00>"
      ]
     },
     "execution_count": 18,
     "metadata": {},
     "output_type": "execute_result"
    },
    {
     "data": {
      "image/png": "[encoded data removed]",
      "text/plain": [
       "<Figure size 432x288 with 1 Axes>"
      ]
     },
     "metadata": {
      "needs_background": "light"
     },
     "output_type": "display_data"
    }
   ],
   "source": [
    "plt.plot(log_rets,color='red',label = \"Log-return time series\")\n",
    "plt.plot(linear_rets,color='blue',label = \"Linear return\")\n",
    "plt.legend()"
   ]
  },
  {
   "cell_type": "markdown",
   "id": "75bd0671",
   "metadata": {},
   "source": [
    "# Time Series Analysis"
   ]
  },
  {
   "cell_type": "code",
   "execution_count": 19,
   "id": "dccf7ee9",
   "metadata": {},
   "outputs": [],
   "source": [
    "import pandas\n",
    "%matplotlib inline\n",
    "import matplotlib.pyplot as plt\n",
    "import numpy as np\n",
    "\n",
    "from pandas_datareader import data as pdr\n",
    "\n",
    "import statsmodels\n",
    "import statsmodels.api as sm"
   ]
  },
  {
   "cell_type": "code",
   "execution_count": 20,
   "id": "a0ea918c",
   "metadata": {},
   "outputs": [],
   "source": [
    "#8. Define the auto-correlation function (for a stationary time-series)"
   ]
  },
  {
   "cell_type": "markdown",
   "id": "88e3b756",
   "metadata": {},
   "source": [
    "The mathematical formuala for autocorrelation function $\\rho_k =\\frac{Cov(e_t+e_{t+k })}{\\sigma^2}$, where the time series is stationary. This means that it doesn't depend on time. In time series, we calculate different time steps (lags) to find the correlations between the data points themselves. It is a way to find the correlation with itself.\n"
   ]
  },
  {
   "cell_type": "code",
   "execution_count": 21,
   "id": "5346394b",
   "metadata": {},
   "outputs": [],
   "source": [
    "#9. Compute the auto-correlation function (ACF) of the price time series"
   ]
  },
  {
   "cell_type": "code",
   "execution_count": 22,
   "id": "d7dcf864",
   "metadata": {},
   "outputs": [],
   "source": [
    "close_aapl = aapl['Close']\n",
    "acf_aapl = statsmodels.tsa.stattools.acf(close_aapl)"
   ]
  },
  {
   "cell_type": "code",
   "execution_count": 23,
   "id": "c9bfd9d0",
   "metadata": {},
   "outputs": [
    {
     "data": {
      "text/plain": [
       "array([1.        , 0.96078203, 0.92231115, 0.88743308, 0.85563346,\n",
       "       0.82588951, 0.7901401 , 0.75713222, 0.72314405, 0.69478986,\n",
       "       0.66498907, 0.64208303, 0.61657133, 0.59364492, 0.56789896,\n",
       "       0.53966434, 0.51482728, 0.49031151, 0.46810689, 0.44314312,\n",
       "       0.41798741, 0.39456291, 0.3707772 , 0.3462498 , 0.32195697])"
      ]
     },
     "execution_count": 23,
     "metadata": {},
     "output_type": "execute_result"
    }
   ],
   "source": [
    "acf_aapl"
   ]
  },
  {
   "cell_type": "code",
   "execution_count": 24,
   "id": "9ef89a19",
   "metadata": {},
   "outputs": [],
   "source": [
    "#10. Plot the price ACF"
   ]
  },
  {
   "cell_type": "code",
   "execution_count": 25,
   "id": "1409b390",
   "metadata": {},
   "outputs": [
    {
     "data": {
      "text/plain": [
       "[<matplotlib.lines.Line2D at 0x7fd03af84d60>]"
      ]
     },
     "execution_count": 25,
     "metadata": {},
     "output_type": "execute_result"
    },
    {
     "data": {
      "image/png": "[encoded data removed]",
      "text/plain": [
       "<Figure size 432x288 with 1 Axes>"
      ]
     },
     "metadata": {
      "needs_background": "light"
     },
     "output_type": "display_data"
    }
   ],
   "source": [
    "plt.plot(acf_aapl)"
   ]
  },
  {
   "cell_type": "code",
   "execution_count": 26,
   "id": "30bbcf60",
   "metadata": {},
   "outputs": [],
   "source": [
    "#11. Compute the partial auto-correlation function (PACF) of the price time series"
   ]
  },
  {
   "cell_type": "code",
   "execution_count": 27,
   "id": "716f69be",
   "metadata": {},
   "outputs": [],
   "source": [
    "pacf_aapl = statsmodels.tsa.stattools.pacf(close_aapl)"
   ]
  },
  {
   "cell_type": "code",
   "execution_count": 28,
   "id": "c45dfe1d",
   "metadata": {},
   "outputs": [
    {
     "data": {
      "text/plain": [
       "array([ 1.00000000e+00,  9.63995347e-01, -1.11135531e-02,  2.95916168e-02,\n",
       "        2.47577040e-02,  1.38258854e-02, -1.00221087e-01,  2.13166087e-02,\n",
       "       -4.02401459e-02,  5.89634750e-02, -4.36439158e-02,  9.91470506e-02,\n",
       "       -6.10178198e-02,  4.26563239e-02, -7.67253277e-02, -3.26090668e-02,\n",
       "       -5.69832273e-04,  8.43204206e-03, -6.18226250e-03, -2.57154310e-02,\n",
       "       -3.03552951e-02,  2.10796638e-02, -4.54695742e-02, -2.45173451e-02,\n",
       "       -2.04634680e-02])"
      ]
     },
     "execution_count": 28,
     "metadata": {},
     "output_type": "execute_result"
    }
   ],
   "source": [
    "pacf_aapl"
   ]
  },
  {
   "cell_type": "code",
   "execution_count": 29,
   "id": "7c7ecacf",
   "metadata": {},
   "outputs": [],
   "source": [
    "#12. Plot the price PACF"
   ]
  },
  {
   "cell_type": "code",
   "execution_count": 30,
   "id": "ffec6300",
   "metadata": {},
   "outputs": [
    {
     "data": {
      "text/plain": [
       "[<matplotlib.lines.Line2D at 0x7fd0080ea730>]"
      ]
     },
     "execution_count": 30,
     "metadata": {},
     "output_type": "execute_result"
    },
    {
     "data": {
      "image/png": "[encoded data removed]",
      "text/plain": [
       "<Figure size 432x288 with 1 Axes>"
      ]
     },
     "metadata": {
      "needs_background": "light"
     },
     "output_type": "display_data"
    }
   ],
   "source": [
    "plt.plot(pacf_aapl)"
   ]
  },
  {
   "cell_type": "code",
   "execution_count": 31,
   "id": "961cd5eb",
   "metadata": {},
   "outputs": [
    {
     "data": {
      "image/png": "[encoded data removed]",
      "text/plain": [
       "<Figure size 432x288 with 1 Axes>"
      ]
     },
     "metadata": {
      "needs_background": "light"
     },
     "output_type": "display_data"
    }
   ],
   "source": [
    "from statsmodels.graphics.tsaplots import plot_acf\n",
    "from statsmodels.graphics.tsaplots import plot_pacf\n",
    "plot_acf(close_aapl)\n",
    "\n",
    "plt.show()"
   ]
  },
  {
   "cell_type": "code",
   "execution_count": 32,
   "id": "e8882ba3",
   "metadata": {},
   "outputs": [
    {
     "data": {
      "image/png": "[encoded data removed]",
      "text/plain": [
       "<Figure size 432x288 with 1 Axes>"
      ]
     },
     "metadata": {
      "needs_background": "light"
     },
     "output_type": "display_data"
    }
   ],
   "source": [
    "plot_pacf(close_aapl) \n",
    "\n",
    "plt.show()"
   ]
  },
  {
   "cell_type": "code",
   "execution_count": 33,
   "id": "4b94e59a",
   "metadata": {},
   "outputs": [],
   "source": [
    "#13. Compute the auto-correlation function (ACF) of the return time series & plot"
   ]
  },
  {
   "cell_type": "code",
   "execution_count": 34,
   "id": "96818323",
   "metadata": {},
   "outputs": [],
   "source": [
    "r_aapl = close_aapl[1:]/close_aapl[:-1].values - 1"
   ]
  },
  {
   "cell_type": "code",
   "execution_count": 35,
   "id": "32e963a2",
   "metadata": {},
   "outputs": [
    {
     "name": "stdout",
     "output_type": "stream",
     "text": [
      "[ 1.         -0.01801462 -0.08718221 -0.01960651 -0.0191057   0.08848507\n",
      " -0.01422222 -0.02018797 -0.07695337  0.05369808 -0.10196786  0.0752438\n",
      " -0.02383973  0.03506303  0.01380465 -0.03494535 -0.01084757 -0.01309853\n",
      "  0.07785791  0.02084465 -0.00345969 -0.00330845 -0.03916822  0.02004293\n",
      "  0.02073833]\n"
     ]
    },
    {
     "data": {
      "image/png": "[encoded data removed]",
      "text/plain": [
       "<Figure size 432x288 with 1 Axes>"
      ]
     },
     "metadata": {
      "needs_background": "light"
     },
     "output_type": "display_data"
    }
   ],
   "source": [
    "r_acf_aapl = statsmodels.tsa.stattools.acf(r_aapl)\n",
    "print(r_acf_aapl)\n",
    "plt.plot(r_acf_aapl)\n",
    "plt.show()"
   ]
  },
  {
   "cell_type": "code",
   "execution_count": 36,
   "id": "2d8d53ca",
   "metadata": {},
   "outputs": [],
   "source": [
    "#15. Compute the partial auto-correlation function (PACF) of the return time series & plot"
   ]
  },
  {
   "cell_type": "code",
   "execution_count": 37,
   "id": "185aff33",
   "metadata": {},
   "outputs": [
    {
     "name": "stdout",
     "output_type": "stream",
     "text": [
      "[ 1.         -0.01807507 -0.0881248  -0.02331293 -0.0282349   0.08595187\n",
      " -0.0157805  -0.00664013 -0.08100703  0.05481646 -0.13009086  0.08944481\n",
      " -0.05032564  0.07293535 -0.01544449  0.00375587 -0.0447588   0.00660461\n",
      "  0.04432635  0.05365126 -0.0195119   0.04472588 -0.06912515  0.03525725\n",
      " -0.00941825]\n"
     ]
    },
    {
     "data": {
      "image/png": "[encoded data removed]",
      "text/plain": [
       "<Figure size 432x288 with 1 Axes>"
      ]
     },
     "metadata": {
      "needs_background": "light"
     },
     "output_type": "display_data"
    }
   ],
   "source": [
    "r_pacf_aapl = statsmodels.tsa.stattools.pacf(r_aapl)\n",
    "print(r_pacf_aapl)\n",
    "plt.plot(r_pacf_aapl)\n",
    "plt.show()"
   ]
  },
  {
   "cell_type": "code",
   "execution_count": 38,
   "id": "7a784013",
   "metadata": {},
   "outputs": [
    {
     "data": {
      "image/png": "[encoded data removed]",
      "text/plain": [
       "<Figure size 432x288 with 1 Axes>"
      ]
     },
     "metadata": {
      "needs_background": "light"
     },
     "output_type": "display_data"
    },
    {
     "data": {
      "image/png": "[encoded data removed]",
      "text/plain": [
       "<Figure size 432x288 with 1 Axes>"
      ]
     },
     "metadata": {
      "needs_background": "light"
     },
     "output_type": "display_data"
    }
   ],
   "source": [
    "plot_pacf(r_aapl,lags=10) \n",
    "plot_acf(r_aapl) \n",
    "plt.show()"
   ]
  },
  {
   "cell_type": "markdown",
   "id": "3ade1ae8",
   "metadata": {},
   "source": [
    "# ARMA models "
   ]
  },
  {
   "cell_type": "code",
   "execution_count": 39,
   "id": "374849be",
   "metadata": {},
   "outputs": [],
   "source": [
    "#17.Define mathematically an ARMA(p,q) model"
   ]
  },
  {
   "cell_type": "markdown",
   "id": "1f54282a",
   "metadata": {},
   "source": [
    "The definition is: $y_t-\\phi_1y_{t-1}-\\phi_2y_{t-2}-...\\phi_py_{t-p}=\\epsilon_t+\\theta_1\\epsilon_{t-1}+\\theta_q\\epsilon_{t-q}$, where p=AR terms and q=MA terms. $\\epsilon$ is the independent identically distributed white noise. It is a combination of Autoregressive model and moving average model."
   ]
  },
  {
   "cell_type": "code",
   "execution_count": null,
   "id": "73119f7e",
   "metadata": {},
   "outputs": [],
   "source": [
    "#18. Define a training and test set and fit an ARMA model to the price time series"
   ]
  },
  {
   "cell_type": "code",
   "execution_count": 40,
   "id": "0eca7dda",
   "metadata": {},
   "outputs": [],
   "source": [
    "from statsmodels.tsa.arima.model import ARIMA"
   ]
  },
  {
   "cell_type": "code",
   "execution_count": 41,
   "id": "217b2857",
   "metadata": {},
   "outputs": [],
   "source": [
    "X = close_aapl.values\n",
    "train, test = X[0:len(X)-60], X[len(X)-60:]"
   ]
  },
  {
   "cell_type": "code",
   "execution_count": 42,
   "id": "589f6309",
   "metadata": {},
   "outputs": [],
   "source": [
    "from statsmodels.tsa.stattools import adfuller"
   ]
  },
  {
   "cell_type": "code",
   "execution_count": 43,
   "id": "2bb457de",
   "metadata": {},
   "outputs": [
    {
     "name": "stdout",
     "output_type": "stream",
     "text": [
      "(-2.029036778972333, 0.2739883653246199, 0, 239, {'1%': -3.458010773719797, '5%': -2.8737103617125186, '10%': -2.5732559963936206}, 1173.5848239053494)\n"
     ]
    }
   ],
   "source": [
    "print(statsmodels.tsa.stattools.adfuller(train))#since the p-value is much larger than 5%, the data is not stationary."
   ]
  },
  {
   "cell_type": "code",
   "execution_count": 44,
   "id": "91b284de",
   "metadata": {},
   "outputs": [],
   "source": [
    "aapl_diff = aapl.diff()\n",
    "aapl_diff = aapl_diff.dropna()"
   ]
  },
  {
   "cell_type": "code",
   "execution_count": 45,
   "id": "358e0c57",
   "metadata": {},
   "outputs": [],
   "source": [
    "train_diff, test_diff = aapl_diff[0:len(aapl_diff)-60], aapl_diff[len(aapl_diff)-60:]\n",
    "#print(train_diff)"
   ]
  },
  {
   "cell_type": "code",
   "execution_count": 46,
   "id": "7956e7c7",
   "metadata": {},
   "outputs": [
    {
     "name": "stdout",
     "output_type": "stream",
     "text": [
      "(-14.465844957037602, 6.729262817716823e-27, 0, 209, {'1%': -3.4620315036789666, '5%': -2.8754705024827127, '10%': -2.5741950726860647}, 1021.0151401181902)\n"
     ]
    }
   ],
   "source": [
    "result_diff = adfuller(train_diff['Close'])\n",
    "print(result_diff)"
   ]
  },
  {
   "cell_type": "code",
   "execution_count": 47,
   "id": "6f6ddf10",
   "metadata": {},
   "outputs": [],
   "source": [
    "#use aic rule to find the optimal model\n",
    "\n",
    "import pmdarima as pmd\n",
    "\n",
    "def arimamodel(timeseriesarray):\n",
    "    autoarima_model = pmd.auto_arima(timeseriesarray, \n",
    "                              start_p=0, \n",
    "                              start_q=0,\n",
    "                              trace=True)\n",
    "    return autoarima_model"
   ]
  },
  {
   "cell_type": "code",
   "execution_count": 48,
   "id": "f5e12df9",
   "metadata": {},
   "outputs": [
    {
     "name": "stdout",
     "output_type": "stream",
     "text": [
      "Performing stepwise search to minimize aic\n",
      " ARIMA(0,1,0)(0,0,0)[0] intercept   : AIC=1244.400, Time=0.04 sec\n",
      " ARIMA(1,1,0)(0,0,0)[0] intercept   : AIC=1246.400, Time=0.02 sec\n",
      " ARIMA(0,1,1)(0,0,0)[0] intercept   : AIC=1246.400, Time=0.02 sec\n",
      " ARIMA(0,1,0)(0,0,0)[0]             : AIC=1242.402, Time=0.01 sec\n",
      " ARIMA(1,1,1)(0,0,0)[0] intercept   : AIC=1248.170, Time=0.05 sec\n",
      "\n",
      "Best model:  ARIMA(0,1,0)(0,0,0)[0]          \n",
      "Total fit time: 0.146 seconds\n"
     ]
    },
    {
     "data": {
      "text/html": [
       "<table class=\"simpletable\">\n",
       "<caption>SARIMAX Results</caption>\n",
       "<tr>\n",
       "  <th>Dep. Variable:</th>           <td>y</td>        <th>  No. Observations:  </th>    <td>240</td>  \n",
       "</tr>\n",
       "<tr>\n",
       "  <th>Model:</th>           <td>SARIMAX(0, 1, 0)</td> <th>  Log Likelihood     </th> <td>-620.201</td>\n",
       "</tr>\n",
       "<tr>\n",
       "  <th>Date:</th>            <td>Fri, 17 Feb 2023</td> <th>  AIC                </th> <td>1242.402</td>\n",
       "</tr>\n",
       "<tr>\n",
       "  <th>Time:</th>                <td>16:55:58</td>     <th>  BIC                </th> <td>1245.879</td>\n",
       "</tr>\n",
       "<tr>\n",
       "  <th>Sample:</th>                  <td>0</td>        <th>  HQIC               </th> <td>1243.803</td>\n",
       "</tr>\n",
       "<tr>\n",
       "  <th></th>                      <td> - 240</td>      <th>                     </th>     <td> </td>   \n",
       "</tr>\n",
       "<tr>\n",
       "  <th>Covariance Type:</th>        <td>opg</td>       <th>                     </th>     <td> </td>   \n",
       "</tr>\n",
       "</table>\n",
       "<table class=\"simpletable\">\n",
       "<tr>\n",
       "     <td></td>       <th>coef</th>     <th>std err</th>      <th>z</th>      <th>P>|z|</th>  <th>[0.025</th>    <th>0.975]</th>  \n",
       "</tr>\n",
       "<tr>\n",
       "  <th>sigma2</th> <td>   10.5075</td> <td>    0.903</td> <td>   11.630</td> <td> 0.000</td> <td>    8.737</td> <td>   12.278</td>\n",
       "</tr>\n",
       "</table>\n",
       "<table class=\"simpletable\">\n",
       "<tr>\n",
       "  <th>Ljung-Box (L1) (Q):</th>     <td>0.00</td> <th>  Jarque-Bera (JB):  </th> <td>1.50</td> \n",
       "</tr>\n",
       "<tr>\n",
       "  <th>Prob(Q):</th>                <td>1.00</td> <th>  Prob(JB):          </th> <td>0.47</td> \n",
       "</tr>\n",
       "<tr>\n",
       "  <th>Heteroskedasticity (H):</th> <td>1.08</td> <th>  Skew:              </th> <td>-0.14</td>\n",
       "</tr>\n",
       "<tr>\n",
       "  <th>Prob(H) (two-sided):</th>    <td>0.73</td> <th>  Kurtosis:          </th> <td>3.26</td> \n",
       "</tr>\n",
       "</table><br/><br/>Warnings:<br/>[1] Covariance matrix calculated using the outer product of gradients (complex-step)."
      ],
      "text/plain": [
       "<class 'statsmodels.iolib.summary.Summary'>\n",
       "\"\"\"\n",
       "                               SARIMAX Results                                \n",
       "==============================================================================\n",
       "Dep. Variable:                      y   No. Observations:                  240\n",
       "Model:               SARIMAX(0, 1, 0)   Log Likelihood                -620.201\n",
       "Date:                Fri, 17 Feb 2023   AIC                           1242.402\n",
       "Time:                        16:55:58   BIC                           1245.879\n",
       "Sample:                             0   HQIC                          1243.803\n",
       "                                - 240                                         \n",
       "Covariance Type:                  opg                                         \n",
       "==============================================================================\n",
       "                 coef    std err          z      P>|z|      [0.025      0.975]\n",
       "------------------------------------------------------------------------------\n",
       "sigma2        10.5075      0.903     11.630      0.000       8.737      12.278\n",
       "===================================================================================\n",
       "Ljung-Box (L1) (Q):                   0.00   Jarque-Bera (JB):                 1.50\n",
       "Prob(Q):                              1.00   Prob(JB):                         0.47\n",
       "Heteroskedasticity (H):               1.08   Skew:                            -0.14\n",
       "Prob(H) (two-sided):                  0.73   Kurtosis:                         3.26\n",
       "===================================================================================\n",
       "\n",
       "Warnings:\n",
       "[1] Covariance matrix calculated using the outer product of gradients (complex-step).\n",
       "\"\"\""
      ]
     },
     "execution_count": 48,
     "metadata": {},
     "output_type": "execute_result"
    }
   ],
   "source": [
    "arima_model = arimamodel(train)\n",
    "arima_model.summary()"
   ]
  },
  {
   "cell_type": "code",
   "execution_count": 49,
   "id": "078b20bc",
   "metadata": {},
   "outputs": [],
   "source": [
    "model = ARIMA(train, order=(0,1,0))\n",
    "model_fit = model.fit()"
   ]
  },
  {
   "cell_type": "code",
   "execution_count": 52,
   "id": "93ed7a86",
   "metadata": {},
   "outputs": [],
   "source": [
    "#19. Display the parameters of the model and its Mean Squared Error (MSE) in the training set and in the test set"
   ]
  },
  {
   "cell_type": "code",
   "execution_count": 53,
   "id": "2ac5551c",
   "metadata": {},
   "outputs": [],
   "source": [
    "from sklearn.metrics import mean_squared_error"
   ]
  },
  {
   "cell_type": "code",
   "execution_count": 54,
   "id": "fd01f0bc",
   "metadata": {},
   "outputs": [
    {
     "name": "stdout",
     "output_type": "stream",
     "text": [
      "Coefficients: [10.50751083]\n",
      "Test MSE: 58.834\n",
      "Train MSE: 102.583\n"
     ]
    }
   ],
   "source": [
    "print('Coefficients: %s' % model_fit.params)\n",
    "# make predictions\n",
    "predictions = model_fit.forecast(steps=len(test))\n",
    "error = mean_squared_error(test,predictions)\n",
    "\n",
    "predictions_train = model_fit.predict(start=0, end=239)\n",
    "error_train = mean_squared_error(train,predictions_train)\n",
    "print('Test MSE: %.3f' % error)\n",
    "print('Train MSE: %.3f' % error_train)"
   ]
  },
  {
   "cell_type": "code",
   "execution_count": 55,
   "id": "a0fc268e",
   "metadata": {},
   "outputs": [
    {
     "data": {
      "text/plain": [
       "array([146.3999939, 146.3999939, 146.3999939, 146.3999939, 146.3999939,\n",
       "       146.3999939, 146.3999939, 146.3999939, 146.3999939, 146.3999939,\n",
       "       146.3999939, 146.3999939, 146.3999939, 146.3999939, 146.3999939,\n",
       "       146.3999939, 146.3999939, 146.3999939, 146.3999939, 146.3999939,\n",
       "       146.3999939, 146.3999939, 146.3999939, 146.3999939, 146.3999939,\n",
       "       146.3999939, 146.3999939, 146.3999939, 146.3999939, 146.3999939,\n",
       "       146.3999939, 146.3999939, 146.3999939, 146.3999939, 146.3999939,\n",
       "       146.3999939, 146.3999939, 146.3999939, 146.3999939, 146.3999939,\n",
       "       146.3999939, 146.3999939, 146.3999939, 146.3999939, 146.3999939,\n",
       "       146.3999939, 146.3999939, 146.3999939, 146.3999939, 146.3999939,\n",
       "       146.3999939, 146.3999939, 146.3999939, 146.3999939, 146.3999939,\n",
       "       146.3999939, 146.3999939, 146.3999939, 146.3999939, 146.3999939])"
      ]
     },
     "execution_count": 55,
     "metadata": {},
     "output_type": "execute_result"
    }
   ],
   "source": [
    "predictions"
   ]
  },
  {
   "cell_type": "code",
   "execution_count": 56,
   "id": "c563b31f",
   "metadata": {},
   "outputs": [],
   "source": [
    "#20. Plot the price time series vs the ARMA forecast in the test set"
   ]
  },
  {
   "cell_type": "code",
   "execution_count": 57,
   "id": "8fa8db92",
   "metadata": {},
   "outputs": [
    {
     "data": {
      "text/plain": [
       "<matplotlib.legend.Legend at 0x7fd03b26e4f0>"
      ]
     },
     "execution_count": 57,
     "metadata": {},
     "output_type": "execute_result"
    },
    {
     "data": {
      "image/png": "[encoded data removed]",
      "text/plain": [
       "<Figure size 432x288 with 1 Axes>"
      ]
     },
     "metadata": {
      "needs_background": "light"
     },
     "output_type": "display_data"
    }
   ],
   "source": [
    "plt.plot(predictions,color='grey',label='predictions')\n",
    "#plt.plot(aapl['Close'].values,color='red')\n",
    "plt.plot(test,color='red',label='test')\n",
    "plt.legend(loc='upper right')"
   ]
  },
  {
   "cell_type": "code",
   "execution_count": 58,
   "id": "cd466fc8",
   "metadata": {},
   "outputs": [],
   "source": [
    "#21. Fit an ARMA model to the return time series"
   ]
  },
  {
   "cell_type": "code",
   "execution_count": 59,
   "id": "cb877296",
   "metadata": {},
   "outputs": [
    {
     "name": "stdout",
     "output_type": "stream",
     "text": [
      "239\n"
     ]
    }
   ],
   "source": [
    "X = linear_rets.values\n",
    "train2, test2 = X[0:len(X)-60], X[len(X)-60:]\n",
    "print(len(train2))"
   ]
  },
  {
   "cell_type": "code",
   "execution_count": 60,
   "id": "4198be3f",
   "metadata": {},
   "outputs": [
    {
     "name": "stdout",
     "output_type": "stream",
     "text": [
      "(-15.328767517769844, 3.972059672836943e-28, 0, 238, {'1%': -3.458128284586202, '5%': -2.873761835239286, '10%': -2.5732834559706235}, -1083.8652746599384)\n"
     ]
    }
   ],
   "source": [
    "print(statsmodels.tsa.stattools.adfuller(train2))"
   ]
  },
  {
   "cell_type": "code",
   "execution_count": 61,
   "id": "0a8bf187",
   "metadata": {},
   "outputs": [
    {
     "name": "stdout",
     "output_type": "stream",
     "text": [
      "Performing stepwise search to minimize aic\n",
      " ARIMA(0,0,0)(0,0,0)[0] intercept   : AIC=-1174.204, Time=0.05 sec\n",
      " ARIMA(1,0,0)(0,0,0)[0] intercept   : AIC=-1172.205, Time=0.04 sec\n",
      " ARIMA(0,0,1)(0,0,0)[0] intercept   : AIC=-1172.205, Time=0.03 sec\n",
      " ARIMA(0,0,0)(0,0,0)[0]             : AIC=-1176.192, Time=0.01 sec\n",
      " ARIMA(1,0,1)(0,0,0)[0] intercept   : AIC=-1170.243, Time=0.07 sec\n",
      "\n",
      "Best model:  ARIMA(0,0,0)(0,0,0)[0]          \n",
      "Total fit time: 0.230 seconds\n"
     ]
    },
    {
     "data": {
      "text/html": [
       "<table class=\"simpletable\">\n",
       "<caption>SARIMAX Results</caption>\n",
       "<tr>\n",
       "  <th>Dep. Variable:</th>           <td>y</td>        <th>  No. Observations:  </th>    <td>239</td>   \n",
       "</tr>\n",
       "<tr>\n",
       "  <th>Model:</th>                <td>SARIMAX</td>     <th>  Log Likelihood     </th>  <td>589.096</td> \n",
       "</tr>\n",
       "<tr>\n",
       "  <th>Date:</th>            <td>Fri, 17 Feb 2023</td> <th>  AIC                </th> <td>-1176.192</td>\n",
       "</tr>\n",
       "<tr>\n",
       "  <th>Time:</th>                <td>16:58:48</td>     <th>  BIC                </th> <td>-1172.716</td>\n",
       "</tr>\n",
       "<tr>\n",
       "  <th>Sample:</th>                  <td>0</td>        <th>  HQIC               </th> <td>-1174.791</td>\n",
       "</tr>\n",
       "<tr>\n",
       "  <th></th>                      <td> - 239</td>      <th>                     </th>     <td> </td>    \n",
       "</tr>\n",
       "<tr>\n",
       "  <th>Covariance Type:</th>        <td>opg</td>       <th>                     </th>     <td> </td>    \n",
       "</tr>\n",
       "</table>\n",
       "<table class=\"simpletable\">\n",
       "<tr>\n",
       "     <td></td>       <th>coef</th>     <th>std err</th>      <th>z</th>      <th>P>|z|</th>  <th>[0.025</th>    <th>0.975]</th>  \n",
       "</tr>\n",
       "<tr>\n",
       "  <th>sigma2</th> <td>    0.0004</td> <td> 3.64e-05</td> <td>   11.619</td> <td> 0.000</td> <td>    0.000</td> <td>    0.000</td>\n",
       "</tr>\n",
       "</table>\n",
       "<table class=\"simpletable\">\n",
       "<tr>\n",
       "  <th>Ljung-Box (L1) (Q):</th>     <td>0.00</td> <th>  Jarque-Bera (JB):  </th> <td>1.48</td> \n",
       "</tr>\n",
       "<tr>\n",
       "  <th>Prob(Q):</th>                <td>0.97</td> <th>  Prob(JB):          </th> <td>0.48</td> \n",
       "</tr>\n",
       "<tr>\n",
       "  <th>Heteroskedasticity (H):</th> <td>1.30</td> <th>  Skew:              </th> <td>-0.14</td>\n",
       "</tr>\n",
       "<tr>\n",
       "  <th>Prob(H) (two-sided):</th>    <td>0.24</td> <th>  Kurtosis:          </th> <td>3.26</td> \n",
       "</tr>\n",
       "</table><br/><br/>Warnings:<br/>[1] Covariance matrix calculated using the outer product of gradients (complex-step)."
      ],
      "text/plain": [
       "<class 'statsmodels.iolib.summary.Summary'>\n",
       "\"\"\"\n",
       "                               SARIMAX Results                                \n",
       "==============================================================================\n",
       "Dep. Variable:                      y   No. Observations:                  239\n",
       "Model:                        SARIMAX   Log Likelihood                 589.096\n",
       "Date:                Fri, 17 Feb 2023   AIC                          -1176.192\n",
       "Time:                        16:58:48   BIC                          -1172.716\n",
       "Sample:                             0   HQIC                         -1174.791\n",
       "                                - 239                                         \n",
       "Covariance Type:                  opg                                         \n",
       "==============================================================================\n",
       "                 coef    std err          z      P>|z|      [0.025      0.975]\n",
       "------------------------------------------------------------------------------\n",
       "sigma2         0.0004   3.64e-05     11.619      0.000       0.000       0.000\n",
       "===================================================================================\n",
       "Ljung-Box (L1) (Q):                   0.00   Jarque-Bera (JB):                 1.48\n",
       "Prob(Q):                              0.97   Prob(JB):                         0.48\n",
       "Heteroskedasticity (H):               1.30   Skew:                            -0.14\n",
       "Prob(H) (two-sided):                  0.24   Kurtosis:                         3.26\n",
       "===================================================================================\n",
       "\n",
       "Warnings:\n",
       "[1] Covariance matrix calculated using the outer product of gradients (complex-step).\n",
       "\"\"\""
      ]
     },
     "execution_count": 61,
     "metadata": {},
     "output_type": "execute_result"
    }
   ],
   "source": [
    "arima_model2 = arimamodel(train2)\n",
    "arima_model2.summary()"
   ]
  },
  {
   "cell_type": "code",
   "execution_count": 62,
   "id": "4834a37c",
   "metadata": {},
   "outputs": [],
   "source": [
    "model2 = ARIMA(train2, order=(0,0,0))\n",
    "model_fit2 = model2.fit()"
   ]
  },
  {
   "cell_type": "code",
   "execution_count": 63,
   "id": "9931996c",
   "metadata": {},
   "outputs": [],
   "source": [
    "#22. Display the parameters of the model and its Mean Squared Error (MSE) in the training set and in the test set"
   ]
  },
  {
   "cell_type": "code",
   "execution_count": 65,
   "id": "02496728",
   "metadata": {},
   "outputs": [
    {
     "name": "stdout",
     "output_type": "stream",
     "text": [
      "Coefficients: [0.00014218 0.00042303]\n",
      "Test MSE: 0.00064\n",
      "Train MSE: 0.00042\n"
     ]
    }
   ],
   "source": [
    "print('Coefficients: %s' % model_fit2.params)\n",
    "# make predictions\n",
    "predictions2 = model_fit2.forecast(steps=len(test2))\n",
    "error2 = mean_squared_error(test2,predictions2)\n",
    "print('Test MSE: %.5f' % error2)\n",
    "\n",
    "predictions_train2 = model_fit2.predict(start=0, end=238)\n",
    "error_train2 = mean_squared_error(train2,predictions_train2)\n",
    "print('Train MSE: %.5f' % error_train2)"
   ]
  },
  {
   "cell_type": "code",
   "execution_count": 66,
   "id": "fca929b6",
   "metadata": {},
   "outputs": [
    {
     "data": {
      "text/plain": [
       "array([0.00014218, 0.00014218, 0.00014218, 0.00014218, 0.00014218,\n",
       "       0.00014218, 0.00014218, 0.00014218, 0.00014218, 0.00014218,\n",
       "       0.00014218, 0.00014218, 0.00014218, 0.00014218, 0.00014218,\n",
       "       0.00014218, 0.00014218, 0.00014218, 0.00014218, 0.00014218,\n",
       "       0.00014218, 0.00014218, 0.00014218, 0.00014218, 0.00014218,\n",
       "       0.00014218, 0.00014218, 0.00014218, 0.00014218, 0.00014218,\n",
       "       0.00014218, 0.00014218, 0.00014218, 0.00014218, 0.00014218,\n",
       "       0.00014218, 0.00014218, 0.00014218, 0.00014218, 0.00014218,\n",
       "       0.00014218, 0.00014218, 0.00014218, 0.00014218, 0.00014218,\n",
       "       0.00014218, 0.00014218, 0.00014218, 0.00014218, 0.00014218,\n",
       "       0.00014218, 0.00014218, 0.00014218, 0.00014218, 0.00014218,\n",
       "       0.00014218, 0.00014218, 0.00014218, 0.00014218, 0.00014218])"
      ]
     },
     "execution_count": 66,
     "metadata": {},
     "output_type": "execute_result"
    }
   ],
   "source": [
    "predictions2"
   ]
  },
  {
   "cell_type": "code",
   "execution_count": 67,
   "id": "0cf2ff22",
   "metadata": {},
   "outputs": [],
   "source": [
    "#23. Plot the return time series vs the ARMA forecast in the test set"
   ]
  },
  {
   "cell_type": "code",
   "execution_count": 68,
   "id": "a597bdc8",
   "metadata": {},
   "outputs": [
    {
     "data": {
      "text/plain": [
       "<matplotlib.legend.Legend at 0x7fd049fafd60>"
      ]
     },
     "execution_count": 68,
     "metadata": {},
     "output_type": "execute_result"
    },
    {
     "data": {
      "image/png": "[encoded data removed]",
      "text/plain": [
       "<Figure size 432x288 with 1 Axes>"
      ]
     },
     "metadata": {
      "needs_background": "light"
     },
     "output_type": "display_data"
    }
   ],
   "source": [
    "plt.plot(predictions2,color='grey',label='prediction')\n",
    "plt.plot(test2,color='red',label='test')\n",
    "plt.legend()"
   ]
  },
  {
   "cell_type": "code",
   "execution_count": 69,
   "id": "c601bc56",
   "metadata": {},
   "outputs": [],
   "source": [
    "#24. Introduce mathematically a Gaussianity test"
   ]
  },
  {
   "cell_type": "markdown",
   "id": "32233a11",
   "metadata": {},
   "source": [
    "The Gaussianity test was used to check if the data follows normal distribution. It uses covariance of paris of different orders. Null hypothesis: data follows normal distribution. The statistics that evaluated in Gaussianity test is: \n",
    "\n",
    "$W = \\frac{(\\sum_{i}^{T} a_i *r_{(i)})^2} {\\sum_{i}^{T} (r_{(i)} -\\mu)^2}$\n",
    "\n",
    "where $r_{(i)}$ is the i-th smallest value in the sample such that:\n",
    "$a_i=\\frac{m^T V^{-1}}{N}$\n",
    "\n",
    "N is a normalization factor such that $\\sum_{i} (a_i)^2 =1 $\n",
    "\n",
    "m=vector of expected values of all order statistics in a Gaussian distribution\n",
    "\n",
    "V=expected covariance of pairs of order statistics\n",
    "\n",
    "After sorting the data, we calculate the statistics W and its p-value.\n"
   ]
  },
  {
   "cell_type": "code",
   "execution_count": 70,
   "id": "53253643",
   "metadata": {},
   "outputs": [],
   "source": [
    "#25. Perform a Gaussianity test of the return time series"
   ]
  },
  {
   "cell_type": "code",
   "execution_count": 71,
   "id": "6ec208d1",
   "metadata": {},
   "outputs": [
    {
     "name": "stdout",
     "output_type": "stream",
     "text": [
      "Statistics=0.987, p=0.009\n",
      "Sample does not look Gaussian (reject H0)\n"
     ]
    }
   ],
   "source": [
    "# Shapiro-Wilk Test\n",
    "from numpy.random import seed\n",
    "from numpy.random import randn\n",
    "from scipy.stats import shapiro\n",
    "# seed the random number generator\n",
    "seed(1)\n",
    "\n",
    "# generate univariate observations\n",
    "# normality test\n",
    "stat, p = shapiro(r_aapl)\n",
    "\n",
    "print('Statistics=%.3f, p=%.3f' % (stat, p))\n",
    "\n",
    "# interpret\n",
    "alpha = 0.05\n",
    "\n",
    "if p > alpha:\n",
    "    print('Sample looks Gaussian (fail to reject H0)')\n",
    "else:\n",
    "    print('Sample does not look Gaussian (reject H0)')"
   ]
  },
  {
   "cell_type": "code",
   "execution_count": 72,
   "id": "d3bc5216",
   "metadata": {},
   "outputs": [],
   "source": [
    "#26. Introduce mathematically a stationarity test"
   ]
  },
  {
   "cell_type": "markdown",
   "id": "ebd33b9f",
   "metadata": {},
   "source": [
    "If the time series data is stationary, it means the data don't depend on time. It has two types of stationarity:\n",
    "\n",
    "i) Strong stationarity:$(y_1,y_2,..y_n)=(y_{1+\\tau},y_{2+\\tau},...y_{n+\\tau})$ in distribution.\n",
    "\n",
    "ii) Weak stationarity: \n",
    "\n",
    "$E(y_t)=\\mu$; \n",
    "\n",
    "$Var(y_t)=E[(y_t -\\mu)^2]=\\sigma^2$;\n",
    "\n",
    "$Cov[y_t,y_{t-\\tau}]=E[(y_t-\\mu)(y_{t-\\tau}-\\mu)]=C(\\tau)$\n",
    "\n",
    "For strong stationary, it means any joint distribution of any moments never depends on time, it is a very strict condition. However, for weak stationary, it only has constant mean, constant variance and constant covariance, and other condition could change over time, which means it is less strict."
   ]
  },
  {
   "cell_type": "code",
   "execution_count": 73,
   "id": "9529ee59",
   "metadata": {},
   "outputs": [],
   "source": [
    "#27. Perform a stationarity test of the return time series"
   ]
  },
  {
   "cell_type": "code",
   "execution_count": 74,
   "id": "e3267529",
   "metadata": {},
   "outputs": [
    {
     "name": "stdout",
     "output_type": "stream",
     "text": [
      "(-13.339634511264338, 5.955772435682521e-25, 1, 297, {'1%': -3.4525611751768914, '5%': -2.87132117782556, '10%': -2.5719816428028888}, -1345.6376372426216)\n"
     ]
    }
   ],
   "source": [
    "print(statsmodels.tsa.stattools.adfuller(r_aapl))"
   ]
  },
  {
   "cell_type": "code",
   "execution_count": null,
   "id": "641fc485",
   "metadata": {},
   "outputs": [],
   "source": [
    "#since the p-value is much smaller than 5%, then we can reject it and thus the data is stationary."
   ]
  }
 ],
 "metadata": {
  "kernelspec": {
   "display_name": "Python 3 (ipykernel)",
   "language": "python",
   "name": "python3"
  },
  "language_info": {
   "codemirror_mode": {
    "name": "ipython",
    "version": 3
   },
   "file_extension": ".py",
   "mimetype": "text/x-python",
   "name": "python",
   "nbconvert_exporter": "python",
   "pygments_lexer": "ipython3",
   "version": "3.9.12"
  }
 },
 "nbformat": 4,
 "nbformat_minor": 5
}
